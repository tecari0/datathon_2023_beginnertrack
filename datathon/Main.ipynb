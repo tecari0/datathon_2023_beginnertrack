{
 "cells": [
  {
   "cell_type": "code",
   "execution_count": 85,
   "metadata": {},
   "outputs": [
    {
     "name": "stdout",
     "output_type": "stream",
     "text": [
      "NaN            8810\n",
      "727823-3080       1\n",
      "Name: Column_D, dtype: int64\n"
     ]
    }
   ],
   "source": [
    "import pandas as pd\n",
    "#df2 = pd.read_csv('sc-est2019-agesex-civ.csv')\n",
    "from Clear_Column.ipynb import sort_column_NaN_last\n",
    "\n"
   ]
  },
  {
   "cell_type": "code",
   "execution_count": null,
   "metadata": {},
   "outputs": [],
   "source": []
  },
  {
   "cell_type": "code",
   "execution_count": null,
   "metadata": {},
   "outputs": [],
   "source": []
  }
 ],
 "metadata": {
  "kernelspec": {
   "display_name": "base",
   "language": "python",
   "name": "python3"
  },
  "language_info": {
   "codemirror_mode": {
    "name": "ipython",
    "version": 3
   },
   "file_extension": ".py",
   "mimetype": "text/x-python",
   "name": "python",
   "nbconvert_exporter": "python",
   "pygments_lexer": "ipython3",
   "version": "3.9.13 (main, Aug 25 2022, 18:29:29) \n[Clang 12.0.0 ]"
  },
  "orig_nbformat": 4,
  "vscode": {
   "interpreter": {
    "hash": "c683adaff7d39edece3d9b29c0f015e5ed01db8984d2a591b7486043b1a59aa5"
   }
  }
 },
 "nbformat": 4,
 "nbformat_minor": 2
}
