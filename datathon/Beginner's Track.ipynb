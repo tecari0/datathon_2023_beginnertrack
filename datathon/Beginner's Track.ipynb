{
 "cells": [
  {
   "cell_type": "code",
   "execution_count": 434,
   "id": "6ece3307",
   "metadata": {},
   "outputs": [
    {
     "name": "stdout",
     "output_type": "stream",
     "text": [
      "Requirement already satisfied: plotly-express in /Users/benjaminmao/opt/anaconda3/envs/Pandas/lib/python3.9/site-packages (0.4.1)\n",
      "Requirement already satisfied: patsy>=0.5 in /Users/benjaminmao/opt/anaconda3/envs/Pandas/lib/python3.9/site-packages (from plotly-express) (0.5.3)\n",
      "Requirement already satisfied: plotly>=4.1.0 in /Users/benjaminmao/opt/anaconda3/envs/Pandas/lib/python3.9/site-packages (from plotly-express) (5.13.0)\n",
      "Requirement already satisfied: scipy>=0.18 in /Users/benjaminmao/opt/anaconda3/envs/Pandas/lib/python3.9/site-packages (from plotly-express) (1.10.0)\n",
      "Requirement already satisfied: statsmodels>=0.9.0 in /Users/benjaminmao/opt/anaconda3/envs/Pandas/lib/python3.9/site-packages (from plotly-express) (0.13.5)\n",
      "Requirement already satisfied: numpy>=1.11 in /Users/benjaminmao/opt/anaconda3/envs/Pandas/lib/python3.9/site-packages (from plotly-express) (1.23.5)\n",
      "Requirement already satisfied: pandas>=0.20.0 in /Users/benjaminmao/opt/anaconda3/envs/Pandas/lib/python3.9/site-packages (from plotly-express) (1.5.2)\n",
      "Requirement already satisfied: python-dateutil>=2.8.1 in /Users/benjaminmao/opt/anaconda3/envs/Pandas/lib/python3.9/site-packages (from pandas>=0.20.0->plotly-express) (2.8.2)\n",
      "Requirement already satisfied: pytz>=2020.1 in /Users/benjaminmao/opt/anaconda3/envs/Pandas/lib/python3.9/site-packages (from pandas>=0.20.0->plotly-express) (2022.7)\n",
      "Requirement already satisfied: six in /Users/benjaminmao/opt/anaconda3/envs/Pandas/lib/python3.9/site-packages (from patsy>=0.5->plotly-express) (1.16.0)\n",
      "Requirement already satisfied: tenacity>=6.2.0 in /Users/benjaminmao/opt/anaconda3/envs/Pandas/lib/python3.9/site-packages (from plotly>=4.1.0->plotly-express) (8.1.0)\n",
      "Requirement already satisfied: packaging>=21.3 in /Users/benjaminmao/opt/anaconda3/envs/Pandas/lib/python3.9/site-packages (from statsmodels>=0.9.0->plotly-express) (22.0)\n",
      "Note: you may need to restart the kernel to use updated packages.\n"
     ]
    }
   ],
   "source": [
    "pip install plotly-express\n"
   ]
  },
  {
   "cell_type": "code",
   "execution_count": 435,
   "id": "d9d4ae62",
   "metadata": {},
   "outputs": [],
   "source": [
    "import pandas as pd \n",
    "\n",
    "df = pd.read_csv(r'/Users/benjaminmao/Desktop/Rice/Freshman Second Semester/Datathon/Datathon1.csv')"
   ]
  },
  {
   "cell_type": "code",
   "execution_count": 436,
   "id": "ba7a5b94",
   "metadata": {},
   "outputs": [
    {
     "data": {
      "text/html": [
       "<div>\n",
       "<style scoped>\n",
       "    .dataframe tbody tr th:only-of-type {\n",
       "        vertical-align: middle;\n",
       "    }\n",
       "\n",
       "    .dataframe tbody tr th {\n",
       "        vertical-align: top;\n",
       "    }\n",
       "\n",
       "    .dataframe thead th {\n",
       "        text-align: right;\n",
       "    }\n",
       "</style>\n",
       "<table border=\"1\" class=\"dataframe\">\n",
       "  <thead>\n",
       "    <tr style=\"text-align: right;\">\n",
       "      <th></th>\n",
       "      <th>state_name</th>\n",
       "      <th>state_code</th>\n",
       "      <th>CF</th>\n",
       "      <th>expected_value</th>\n",
       "      <th>total_NCF</th>\n",
       "      <th>NCF</th>\n",
       "      <th>CF_percentage</th>\n",
       "    </tr>\n",
       "  </thead>\n",
       "  <tbody>\n",
       "    <tr>\n",
       "      <th>0</th>\n",
       "      <td>Alabama</td>\n",
       "      <td>AL</td>\n",
       "      <td>141</td>\n",
       "      <td>4189.826321</td>\n",
       "      <td>1000</td>\n",
       "      <td>10.133484</td>\n",
       "      <td>0.010133</td>\n",
       "    </tr>\n",
       "    <tr>\n",
       "      <th>1</th>\n",
       "      <td>Alaska</td>\n",
       "      <td>AK</td>\n",
       "      <td>33</td>\n",
       "      <td>482.790570</td>\n",
       "      <td>1000</td>\n",
       "      <td>-15.585001</td>\n",
       "      <td>-0.015585</td>\n",
       "    </tr>\n",
       "    <tr>\n",
       "      <th>2</th>\n",
       "      <td>Arizona</td>\n",
       "      <td>AZ</td>\n",
       "      <td>171</td>\n",
       "      <td>5945.302869</td>\n",
       "      <td>1000</td>\n",
       "      <td>43.456225</td>\n",
       "      <td>0.043456</td>\n",
       "    </tr>\n",
       "    <tr>\n",
       "      <th>3</th>\n",
       "      <td>Arkansas</td>\n",
       "      <td>AR</td>\n",
       "      <td>82</td>\n",
       "      <td>2490.816907</td>\n",
       "      <td>1000</td>\n",
       "      <td>7.847600</td>\n",
       "      <td>0.007848</td>\n",
       "    </tr>\n",
       "    <tr>\n",
       "      <th>4</th>\n",
       "      <td>California</td>\n",
       "      <td>CA</td>\n",
       "      <td>761</td>\n",
       "      <td>30017.954460</td>\n",
       "      <td>1000</td>\n",
       "      <td>321.793820</td>\n",
       "      <td>0.321794</td>\n",
       "    </tr>\n",
       "  </tbody>\n",
       "</table>\n",
       "</div>"
      ],
      "text/plain": [
       "   state_name state_code   CF  expected_value  total_NCF         NCF  \\\n",
       "0     Alabama         AL  141     4189.826321       1000   10.133484   \n",
       "1      Alaska         AK   33      482.790570       1000  -15.585001   \n",
       "2     Arizona         AZ  171     5945.302869       1000   43.456225   \n",
       "3    Arkansas         AR   82     2490.816907       1000    7.847600   \n",
       "4  California         CA  761    30017.954460       1000  321.793820   \n",
       "\n",
       "   CF_percentage  \n",
       "0       0.010133  \n",
       "1      -0.015585  \n",
       "2       0.043456  \n",
       "3       0.007848  \n",
       "4       0.321794  "
      ]
     },
     "execution_count": 436,
     "metadata": {},
     "output_type": "execute_result"
    }
   ],
   "source": [
    "df.head()"
   ]
  },
  {
   "cell_type": "code",
   "execution_count": 437,
   "id": "6bc57630",
   "metadata": {},
   "outputs": [
    {
     "data": {
      "application/vnd.plotly.v1+json": {
       "config": {
        "plotlyServerURL": "https://plot.ly"
       },
       "data": [
        {
         "coloraxis": "coloraxis",
         "geo": "geo",
         "hovertemplate": "state_code=%{location}<br>expected_value=%{z}<extra></extra>",
         "locationmode": "USA-states",
         "locations": [
          "AL",
          "AK",
          "AZ",
          "AR",
          "CA",
          "CO",
          "CT",
          "DE",
          "DC",
          "FL",
          "GA",
          "HI",
          "ID",
          "IL",
          "IN",
          "IA",
          "KS",
          "KY",
          "LA",
          "ME",
          "MD",
          "MA",
          "MI",
          "MN",
          "MS",
          "MO",
          "MT",
          "NE",
          "NV",
          "NH",
          "NJ",
          "NM",
          "NY",
          "NC",
          "ND",
          "OH",
          "OK",
          "OR",
          "PA",
          "RI",
          "SC",
          "SD",
          "TN",
          "TX",
          "UT",
          "VT",
          "VA",
          "WA",
          "WV",
          "WI",
          "WY",
          "AL",
          "AK",
          "AZ",
          "AR",
          "CA",
          "CO",
          "CT",
          "DE",
          "DC",
          "FL",
          "GA",
          "HI",
          "ID",
          "IL",
          "IN",
          "IA",
          "KS",
          "KY",
          "LA",
          "ME",
          "MD",
          "MA",
          "MI",
          "MN",
          "MS",
          "MO",
          "MT",
          "NE",
          "NV",
          "NH",
          "NJ",
          "NM",
          "NY",
          "NC",
          "ND",
          "OH",
          "OK",
          "OR",
          "PA",
          "RI",
          "SC",
          "SD",
          "TN",
          "TX",
          "UT",
          "VT",
          "VA",
          "WA",
          "WV",
          "WI",
          "WY",
          "AL",
          "AK",
          "AZ",
          "AR",
          "CA",
          "CO",
          "CT",
          "DE",
          "DC",
          "FL",
          "GA",
          "HI",
          "ID",
          "IL",
          "IN",
          "IA",
          "KS",
          "KY",
          "LA",
          "ME",
          "MD",
          "MA",
          "MI",
          "MN",
          "MS",
          "MO",
          "MT",
          "NE",
          "NV",
          "NH",
          "NJ",
          "NM",
          "NY",
          "NC",
          "ND",
          "OH",
          "OK",
          "OR",
          "PA",
          "RI",
          "SC",
          "SD",
          "TN",
          "TX",
          "UT",
          "VT",
          "VA",
          "WA",
          "WV",
          "WI",
          "WY",
          "AL",
          "AK",
          "AZ",
          "AR",
          "CA",
          "CO",
          "CT",
          "DE",
          "DC",
          "FL",
          "GA",
          "HI",
          "ID",
          "IL",
          "IN",
          "IA",
          "KS",
          "KY",
          "LA",
          "ME",
          "MD",
          "MA",
          "MI",
          "MN",
          "MS",
          "MO",
          "MT",
          "NE",
          "NV",
          "NH",
          "NJ",
          "NM",
          "NY",
          "NC",
          "ND",
          "OH",
          "OK",
          "OR",
          "PA",
          "RI",
          "SC",
          "SD",
          "TN",
          "TX",
          "UT",
          "VT",
          "VA",
          "WA",
          "WV",
          "WI",
          "WY",
          "AL",
          "AK",
          "AZ",
          "AR",
          "CA",
          "CO",
          "CT",
          "DE",
          "DC",
          "FL",
          "GA",
          "HI",
          "ID",
          "IL",
          "IN",
          "IA",
          "KS",
          "KY",
          "LA",
          "ME",
          "MD",
          "MA",
          "MI",
          "MN",
          "MS",
          "MO",
          "MT",
          "NE",
          "NV",
          "NH",
          "NJ",
          "NM",
          "NY",
          "NC",
          "ND",
          "OH",
          "OK",
          "OR",
          "PA",
          "RI",
          "SC",
          "SD",
          "TN",
          "TX",
          "UT",
          "VT",
          "VA",
          "WA",
          "WV",
          "WI",
          "WY",
          "AL",
          "AK",
          "AZ",
          "AR",
          "CA",
          "CO",
          "CT",
          "DE",
          "DC",
          "FL",
          "GA",
          "HI",
          "ID",
          "IL",
          "IN",
          "IA",
          "KS",
          "KY",
          "LA",
          "ME",
          "MD",
          "MA",
          "MI",
          "MN",
          "MS",
          "MO",
          "MT",
          "NE",
          "NV",
          "NH",
          "NJ",
          "NM",
          "NY",
          "NC",
          "ND",
          "OH",
          "OK",
          "OR",
          "PA",
          "RI",
          "SC",
          "SD",
          "TN",
          "TX",
          "UT",
          "VT",
          "VA",
          "WA",
          "WV",
          "WI",
          "WY",
          "AL",
          "AK",
          "AZ",
          "AR",
          "CA",
          "CO",
          "CT",
          "DE",
          "DC",
          "FL",
          "GA",
          "HI",
          "ID",
          "IL",
          "IN",
          "IA",
          "KS",
          "KY",
          "LA",
          "ME",
          "MD",
          "MA",
          "MI",
          "MN",
          "MS",
          "MO",
          "MT",
          "NE",
          "NV",
          "NH",
          "NJ",
          "NM",
          "NY",
          "NC",
          "ND",
          "OH",
          "OK",
          "OR",
          "PA",
          "RI",
          "SC",
          "SD",
          "TN",
          "TX",
          "UT",
          "VT",
          "VA",
          "WA",
          "WV",
          "WI",
          "WY",
          "AL",
          "AK",
          "AZ",
          "AR",
          "CA",
          "CO",
          "CT",
          "DE",
          "DC",
          "FL",
          "GA",
          "HI",
          "ID",
          "IL",
          "IN",
          "IA",
          "KS",
          "KY",
          "LA",
          "ME",
          "MD",
          "MA",
          "MI",
          "MN",
          "MS",
          "MO",
          "MT",
          "NE",
          "NV",
          "NH",
          "NJ",
          "NM",
          "NY",
          "NC",
          "ND",
          "OH",
          "OK",
          "OR",
          "PA",
          "RI",
          "SC",
          "SD",
          "TN",
          "TX",
          "UT",
          "VT",
          "VA",
          "WA",
          "WV",
          "WI",
          "WY",
          "AL",
          "AK",
          "AZ",
          "AR",
          "CA",
          "CO",
          "CT",
          "DE",
          "DC",
          "FL",
          "GA",
          "HI",
          "ID",
          "IL",
          "IN",
          "IA",
          "KS",
          "KY",
          "LA",
          "ME",
          "MD",
          "MA",
          "MI",
          "MN",
          "MS",
          "MO",
          "MT",
          "NE",
          "NV",
          "NH",
          "NJ",
          "NM",
          "NY",
          "NC",
          "ND",
          "OH",
          "OK",
          "OR",
          "PA",
          "RI",
          "SC",
          "SD",
          "TN",
          "TX",
          "UT",
          "VT",
          "VA",
          "WA",
          "WV",
          "WI",
          "WY",
          "AL",
          "AK",
          "AZ",
          "AR",
          "CA",
          "CO",
          "CT",
          "DE",
          "DC",
          "FL",
          "GA",
          "HI",
          "ID",
          "IL",
          "IN",
          "IA",
          "KS",
          "KY",
          "LA",
          "ME",
          "MD",
          "MA",
          "MI",
          "MN",
          "MS",
          "MO",
          "MT",
          "NE",
          "NV",
          "NH",
          "NJ",
          "NM",
          "NY",
          "NC",
          "ND",
          "OH",
          "OK",
          "OR",
          "PA",
          "RI",
          "SC",
          "SD",
          "TN",
          "TX",
          "UT",
          "VT",
          "VA",
          "WA",
          "WV",
          "WI",
          "WY",
          "AL",
          "AK",
          "AZ",
          "AR",
          "CA",
          "CO",
          "CT",
          "DE",
          "DC",
          "FL",
          "GA",
          "HI",
          "ID",
          "IL",
          "IN",
          "IA",
          "KS",
          "KY",
          "LA",
          "ME",
          "MD",
          "MA",
          "MI",
          "MN",
          "MS",
          "MO",
          "MT",
          "NE",
          "NV",
          "NH",
          "NJ",
          "NM",
          "NY",
          "NC",
          "ND",
          "OH",
          "OK",
          "OR",
          "PA",
          "RI",
          "SC",
          "SD",
          "TN",
          "TX",
          "UT",
          "VT",
          "VA",
          "WA",
          "WV",
          "WI",
          "WY"
         ],
         "name": "",
         "type": "choropleth",
         "z": [
          4189.826321,
          482.79057,
          5945.302869,
          2490.816907,
          30017.95446,
          4310.569577,
          3124.042999,
          882.508066,
          482.30437,
          19899.34268,
          8233.985614,
          1192.248743,
          1357.893577,
          10284.73425,
          5380.913,
          2558.696455,
          2268.893055,
          3707.155644,
          3736.322601,
          1293.704531,
          5035.026787,
          5859.776921,
          8495.663756,
          4468.807873,
          2443.281736,
          5120.68018,
          903.558759,
          1482.040419,
          2408.266366,
          1222.748068,
          7548.400599,
          1739.710835,
          16433.60633,
          8779.867574,
          550.555939,
          9905.467626,
          3087.931212,
          3542.523378,
          11279.28366,
          918.378356,
          4491.446595,
          689.213564,
          5680.919479,
          20322.3859,
          1931.802737,
          570.627651,
          6915.931988,
          5949.594147,
          1641.923781,
          4841.337803,
          452.871927,
          4189.826321,
          482.79057,
          5945.302869,
          2490.816907,
          30017.95446,
          4310.569577,
          3124.042999,
          882.508066,
          482.30437,
          19899.34268,
          8233.985614,
          1192.248743,
          1357.893577,
          10284.73425,
          5380.913,
          2558.696455,
          2268.893055,
          3707.155644,
          3736.322601,
          1293.704531,
          5035.026787,
          5859.776921,
          8495.663756,
          4468.807873,
          2443.281736,
          5120.68018,
          903.558759,
          1482.040419,
          2408.266366,
          1222.748068,
          7548.400599,
          1739.710835,
          16433.60633,
          8779.867574,
          550.555939,
          9905.467626,
          3087.931212,
          3542.523378,
          11279.28366,
          918.378356,
          4491.446595,
          689.213564,
          5680.919479,
          20322.3859,
          1931.802737,
          570.627651,
          6915.931988,
          5949.594147,
          1641.923781,
          4841.337803,
          452.871927,
          4189.826321,
          482.79057,
          5945.302869,
          2490.816907,
          30017.95446,
          4310.569577,
          3124.042999,
          882.508066,
          482.30437,
          19899.34268,
          8233.985614,
          1192.248743,
          1357.893577,
          10284.73425,
          5380.913,
          2558.696455,
          2268.893055,
          3707.155644,
          3736.322601,
          1293.704531,
          5035.026787,
          5859.776921,
          8495.663756,
          4468.807873,
          2443.281736,
          5120.68018,
          903.558759,
          1482.040419,
          2408.266366,
          1222.748068,
          7548.400599,
          1739.710835,
          16433.60633,
          8779.867574,
          550.555939,
          9905.467626,
          3087.931212,
          3542.523378,
          11279.28366,
          918.378356,
          4491.446595,
          689.213564,
          5680.919479,
          20322.3859,
          1931.802737,
          570.627651,
          6915.931988,
          5949.594147,
          1641.923781,
          4841.337803,
          452.871927,
          4189.826321,
          482.79057,
          5945.302869,
          2490.816907,
          30017.95446,
          4310.569577,
          3124.042999,
          882.508066,
          482.30437,
          19899.34268,
          8233.985614,
          1192.248743,
          1357.893577,
          10284.73425,
          5380.913,
          2558.696455,
          2268.893055,
          3707.155644,
          3736.322601,
          1293.704531,
          5035.026787,
          5859.776921,
          8495.663756,
          4468.807873,
          2443.281736,
          5120.68018,
          903.558759,
          1482.040419,
          2408.266366,
          1222.748068,
          7548.400599,
          1739.710835,
          16433.60633,
          8779.867574,
          550.555939,
          9905.467626,
          3087.931212,
          3542.523378,
          11279.28366,
          918.378356,
          4491.446595,
          689.213564,
          5680.919479,
          20322.3859,
          1931.802737,
          570.627651,
          6915.931988,
          5949.594147,
          1641.923781,
          4841.337803,
          452.871927,
          4189.826321,
          482.79057,
          5945.302869,
          2490.816907,
          30017.95446,
          4310.569577,
          3124.042999,
          882.508066,
          482.30437,
          19899.34268,
          8233.985614,
          1192.248743,
          1357.893577,
          10284.73425,
          5380.913,
          2558.696455,
          2268.893055,
          3707.155644,
          3736.322601,
          1293.704531,
          5035.026787,
          5859.776921,
          8495.663756,
          4468.807873,
          2443.281736,
          5120.68018,
          903.558759,
          1482.040419,
          2408.266366,
          1222.748068,
          7548.400599,
          1739.710835,
          16433.60633,
          8779.867574,
          550.555939,
          9905.467626,
          3087.931212,
          3542.523378,
          11279.28366,
          918.378356,
          4491.446595,
          689.213564,
          5680.919479,
          20322.3859,
          1931.802737,
          570.627651,
          6915.931988,
          5949.594147,
          1641.923781,
          4841.337803,
          452.871927,
          4189.826321,
          482.79057,
          5945.302869,
          2490.816907,
          30017.95446,
          4310.569577,
          3124.042999,
          882.508066,
          482.30437,
          19899.34268,
          8233.985614,
          1192.248743,
          1357.893577,
          10284.73425,
          5380.913,
          2558.696455,
          2268.893055,
          3707.155644,
          3736.322601,
          1293.704531,
          5035.026787,
          5859.776921,
          8495.663756,
          4468.807873,
          2443.281736,
          5120.68018,
          903.558759,
          1482.040419,
          2408.266366,
          1222.748068,
          7548.400599,
          1739.710835,
          16433.60633,
          8779.867574,
          550.555939,
          9905.467626,
          3087.931212,
          3542.523378,
          11279.28366,
          918.378356,
          4491.446595,
          689.213564,
          5680.919479,
          20322.3859,
          1931.802737,
          570.627651,
          6915.931988,
          5949.594147,
          1641.923781,
          4841.337803,
          452.871927,
          4189.826321,
          482.79057,
          5945.302869,
          2490.816907,
          30017.95446,
          4310.569577,
          3124.042999,
          882.508066,
          482.30437,
          19899.34268,
          8233.985614,
          1192.248743,
          1357.893577,
          10284.73425,
          5380.913,
          2558.696455,
          2268.893055,
          3707.155644,
          3736.322601,
          1293.704531,
          5035.026787,
          5859.776921,
          8495.663756,
          4468.807873,
          2443.281736,
          5120.68018,
          903.558759,
          1482.040419,
          2408.266366,
          1222.748068,
          7548.400599,
          1739.710835,
          16433.60633,
          8779.867574,
          550.555939,
          9905.467626,
          3087.931212,
          3542.523378,
          11279.28366,
          918.378356,
          4491.446595,
          689.213564,
          5680.919479,
          20322.3859,
          1931.802737,
          570.627651,
          6915.931988,
          5949.594147,
          1641.923781,
          4841.337803,
          452.871927,
          4189.826321,
          482.79057,
          5945.302869,
          2490.816907,
          30017.95446,
          4310.569577,
          3124.042999,
          882.508066,
          482.30437,
          19899.34268,
          8233.985614,
          1192.248743,
          1357.893577,
          10284.73425,
          5380.913,
          2558.696455,
          2268.893055,
          3707.155644,
          3736.322601,
          1293.704531,
          5035.026787,
          5859.776921,
          8495.663756,
          4468.807873,
          2443.281736,
          5120.68018,
          903.558759,
          1482.040419,
          2408.266366,
          1222.748068,
          7548.400599,
          1739.710835,
          16433.60633,
          8779.867574,
          550.555939,
          9905.467626,
          3087.931212,
          3542.523378,
          11279.28366,
          918.378356,
          4491.446595,
          689.213564,
          5680.919479,
          20322.3859,
          1931.802737,
          570.627651,
          6915.931988,
          5949.594147,
          1641.923781,
          4841.337803,
          452.871927,
          4189.826321,
          482.79057,
          5945.302869,
          2490.816907,
          30017.95446,
          4310.569577,
          3124.042999,
          882.508066,
          482.30437,
          19899.34268,
          8233.985614,
          1192.248743,
          1357.893577,
          10284.73425,
          5380.913,
          2558.696455,
          2268.893055,
          3707.155644,
          3736.322601,
          1293.704531,
          5035.026787,
          5859.776921,
          8495.663756,
          4468.807873,
          2443.281736,
          5120.68018,
          903.558759,
          1482.040419,
          2408.266366,
          1222.748068,
          7548.400599,
          1739.710835,
          16433.60633,
          8779.867574,
          550.555939,
          9905.467626,
          3087.931212,
          3542.523378,
          11279.28366,
          918.378356,
          4491.446595,
          689.213564,
          5680.919479,
          20322.3859,
          1931.802737,
          570.627651,
          6915.931988,
          5949.594147,
          1641.923781,
          4841.337803,
          452.871927,
          4189.826321,
          482.79057,
          5945.302869,
          2490.816907,
          30017.95446,
          4310.569577,
          3124.042999,
          882.508066,
          482.30437,
          19899.34268,
          8233.985614,
          1192.248743,
          1357.893577,
          10284.73425,
          5380.913,
          2558.696455,
          2268.893055,
          3707.155644,
          3736.322601,
          1293.704531,
          5035.026787,
          5859.776921,
          8495.663756,
          4468.807873,
          2443.281736,
          5120.68018,
          903.558759,
          1482.040419,
          2408.266366,
          1222.748068,
          7548.400599,
          1739.710835,
          16433.60633,
          8779.867574,
          550.555939,
          9905.467626,
          3087.931212,
          3542.523378,
          11279.28366,
          918.378356,
          4491.446595,
          689.213564,
          5680.919479,
          20322.3859,
          1931.802737,
          570.627651,
          6915.931988,
          5949.594147,
          1641.923781,
          4841.337803,
          452.871927,
          4189.826321,
          482.79057,
          5945.302869,
          2490.816907,
          30017.95446,
          4310.569577,
          3124.042999,
          882.508066,
          482.30437,
          19899.34268,
          8233.985614,
          1192.248743,
          1357.893577,
          10284.73425,
          5380.913,
          2558.696455,
          2268.893055,
          3707.155644,
          3736.322601,
          1293.704531,
          5035.026787,
          5859.776921,
          8495.663756,
          4468.807873,
          2443.281736,
          5120.68018,
          903.558759,
          1482.040419,
          2408.266366,
          1222.748068,
          7548.400599,
          1739.710835,
          16433.60633,
          8779.867574,
          550.555939,
          9905.467626,
          3087.931212,
          3542.523378,
          11279.28366,
          918.378356,
          4491.446595,
          689.213564,
          5680.919479,
          20322.3859,
          1931.802737,
          570.627651,
          6915.931988,
          5949.594147,
          1641.923781,
          4841.337803,
          452.871927
         ]
        }
       ],
       "layout": {
        "coloraxis": {
         "cmax": 12000,
         "cmin": 1000,
         "colorbar": {
          "title": {
           "text": "expected_value"
          }
         },
         "colorscale": [
          [
           0,
           "rgb(255,245,240)"
          ],
          [
           0.125,
           "rgb(254,224,210)"
          ],
          [
           0.25,
           "rgb(252,187,161)"
          ],
          [
           0.375,
           "rgb(252,146,114)"
          ],
          [
           0.5,
           "rgb(251,106,74)"
          ],
          [
           0.625,
           "rgb(239,59,44)"
          ],
          [
           0.75,
           "rgb(203,24,29)"
          ],
          [
           0.875,
           "rgb(165,15,21)"
          ],
          [
           1,
           "rgb(103,0,13)"
          ]
         ]
        },
        "geo": {
         "center": {},
         "domain": {
          "x": [
           0,
           1
          ],
          "y": [
           0,
           1
          ]
         },
         "scope": "usa"
        },
        "legend": {
         "tracegroupgap": 0
        },
        "margin": {
         "t": 60
        },
        "template": {
         "data": {
          "bar": [
           {
            "error_x": {
             "color": "#2a3f5f"
            },
            "error_y": {
             "color": "#2a3f5f"
            },
            "marker": {
             "line": {
              "color": "#E5ECF6",
              "width": 0.5
             },
             "pattern": {
              "fillmode": "overlay",
              "size": 10,
              "solidity": 0.2
             }
            },
            "type": "bar"
           }
          ],
          "barpolar": [
           {
            "marker": {
             "line": {
              "color": "#E5ECF6",
              "width": 0.5
             },
             "pattern": {
              "fillmode": "overlay",
              "size": 10,
              "solidity": 0.2
             }
            },
            "type": "barpolar"
           }
          ],
          "carpet": [
           {
            "aaxis": {
             "endlinecolor": "#2a3f5f",
             "gridcolor": "white",
             "linecolor": "white",
             "minorgridcolor": "white",
             "startlinecolor": "#2a3f5f"
            },
            "baxis": {
             "endlinecolor": "#2a3f5f",
             "gridcolor": "white",
             "linecolor": "white",
             "minorgridcolor": "white",
             "startlinecolor": "#2a3f5f"
            },
            "type": "carpet"
           }
          ],
          "choropleth": [
           {
            "colorbar": {
             "outlinewidth": 0,
             "ticks": ""
            },
            "type": "choropleth"
           }
          ],
          "contour": [
           {
            "colorbar": {
             "outlinewidth": 0,
             "ticks": ""
            },
            "colorscale": [
             [
              0,
              "#0d0887"
             ],
             [
              0.1111111111111111,
              "#46039f"
             ],
             [
              0.2222222222222222,
              "#7201a8"
             ],
             [
              0.3333333333333333,
              "#9c179e"
             ],
             [
              0.4444444444444444,
              "#bd3786"
             ],
             [
              0.5555555555555556,
              "#d8576b"
             ],
             [
              0.6666666666666666,
              "#ed7953"
             ],
             [
              0.7777777777777778,
              "#fb9f3a"
             ],
             [
              0.8888888888888888,
              "#fdca26"
             ],
             [
              1,
              "#f0f921"
             ]
            ],
            "type": "contour"
           }
          ],
          "contourcarpet": [
           {
            "colorbar": {
             "outlinewidth": 0,
             "ticks": ""
            },
            "type": "contourcarpet"
           }
          ],
          "heatmap": [
           {
            "colorbar": {
             "outlinewidth": 0,
             "ticks": ""
            },
            "colorscale": [
             [
              0,
              "#0d0887"
             ],
             [
              0.1111111111111111,
              "#46039f"
             ],
             [
              0.2222222222222222,
              "#7201a8"
             ],
             [
              0.3333333333333333,
              "#9c179e"
             ],
             [
              0.4444444444444444,
              "#bd3786"
             ],
             [
              0.5555555555555556,
              "#d8576b"
             ],
             [
              0.6666666666666666,
              "#ed7953"
             ],
             [
              0.7777777777777778,
              "#fb9f3a"
             ],
             [
              0.8888888888888888,
              "#fdca26"
             ],
             [
              1,
              "#f0f921"
             ]
            ],
            "type": "heatmap"
           }
          ],
          "heatmapgl": [
           {
            "colorbar": {
             "outlinewidth": 0,
             "ticks": ""
            },
            "colorscale": [
             [
              0,
              "#0d0887"
             ],
             [
              0.1111111111111111,
              "#46039f"
             ],
             [
              0.2222222222222222,
              "#7201a8"
             ],
             [
              0.3333333333333333,
              "#9c179e"
             ],
             [
              0.4444444444444444,
              "#bd3786"
             ],
             [
              0.5555555555555556,
              "#d8576b"
             ],
             [
              0.6666666666666666,
              "#ed7953"
             ],
             [
              0.7777777777777778,
              "#fb9f3a"
             ],
             [
              0.8888888888888888,
              "#fdca26"
             ],
             [
              1,
              "#f0f921"
             ]
            ],
            "type": "heatmapgl"
           }
          ],
          "histogram": [
           {
            "marker": {
             "pattern": {
              "fillmode": "overlay",
              "size": 10,
              "solidity": 0.2
             }
            },
            "type": "histogram"
           }
          ],
          "histogram2d": [
           {
            "colorbar": {
             "outlinewidth": 0,
             "ticks": ""
            },
            "colorscale": [
             [
              0,
              "#0d0887"
             ],
             [
              0.1111111111111111,
              "#46039f"
             ],
             [
              0.2222222222222222,
              "#7201a8"
             ],
             [
              0.3333333333333333,
              "#9c179e"
             ],
             [
              0.4444444444444444,
              "#bd3786"
             ],
             [
              0.5555555555555556,
              "#d8576b"
             ],
             [
              0.6666666666666666,
              "#ed7953"
             ],
             [
              0.7777777777777778,
              "#fb9f3a"
             ],
             [
              0.8888888888888888,
              "#fdca26"
             ],
             [
              1,
              "#f0f921"
             ]
            ],
            "type": "histogram2d"
           }
          ],
          "histogram2dcontour": [
           {
            "colorbar": {
             "outlinewidth": 0,
             "ticks": ""
            },
            "colorscale": [
             [
              0,
              "#0d0887"
             ],
             [
              0.1111111111111111,
              "#46039f"
             ],
             [
              0.2222222222222222,
              "#7201a8"
             ],
             [
              0.3333333333333333,
              "#9c179e"
             ],
             [
              0.4444444444444444,
              "#bd3786"
             ],
             [
              0.5555555555555556,
              "#d8576b"
             ],
             [
              0.6666666666666666,
              "#ed7953"
             ],
             [
              0.7777777777777778,
              "#fb9f3a"
             ],
             [
              0.8888888888888888,
              "#fdca26"
             ],
             [
              1,
              "#f0f921"
             ]
            ],
            "type": "histogram2dcontour"
           }
          ],
          "mesh3d": [
           {
            "colorbar": {
             "outlinewidth": 0,
             "ticks": ""
            },
            "type": "mesh3d"
           }
          ],
          "parcoords": [
           {
            "line": {
             "colorbar": {
              "outlinewidth": 0,
              "ticks": ""
             }
            },
            "type": "parcoords"
           }
          ],
          "pie": [
           {
            "automargin": true,
            "type": "pie"
           }
          ],
          "scatter": [
           {
            "fillpattern": {
             "fillmode": "overlay",
             "size": 10,
             "solidity": 0.2
            },
            "type": "scatter"
           }
          ],
          "scatter3d": [
           {
            "line": {
             "colorbar": {
              "outlinewidth": 0,
              "ticks": ""
             }
            },
            "marker": {
             "colorbar": {
              "outlinewidth": 0,
              "ticks": ""
             }
            },
            "type": "scatter3d"
           }
          ],
          "scattercarpet": [
           {
            "marker": {
             "colorbar": {
              "outlinewidth": 0,
              "ticks": ""
             }
            },
            "type": "scattercarpet"
           }
          ],
          "scattergeo": [
           {
            "marker": {
             "colorbar": {
              "outlinewidth": 0,
              "ticks": ""
             }
            },
            "type": "scattergeo"
           }
          ],
          "scattergl": [
           {
            "marker": {
             "colorbar": {
              "outlinewidth": 0,
              "ticks": ""
             }
            },
            "type": "scattergl"
           }
          ],
          "scattermapbox": [
           {
            "marker": {
             "colorbar": {
              "outlinewidth": 0,
              "ticks": ""
             }
            },
            "type": "scattermapbox"
           }
          ],
          "scatterpolar": [
           {
            "marker": {
             "colorbar": {
              "outlinewidth": 0,
              "ticks": ""
             }
            },
            "type": "scatterpolar"
           }
          ],
          "scatterpolargl": [
           {
            "marker": {
             "colorbar": {
              "outlinewidth": 0,
              "ticks": ""
             }
            },
            "type": "scatterpolargl"
           }
          ],
          "scatterternary": [
           {
            "marker": {
             "colorbar": {
              "outlinewidth": 0,
              "ticks": ""
             }
            },
            "type": "scatterternary"
           }
          ],
          "surface": [
           {
            "colorbar": {
             "outlinewidth": 0,
             "ticks": ""
            },
            "colorscale": [
             [
              0,
              "#0d0887"
             ],
             [
              0.1111111111111111,
              "#46039f"
             ],
             [
              0.2222222222222222,
              "#7201a8"
             ],
             [
              0.3333333333333333,
              "#9c179e"
             ],
             [
              0.4444444444444444,
              "#bd3786"
             ],
             [
              0.5555555555555556,
              "#d8576b"
             ],
             [
              0.6666666666666666,
              "#ed7953"
             ],
             [
              0.7777777777777778,
              "#fb9f3a"
             ],
             [
              0.8888888888888888,
              "#fdca26"
             ],
             [
              1,
              "#f0f921"
             ]
            ],
            "type": "surface"
           }
          ],
          "table": [
           {
            "cells": {
             "fill": {
              "color": "#EBF0F8"
             },
             "line": {
              "color": "white"
             }
            },
            "header": {
             "fill": {
              "color": "#C8D4E3"
             },
             "line": {
              "color": "white"
             }
            },
            "type": "table"
           }
          ]
         },
         "layout": {
          "annotationdefaults": {
           "arrowcolor": "#2a3f5f",
           "arrowhead": 0,
           "arrowwidth": 1
          },
          "autotypenumbers": "strict",
          "coloraxis": {
           "colorbar": {
            "outlinewidth": 0,
            "ticks": ""
           }
          },
          "colorscale": {
           "diverging": [
            [
             0,
             "#8e0152"
            ],
            [
             0.1,
             "#c51b7d"
            ],
            [
             0.2,
             "#de77ae"
            ],
            [
             0.3,
             "#f1b6da"
            ],
            [
             0.4,
             "#fde0ef"
            ],
            [
             0.5,
             "#f7f7f7"
            ],
            [
             0.6,
             "#e6f5d0"
            ],
            [
             0.7,
             "#b8e186"
            ],
            [
             0.8,
             "#7fbc41"
            ],
            [
             0.9,
             "#4d9221"
            ],
            [
             1,
             "#276419"
            ]
           ],
           "sequential": [
            [
             0,
             "#0d0887"
            ],
            [
             0.1111111111111111,
             "#46039f"
            ],
            [
             0.2222222222222222,
             "#7201a8"
            ],
            [
             0.3333333333333333,
             "#9c179e"
            ],
            [
             0.4444444444444444,
             "#bd3786"
            ],
            [
             0.5555555555555556,
             "#d8576b"
            ],
            [
             0.6666666666666666,
             "#ed7953"
            ],
            [
             0.7777777777777778,
             "#fb9f3a"
            ],
            [
             0.8888888888888888,
             "#fdca26"
            ],
            [
             1,
             "#f0f921"
            ]
           ],
           "sequentialminus": [
            [
             0,
             "#0d0887"
            ],
            [
             0.1111111111111111,
             "#46039f"
            ],
            [
             0.2222222222222222,
             "#7201a8"
            ],
            [
             0.3333333333333333,
             "#9c179e"
            ],
            [
             0.4444444444444444,
             "#bd3786"
            ],
            [
             0.5555555555555556,
             "#d8576b"
            ],
            [
             0.6666666666666666,
             "#ed7953"
            ],
            [
             0.7777777777777778,
             "#fb9f3a"
            ],
            [
             0.8888888888888888,
             "#fdca26"
            ],
            [
             1,
             "#f0f921"
            ]
           ]
          },
          "colorway": [
           "#636efa",
           "#EF553B",
           "#00cc96",
           "#ab63fa",
           "#FFA15A",
           "#19d3f3",
           "#FF6692",
           "#B6E880",
           "#FF97FF",
           "#FECB52"
          ],
          "font": {
           "color": "#2a3f5f"
          },
          "geo": {
           "bgcolor": "white",
           "lakecolor": "white",
           "landcolor": "#E5ECF6",
           "showlakes": true,
           "showland": true,
           "subunitcolor": "white"
          },
          "hoverlabel": {
           "align": "left"
          },
          "hovermode": "closest",
          "mapbox": {
           "style": "light"
          },
          "paper_bgcolor": "white",
          "plot_bgcolor": "#E5ECF6",
          "polar": {
           "angularaxis": {
            "gridcolor": "white",
            "linecolor": "white",
            "ticks": ""
           },
           "bgcolor": "#E5ECF6",
           "radialaxis": {
            "gridcolor": "white",
            "linecolor": "white",
            "ticks": ""
           }
          },
          "scene": {
           "xaxis": {
            "backgroundcolor": "#E5ECF6",
            "gridcolor": "white",
            "gridwidth": 2,
            "linecolor": "white",
            "showbackground": true,
            "ticks": "",
            "zerolinecolor": "white"
           },
           "yaxis": {
            "backgroundcolor": "#E5ECF6",
            "gridcolor": "white",
            "gridwidth": 2,
            "linecolor": "white",
            "showbackground": true,
            "ticks": "",
            "zerolinecolor": "white"
           },
           "zaxis": {
            "backgroundcolor": "#E5ECF6",
            "gridcolor": "white",
            "gridwidth": 2,
            "linecolor": "white",
            "showbackground": true,
            "ticks": "",
            "zerolinecolor": "white"
           }
          },
          "shapedefaults": {
           "line": {
            "color": "#2a3f5f"
           }
          },
          "ternary": {
           "aaxis": {
            "gridcolor": "white",
            "linecolor": "white",
            "ticks": ""
           },
           "baxis": {
            "gridcolor": "white",
            "linecolor": "white",
            "ticks": ""
           },
           "bgcolor": "#E5ECF6",
           "caxis": {
            "gridcolor": "white",
            "linecolor": "white",
            "ticks": ""
           }
          },
          "title": {
           "x": 0.05
          },
          "xaxis": {
           "automargin": true,
           "gridcolor": "white",
           "linecolor": "white",
           "ticks": "",
           "title": {
            "standoff": 15
           },
           "zerolinecolor": "white",
           "zerolinewidth": 2
          },
          "yaxis": {
           "automargin": true,
           "gridcolor": "white",
           "linecolor": "white",
           "ticks": "",
           "title": {
            "standoff": 15
           },
           "zerolinecolor": "white",
           "zerolinewidth": 2
          }
         }
        },
        "title": {
         "font": {
          "color": "black",
          "family": "Times New Roman",
          "size": 22
         },
         "text": "2019 U.S. Breast Cancer Population Distribution",
         "x": 0.45
        }
       }
      },
      "text/html": [
       "<div>                            <div id=\"92e1d953-6a33-4d45-89de-8ca428fdd23c\" class=\"plotly-graph-div\" style=\"height:525px; width:100%;\"></div>            <script type=\"text/javascript\">                require([\"plotly\"], function(Plotly) {                    window.PLOTLYENV=window.PLOTLYENV || {};                                    if (document.getElementById(\"92e1d953-6a33-4d45-89de-8ca428fdd23c\")) {                    Plotly.newPlot(                        \"92e1d953-6a33-4d45-89de-8ca428fdd23c\",                        [{\"coloraxis\":\"coloraxis\",\"geo\":\"geo\",\"hovertemplate\":\"state_code=%{location}<br>expected_value=%{z}<extra></extra>\",\"locationmode\":\"USA-states\",\"locations\":[\"AL\",\"AK\",\"AZ\",\"AR\",\"CA\",\"CO\",\"CT\",\"DE\",\"DC\",\"FL\",\"GA\",\"HI\",\"ID\",\"IL\",\"IN\",\"IA\",\"KS\",\"KY\",\"LA\",\"ME\",\"MD\",\"MA\",\"MI\",\"MN\",\"MS\",\"MO\",\"MT\",\"NE\",\"NV\",\"NH\",\"NJ\",\"NM\",\"NY\",\"NC\",\"ND\",\"OH\",\"OK\",\"OR\",\"PA\",\"RI\",\"SC\",\"SD\",\"TN\",\"TX\",\"UT\",\"VT\",\"VA\",\"WA\",\"WV\",\"WI\",\"WY\",\"AL\",\"AK\",\"AZ\",\"AR\",\"CA\",\"CO\",\"CT\",\"DE\",\"DC\",\"FL\",\"GA\",\"HI\",\"ID\",\"IL\",\"IN\",\"IA\",\"KS\",\"KY\",\"LA\",\"ME\",\"MD\",\"MA\",\"MI\",\"MN\",\"MS\",\"MO\",\"MT\",\"NE\",\"NV\",\"NH\",\"NJ\",\"NM\",\"NY\",\"NC\",\"ND\",\"OH\",\"OK\",\"OR\",\"PA\",\"RI\",\"SC\",\"SD\",\"TN\",\"TX\",\"UT\",\"VT\",\"VA\",\"WA\",\"WV\",\"WI\",\"WY\",\"AL\",\"AK\",\"AZ\",\"AR\",\"CA\",\"CO\",\"CT\",\"DE\",\"DC\",\"FL\",\"GA\",\"HI\",\"ID\",\"IL\",\"IN\",\"IA\",\"KS\",\"KY\",\"LA\",\"ME\",\"MD\",\"MA\",\"MI\",\"MN\",\"MS\",\"MO\",\"MT\",\"NE\",\"NV\",\"NH\",\"NJ\",\"NM\",\"NY\",\"NC\",\"ND\",\"OH\",\"OK\",\"OR\",\"PA\",\"RI\",\"SC\",\"SD\",\"TN\",\"TX\",\"UT\",\"VT\",\"VA\",\"WA\",\"WV\",\"WI\",\"WY\",\"AL\",\"AK\",\"AZ\",\"AR\",\"CA\",\"CO\",\"CT\",\"DE\",\"DC\",\"FL\",\"GA\",\"HI\",\"ID\",\"IL\",\"IN\",\"IA\",\"KS\",\"KY\",\"LA\",\"ME\",\"MD\",\"MA\",\"MI\",\"MN\",\"MS\",\"MO\",\"MT\",\"NE\",\"NV\",\"NH\",\"NJ\",\"NM\",\"NY\",\"NC\",\"ND\",\"OH\",\"OK\",\"OR\",\"PA\",\"RI\",\"SC\",\"SD\",\"TN\",\"TX\",\"UT\",\"VT\",\"VA\",\"WA\",\"WV\",\"WI\",\"WY\",\"AL\",\"AK\",\"AZ\",\"AR\",\"CA\",\"CO\",\"CT\",\"DE\",\"DC\",\"FL\",\"GA\",\"HI\",\"ID\",\"IL\",\"IN\",\"IA\",\"KS\",\"KY\",\"LA\",\"ME\",\"MD\",\"MA\",\"MI\",\"MN\",\"MS\",\"MO\",\"MT\",\"NE\",\"NV\",\"NH\",\"NJ\",\"NM\",\"NY\",\"NC\",\"ND\",\"OH\",\"OK\",\"OR\",\"PA\",\"RI\",\"SC\",\"SD\",\"TN\",\"TX\",\"UT\",\"VT\",\"VA\",\"WA\",\"WV\",\"WI\",\"WY\",\"AL\",\"AK\",\"AZ\",\"AR\",\"CA\",\"CO\",\"CT\",\"DE\",\"DC\",\"FL\",\"GA\",\"HI\",\"ID\",\"IL\",\"IN\",\"IA\",\"KS\",\"KY\",\"LA\",\"ME\",\"MD\",\"MA\",\"MI\",\"MN\",\"MS\",\"MO\",\"MT\",\"NE\",\"NV\",\"NH\",\"NJ\",\"NM\",\"NY\",\"NC\",\"ND\",\"OH\",\"OK\",\"OR\",\"PA\",\"RI\",\"SC\",\"SD\",\"TN\",\"TX\",\"UT\",\"VT\",\"VA\",\"WA\",\"WV\",\"WI\",\"WY\",\"AL\",\"AK\",\"AZ\",\"AR\",\"CA\",\"CO\",\"CT\",\"DE\",\"DC\",\"FL\",\"GA\",\"HI\",\"ID\",\"IL\",\"IN\",\"IA\",\"KS\",\"KY\",\"LA\",\"ME\",\"MD\",\"MA\",\"MI\",\"MN\",\"MS\",\"MO\",\"MT\",\"NE\",\"NV\",\"NH\",\"NJ\",\"NM\",\"NY\",\"NC\",\"ND\",\"OH\",\"OK\",\"OR\",\"PA\",\"RI\",\"SC\",\"SD\",\"TN\",\"TX\",\"UT\",\"VT\",\"VA\",\"WA\",\"WV\",\"WI\",\"WY\",\"AL\",\"AK\",\"AZ\",\"AR\",\"CA\",\"CO\",\"CT\",\"DE\",\"DC\",\"FL\",\"GA\",\"HI\",\"ID\",\"IL\",\"IN\",\"IA\",\"KS\",\"KY\",\"LA\",\"ME\",\"MD\",\"MA\",\"MI\",\"MN\",\"MS\",\"MO\",\"MT\",\"NE\",\"NV\",\"NH\",\"NJ\",\"NM\",\"NY\",\"NC\",\"ND\",\"OH\",\"OK\",\"OR\",\"PA\",\"RI\",\"SC\",\"SD\",\"TN\",\"TX\",\"UT\",\"VT\",\"VA\",\"WA\",\"WV\",\"WI\",\"WY\",\"AL\",\"AK\",\"AZ\",\"AR\",\"CA\",\"CO\",\"CT\",\"DE\",\"DC\",\"FL\",\"GA\",\"HI\",\"ID\",\"IL\",\"IN\",\"IA\",\"KS\",\"KY\",\"LA\",\"ME\",\"MD\",\"MA\",\"MI\",\"MN\",\"MS\",\"MO\",\"MT\",\"NE\",\"NV\",\"NH\",\"NJ\",\"NM\",\"NY\",\"NC\",\"ND\",\"OH\",\"OK\",\"OR\",\"PA\",\"RI\",\"SC\",\"SD\",\"TN\",\"TX\",\"UT\",\"VT\",\"VA\",\"WA\",\"WV\",\"WI\",\"WY\",\"AL\",\"AK\",\"AZ\",\"AR\",\"CA\",\"CO\",\"CT\",\"DE\",\"DC\",\"FL\",\"GA\",\"HI\",\"ID\",\"IL\",\"IN\",\"IA\",\"KS\",\"KY\",\"LA\",\"ME\",\"MD\",\"MA\",\"MI\",\"MN\",\"MS\",\"MO\",\"MT\",\"NE\",\"NV\",\"NH\",\"NJ\",\"NM\",\"NY\",\"NC\",\"ND\",\"OH\",\"OK\",\"OR\",\"PA\",\"RI\",\"SC\",\"SD\",\"TN\",\"TX\",\"UT\",\"VT\",\"VA\",\"WA\",\"WV\",\"WI\",\"WY\",\"AL\",\"AK\",\"AZ\",\"AR\",\"CA\",\"CO\",\"CT\",\"DE\",\"DC\",\"FL\",\"GA\",\"HI\",\"ID\",\"IL\",\"IN\",\"IA\",\"KS\",\"KY\",\"LA\",\"ME\",\"MD\",\"MA\",\"MI\",\"MN\",\"MS\",\"MO\",\"MT\",\"NE\",\"NV\",\"NH\",\"NJ\",\"NM\",\"NY\",\"NC\",\"ND\",\"OH\",\"OK\",\"OR\",\"PA\",\"RI\",\"SC\",\"SD\",\"TN\",\"TX\",\"UT\",\"VT\",\"VA\",\"WA\",\"WV\",\"WI\",\"WY\"],\"name\":\"\",\"z\":[4189.826321,482.79057,5945.302869,2490.816907,30017.95446,4310.569577,3124.042999,882.508066,482.30437,19899.34268,8233.985614,1192.248743,1357.893577,10284.73425,5380.913,2558.696455,2268.893055,3707.155644,3736.322601,1293.704531,5035.026787,5859.776921,8495.663756,4468.807873,2443.281736,5120.68018,903.558759,1482.040419,2408.266366,1222.748068,7548.400599,1739.710835,16433.60633,8779.867574,550.555939,9905.467626,3087.931212,3542.523378,11279.28366,918.378356,4491.446595,689.213564,5680.919479,20322.3859,1931.802737,570.627651,6915.931988,5949.594147,1641.923781,4841.337803,452.871927,4189.826321,482.79057,5945.302869,2490.816907,30017.95446,4310.569577,3124.042999,882.508066,482.30437,19899.34268,8233.985614,1192.248743,1357.893577,10284.73425,5380.913,2558.696455,2268.893055,3707.155644,3736.322601,1293.704531,5035.026787,5859.776921,8495.663756,4468.807873,2443.281736,5120.68018,903.558759,1482.040419,2408.266366,1222.748068,7548.400599,1739.710835,16433.60633,8779.867574,550.555939,9905.467626,3087.931212,3542.523378,11279.28366,918.378356,4491.446595,689.213564,5680.919479,20322.3859,1931.802737,570.627651,6915.931988,5949.594147,1641.923781,4841.337803,452.871927,4189.826321,482.79057,5945.302869,2490.816907,30017.95446,4310.569577,3124.042999,882.508066,482.30437,19899.34268,8233.985614,1192.248743,1357.893577,10284.73425,5380.913,2558.696455,2268.893055,3707.155644,3736.322601,1293.704531,5035.026787,5859.776921,8495.663756,4468.807873,2443.281736,5120.68018,903.558759,1482.040419,2408.266366,1222.748068,7548.400599,1739.710835,16433.60633,8779.867574,550.555939,9905.467626,3087.931212,3542.523378,11279.28366,918.378356,4491.446595,689.213564,5680.919479,20322.3859,1931.802737,570.627651,6915.931988,5949.594147,1641.923781,4841.337803,452.871927,4189.826321,482.79057,5945.302869,2490.816907,30017.95446,4310.569577,3124.042999,882.508066,482.30437,19899.34268,8233.985614,1192.248743,1357.893577,10284.73425,5380.913,2558.696455,2268.893055,3707.155644,3736.322601,1293.704531,5035.026787,5859.776921,8495.663756,4468.807873,2443.281736,5120.68018,903.558759,1482.040419,2408.266366,1222.748068,7548.400599,1739.710835,16433.60633,8779.867574,550.555939,9905.467626,3087.931212,3542.523378,11279.28366,918.378356,4491.446595,689.213564,5680.919479,20322.3859,1931.802737,570.627651,6915.931988,5949.594147,1641.923781,4841.337803,452.871927,4189.826321,482.79057,5945.302869,2490.816907,30017.95446,4310.569577,3124.042999,882.508066,482.30437,19899.34268,8233.985614,1192.248743,1357.893577,10284.73425,5380.913,2558.696455,2268.893055,3707.155644,3736.322601,1293.704531,5035.026787,5859.776921,8495.663756,4468.807873,2443.281736,5120.68018,903.558759,1482.040419,2408.266366,1222.748068,7548.400599,1739.710835,16433.60633,8779.867574,550.555939,9905.467626,3087.931212,3542.523378,11279.28366,918.378356,4491.446595,689.213564,5680.919479,20322.3859,1931.802737,570.627651,6915.931988,5949.594147,1641.923781,4841.337803,452.871927,4189.826321,482.79057,5945.302869,2490.816907,30017.95446,4310.569577,3124.042999,882.508066,482.30437,19899.34268,8233.985614,1192.248743,1357.893577,10284.73425,5380.913,2558.696455,2268.893055,3707.155644,3736.322601,1293.704531,5035.026787,5859.776921,8495.663756,4468.807873,2443.281736,5120.68018,903.558759,1482.040419,2408.266366,1222.748068,7548.400599,1739.710835,16433.60633,8779.867574,550.555939,9905.467626,3087.931212,3542.523378,11279.28366,918.378356,4491.446595,689.213564,5680.919479,20322.3859,1931.802737,570.627651,6915.931988,5949.594147,1641.923781,4841.337803,452.871927,4189.826321,482.79057,5945.302869,2490.816907,30017.95446,4310.569577,3124.042999,882.508066,482.30437,19899.34268,8233.985614,1192.248743,1357.893577,10284.73425,5380.913,2558.696455,2268.893055,3707.155644,3736.322601,1293.704531,5035.026787,5859.776921,8495.663756,4468.807873,2443.281736,5120.68018,903.558759,1482.040419,2408.266366,1222.748068,7548.400599,1739.710835,16433.60633,8779.867574,550.555939,9905.467626,3087.931212,3542.523378,11279.28366,918.378356,4491.446595,689.213564,5680.919479,20322.3859,1931.802737,570.627651,6915.931988,5949.594147,1641.923781,4841.337803,452.871927,4189.826321,482.79057,5945.302869,2490.816907,30017.95446,4310.569577,3124.042999,882.508066,482.30437,19899.34268,8233.985614,1192.248743,1357.893577,10284.73425,5380.913,2558.696455,2268.893055,3707.155644,3736.322601,1293.704531,5035.026787,5859.776921,8495.663756,4468.807873,2443.281736,5120.68018,903.558759,1482.040419,2408.266366,1222.748068,7548.400599,1739.710835,16433.60633,8779.867574,550.555939,9905.467626,3087.931212,3542.523378,11279.28366,918.378356,4491.446595,689.213564,5680.919479,20322.3859,1931.802737,570.627651,6915.931988,5949.594147,1641.923781,4841.337803,452.871927,4189.826321,482.79057,5945.302869,2490.816907,30017.95446,4310.569577,3124.042999,882.508066,482.30437,19899.34268,8233.985614,1192.248743,1357.893577,10284.73425,5380.913,2558.696455,2268.893055,3707.155644,3736.322601,1293.704531,5035.026787,5859.776921,8495.663756,4468.807873,2443.281736,5120.68018,903.558759,1482.040419,2408.266366,1222.748068,7548.400599,1739.710835,16433.60633,8779.867574,550.555939,9905.467626,3087.931212,3542.523378,11279.28366,918.378356,4491.446595,689.213564,5680.919479,20322.3859,1931.802737,570.627651,6915.931988,5949.594147,1641.923781,4841.337803,452.871927,4189.826321,482.79057,5945.302869,2490.816907,30017.95446,4310.569577,3124.042999,882.508066,482.30437,19899.34268,8233.985614,1192.248743,1357.893577,10284.73425,5380.913,2558.696455,2268.893055,3707.155644,3736.322601,1293.704531,5035.026787,5859.776921,8495.663756,4468.807873,2443.281736,5120.68018,903.558759,1482.040419,2408.266366,1222.748068,7548.400599,1739.710835,16433.60633,8779.867574,550.555939,9905.467626,3087.931212,3542.523378,11279.28366,918.378356,4491.446595,689.213564,5680.919479,20322.3859,1931.802737,570.627651,6915.931988,5949.594147,1641.923781,4841.337803,452.871927,4189.826321,482.79057,5945.302869,2490.816907,30017.95446,4310.569577,3124.042999,882.508066,482.30437,19899.34268,8233.985614,1192.248743,1357.893577,10284.73425,5380.913,2558.696455,2268.893055,3707.155644,3736.322601,1293.704531,5035.026787,5859.776921,8495.663756,4468.807873,2443.281736,5120.68018,903.558759,1482.040419,2408.266366,1222.748068,7548.400599,1739.710835,16433.60633,8779.867574,550.555939,9905.467626,3087.931212,3542.523378,11279.28366,918.378356,4491.446595,689.213564,5680.919479,20322.3859,1931.802737,570.627651,6915.931988,5949.594147,1641.923781,4841.337803,452.871927],\"type\":\"choropleth\"}],                        {\"template\":{\"data\":{\"histogram2dcontour\":[{\"type\":\"histogram2dcontour\",\"colorbar\":{\"outlinewidth\":0,\"ticks\":\"\"},\"colorscale\":[[0.0,\"#0d0887\"],[0.1111111111111111,\"#46039f\"],[0.2222222222222222,\"#7201a8\"],[0.3333333333333333,\"#9c179e\"],[0.4444444444444444,\"#bd3786\"],[0.5555555555555556,\"#d8576b\"],[0.6666666666666666,\"#ed7953\"],[0.7777777777777778,\"#fb9f3a\"],[0.8888888888888888,\"#fdca26\"],[1.0,\"#f0f921\"]]}],\"choropleth\":[{\"type\":\"choropleth\",\"colorbar\":{\"outlinewidth\":0,\"ticks\":\"\"}}],\"histogram2d\":[{\"type\":\"histogram2d\",\"colorbar\":{\"outlinewidth\":0,\"ticks\":\"\"},\"colorscale\":[[0.0,\"#0d0887\"],[0.1111111111111111,\"#46039f\"],[0.2222222222222222,\"#7201a8\"],[0.3333333333333333,\"#9c179e\"],[0.4444444444444444,\"#bd3786\"],[0.5555555555555556,\"#d8576b\"],[0.6666666666666666,\"#ed7953\"],[0.7777777777777778,\"#fb9f3a\"],[0.8888888888888888,\"#fdca26\"],[1.0,\"#f0f921\"]]}],\"heatmap\":[{\"type\":\"heatmap\",\"colorbar\":{\"outlinewidth\":0,\"ticks\":\"\"},\"colorscale\":[[0.0,\"#0d0887\"],[0.1111111111111111,\"#46039f\"],[0.2222222222222222,\"#7201a8\"],[0.3333333333333333,\"#9c179e\"],[0.4444444444444444,\"#bd3786\"],[0.5555555555555556,\"#d8576b\"],[0.6666666666666666,\"#ed7953\"],[0.7777777777777778,\"#fb9f3a\"],[0.8888888888888888,\"#fdca26\"],[1.0,\"#f0f921\"]]}],\"heatmapgl\":[{\"type\":\"heatmapgl\",\"colorbar\":{\"outlinewidth\":0,\"ticks\":\"\"},\"colorscale\":[[0.0,\"#0d0887\"],[0.1111111111111111,\"#46039f\"],[0.2222222222222222,\"#7201a8\"],[0.3333333333333333,\"#9c179e\"],[0.4444444444444444,\"#bd3786\"],[0.5555555555555556,\"#d8576b\"],[0.6666666666666666,\"#ed7953\"],[0.7777777777777778,\"#fb9f3a\"],[0.8888888888888888,\"#fdca26\"],[1.0,\"#f0f921\"]]}],\"contourcarpet\":[{\"type\":\"contourcarpet\",\"colorbar\":{\"outlinewidth\":0,\"ticks\":\"\"}}],\"contour\":[{\"type\":\"contour\",\"colorbar\":{\"outlinewidth\":0,\"ticks\":\"\"},\"colorscale\":[[0.0,\"#0d0887\"],[0.1111111111111111,\"#46039f\"],[0.2222222222222222,\"#7201a8\"],[0.3333333333333333,\"#9c179e\"],[0.4444444444444444,\"#bd3786\"],[0.5555555555555556,\"#d8576b\"],[0.6666666666666666,\"#ed7953\"],[0.7777777777777778,\"#fb9f3a\"],[0.8888888888888888,\"#fdca26\"],[1.0,\"#f0f921\"]]}],\"surface\":[{\"type\":\"surface\",\"colorbar\":{\"outlinewidth\":0,\"ticks\":\"\"},\"colorscale\":[[0.0,\"#0d0887\"],[0.1111111111111111,\"#46039f\"],[0.2222222222222222,\"#7201a8\"],[0.3333333333333333,\"#9c179e\"],[0.4444444444444444,\"#bd3786\"],[0.5555555555555556,\"#d8576b\"],[0.6666666666666666,\"#ed7953\"],[0.7777777777777778,\"#fb9f3a\"],[0.8888888888888888,\"#fdca26\"],[1.0,\"#f0f921\"]]}],\"mesh3d\":[{\"type\":\"mesh3d\",\"colorbar\":{\"outlinewidth\":0,\"ticks\":\"\"}}],\"scatter\":[{\"fillpattern\":{\"fillmode\":\"overlay\",\"size\":10,\"solidity\":0.2},\"type\":\"scatter\"}],\"parcoords\":[{\"type\":\"parcoords\",\"line\":{\"colorbar\":{\"outlinewidth\":0,\"ticks\":\"\"}}}],\"scatterpolargl\":[{\"type\":\"scatterpolargl\",\"marker\":{\"colorbar\":{\"outlinewidth\":0,\"ticks\":\"\"}}}],\"bar\":[{\"error_x\":{\"color\":\"#2a3f5f\"},\"error_y\":{\"color\":\"#2a3f5f\"},\"marker\":{\"line\":{\"color\":\"#E5ECF6\",\"width\":0.5},\"pattern\":{\"fillmode\":\"overlay\",\"size\":10,\"solidity\":0.2}},\"type\":\"bar\"}],\"scattergeo\":[{\"type\":\"scattergeo\",\"marker\":{\"colorbar\":{\"outlinewidth\":0,\"ticks\":\"\"}}}],\"scatterpolar\":[{\"type\":\"scatterpolar\",\"marker\":{\"colorbar\":{\"outlinewidth\":0,\"ticks\":\"\"}}}],\"histogram\":[{\"marker\":{\"pattern\":{\"fillmode\":\"overlay\",\"size\":10,\"solidity\":0.2}},\"type\":\"histogram\"}],\"scattergl\":[{\"type\":\"scattergl\",\"marker\":{\"colorbar\":{\"outlinewidth\":0,\"ticks\":\"\"}}}],\"scatter3d\":[{\"type\":\"scatter3d\",\"line\":{\"colorbar\":{\"outlinewidth\":0,\"ticks\":\"\"}},\"marker\":{\"colorbar\":{\"outlinewidth\":0,\"ticks\":\"\"}}}],\"scattermapbox\":[{\"type\":\"scattermapbox\",\"marker\":{\"colorbar\":{\"outlinewidth\":0,\"ticks\":\"\"}}}],\"scatterternary\":[{\"type\":\"scatterternary\",\"marker\":{\"colorbar\":{\"outlinewidth\":0,\"ticks\":\"\"}}}],\"scattercarpet\":[{\"type\":\"scattercarpet\",\"marker\":{\"colorbar\":{\"outlinewidth\":0,\"ticks\":\"\"}}}],\"carpet\":[{\"aaxis\":{\"endlinecolor\":\"#2a3f5f\",\"gridcolor\":\"white\",\"linecolor\":\"white\",\"minorgridcolor\":\"white\",\"startlinecolor\":\"#2a3f5f\"},\"baxis\":{\"endlinecolor\":\"#2a3f5f\",\"gridcolor\":\"white\",\"linecolor\":\"white\",\"minorgridcolor\":\"white\",\"startlinecolor\":\"#2a3f5f\"},\"type\":\"carpet\"}],\"table\":[{\"cells\":{\"fill\":{\"color\":\"#EBF0F8\"},\"line\":{\"color\":\"white\"}},\"header\":{\"fill\":{\"color\":\"#C8D4E3\"},\"line\":{\"color\":\"white\"}},\"type\":\"table\"}],\"barpolar\":[{\"marker\":{\"line\":{\"color\":\"#E5ECF6\",\"width\":0.5},\"pattern\":{\"fillmode\":\"overlay\",\"size\":10,\"solidity\":0.2}},\"type\":\"barpolar\"}],\"pie\":[{\"automargin\":true,\"type\":\"pie\"}]},\"layout\":{\"autotypenumbers\":\"strict\",\"colorway\":[\"#636efa\",\"#EF553B\",\"#00cc96\",\"#ab63fa\",\"#FFA15A\",\"#19d3f3\",\"#FF6692\",\"#B6E880\",\"#FF97FF\",\"#FECB52\"],\"font\":{\"color\":\"#2a3f5f\"},\"hovermode\":\"closest\",\"hoverlabel\":{\"align\":\"left\"},\"paper_bgcolor\":\"white\",\"plot_bgcolor\":\"#E5ECF6\",\"polar\":{\"bgcolor\":\"#E5ECF6\",\"angularaxis\":{\"gridcolor\":\"white\",\"linecolor\":\"white\",\"ticks\":\"\"},\"radialaxis\":{\"gridcolor\":\"white\",\"linecolor\":\"white\",\"ticks\":\"\"}},\"ternary\":{\"bgcolor\":\"#E5ECF6\",\"aaxis\":{\"gridcolor\":\"white\",\"linecolor\":\"white\",\"ticks\":\"\"},\"baxis\":{\"gridcolor\":\"white\",\"linecolor\":\"white\",\"ticks\":\"\"},\"caxis\":{\"gridcolor\":\"white\",\"linecolor\":\"white\",\"ticks\":\"\"}},\"coloraxis\":{\"colorbar\":{\"outlinewidth\":0,\"ticks\":\"\"}},\"colorscale\":{\"sequential\":[[0.0,\"#0d0887\"],[0.1111111111111111,\"#46039f\"],[0.2222222222222222,\"#7201a8\"],[0.3333333333333333,\"#9c179e\"],[0.4444444444444444,\"#bd3786\"],[0.5555555555555556,\"#d8576b\"],[0.6666666666666666,\"#ed7953\"],[0.7777777777777778,\"#fb9f3a\"],[0.8888888888888888,\"#fdca26\"],[1.0,\"#f0f921\"]],\"sequentialminus\":[[0.0,\"#0d0887\"],[0.1111111111111111,\"#46039f\"],[0.2222222222222222,\"#7201a8\"],[0.3333333333333333,\"#9c179e\"],[0.4444444444444444,\"#bd3786\"],[0.5555555555555556,\"#d8576b\"],[0.6666666666666666,\"#ed7953\"],[0.7777777777777778,\"#fb9f3a\"],[0.8888888888888888,\"#fdca26\"],[1.0,\"#f0f921\"]],\"diverging\":[[0,\"#8e0152\"],[0.1,\"#c51b7d\"],[0.2,\"#de77ae\"],[0.3,\"#f1b6da\"],[0.4,\"#fde0ef\"],[0.5,\"#f7f7f7\"],[0.6,\"#e6f5d0\"],[0.7,\"#b8e186\"],[0.8,\"#7fbc41\"],[0.9,\"#4d9221\"],[1,\"#276419\"]]},\"xaxis\":{\"gridcolor\":\"white\",\"linecolor\":\"white\",\"ticks\":\"\",\"title\":{\"standoff\":15},\"zerolinecolor\":\"white\",\"automargin\":true,\"zerolinewidth\":2},\"yaxis\":{\"gridcolor\":\"white\",\"linecolor\":\"white\",\"ticks\":\"\",\"title\":{\"standoff\":15},\"zerolinecolor\":\"white\",\"automargin\":true,\"zerolinewidth\":2},\"scene\":{\"xaxis\":{\"backgroundcolor\":\"#E5ECF6\",\"gridcolor\":\"white\",\"linecolor\":\"white\",\"showbackground\":true,\"ticks\":\"\",\"zerolinecolor\":\"white\",\"gridwidth\":2},\"yaxis\":{\"backgroundcolor\":\"#E5ECF6\",\"gridcolor\":\"white\",\"linecolor\":\"white\",\"showbackground\":true,\"ticks\":\"\",\"zerolinecolor\":\"white\",\"gridwidth\":2},\"zaxis\":{\"backgroundcolor\":\"#E5ECF6\",\"gridcolor\":\"white\",\"linecolor\":\"white\",\"showbackground\":true,\"ticks\":\"\",\"zerolinecolor\":\"white\",\"gridwidth\":2}},\"shapedefaults\":{\"line\":{\"color\":\"#2a3f5f\"}},\"annotationdefaults\":{\"arrowcolor\":\"#2a3f5f\",\"arrowhead\":0,\"arrowwidth\":1},\"geo\":{\"bgcolor\":\"white\",\"landcolor\":\"#E5ECF6\",\"subunitcolor\":\"white\",\"showland\":true,\"showlakes\":true,\"lakecolor\":\"white\"},\"title\":{\"x\":0.05},\"mapbox\":{\"style\":\"light\"}}},\"geo\":{\"domain\":{\"x\":[0.0,1.0],\"y\":[0.0,1.0]},\"center\":{},\"scope\":\"usa\"},\"coloraxis\":{\"colorbar\":{\"title\":{\"text\":\"expected_value\"}},\"colorscale\":[[0.0,\"rgb(255,245,240)\"],[0.125,\"rgb(254,224,210)\"],[0.25,\"rgb(252,187,161)\"],[0.375,\"rgb(252,146,114)\"],[0.5,\"rgb(251,106,74)\"],[0.625,\"rgb(239,59,44)\"],[0.75,\"rgb(203,24,29)\"],[0.875,\"rgb(165,15,21)\"],[1.0,\"rgb(103,0,13)\"]],\"cmin\":1000,\"cmax\":12000},\"legend\":{\"tracegroupgap\":0},\"margin\":{\"t\":60},\"title\":{\"font\":{\"family\":\"Times New Roman\",\"size\":22,\"color\":\"black\"},\"text\":\"2019 U.S. Breast Cancer Population Distribution\",\"x\":0.45}},                        {\"responsive\": true}                    ).then(function(){\n",
       "                            \n",
       "var gd = document.getElementById('92e1d953-6a33-4d45-89de-8ca428fdd23c');\n",
       "var x = new MutationObserver(function (mutations, observer) {{\n",
       "        var display = window.getComputedStyle(gd).display;\n",
       "        if (!display || display === 'none') {{\n",
       "            console.log([gd, 'removed!']);\n",
       "            Plotly.purge(gd);\n",
       "            observer.disconnect();\n",
       "        }}\n",
       "}});\n",
       "\n",
       "// Listen for the removal of the full notebook cells\n",
       "var notebookContainer = gd.closest('#notebook-container');\n",
       "if (notebookContainer) {{\n",
       "    x.observe(notebookContainer, {childList: true});\n",
       "}}\n",
       "\n",
       "// Listen for the clearing of the current output cell\n",
       "var outputEl = gd.closest('.output');\n",
       "if (outputEl) {{\n",
       "    x.observe(outputEl, {childList: true});\n",
       "}}\n",
       "\n",
       "                        })                };                });            </script>        </div>"
      ]
     },
     "metadata": {},
     "output_type": "display_data"
    }
   ],
   "source": [
    "import plotly.express as px\n",
    "fig = px.choropleth(df,\n",
    "                    locations='state_code', \n",
    "                    locationmode=\"USA-states\", \n",
    "                    scope=\"usa\",\n",
    "                    color='expected_value',\n",
    "                     range_color=(1000, 12000),\n",
    "                    color_continuous_scale=\"reds\", \n",
    "                    )\n",
    "fig.update_layout(\n",
    "      title_text = '2019 U.S. Breast Cancer Population Distribution',\n",
    "      title_font_family=\"Times New Roman\",\n",
    "      title_font_size = 22,\n",
    "      title_font_color=\"black\", \n",
    "      title_x=0.45, \n",
    "         )\n"
   ]
  },
  {
   "cell_type": "code",
   "execution_count": 438,
   "id": "1f282e4e",
   "metadata": {},
   "outputs": [
    {
     "data": {
      "application/vnd.plotly.v1+json": {
       "config": {
        "plotlyServerURL": "https://plot.ly"
       },
       "data": [
        {
         "coloraxis": "coloraxis",
         "geo": "geo",
         "hovertemplate": "state_code=%{location}<br>CF=%{z}<extra></extra>",
         "locationmode": "USA-states",
         "locations": [
          "AL",
          "AK",
          "AZ",
          "AR",
          "CA",
          "CO",
          "CT",
          "DE",
          "DC",
          "FL",
          "GA",
          "HI",
          "ID",
          "IL",
          "IN",
          "IA",
          "KS",
          "KY",
          "LA",
          "ME",
          "MD",
          "MA",
          "MI",
          "MN",
          "MS",
          "MO",
          "MT",
          "NE",
          "NV",
          "NH",
          "NJ",
          "NM",
          "NY",
          "NC",
          "ND",
          "OH",
          "OK",
          "OR",
          "PA",
          "RI",
          "SC",
          "SD",
          "TN",
          "TX",
          "UT",
          "VT",
          "VA",
          "WA",
          "WV",
          "WI",
          "WY",
          "AL",
          "AK",
          "AZ",
          "AR",
          "CA",
          "CO",
          "CT",
          "DE",
          "DC",
          "FL",
          "GA",
          "HI",
          "ID",
          "IL",
          "IN",
          "IA",
          "KS",
          "KY",
          "LA",
          "ME",
          "MD",
          "MA",
          "MI",
          "MN",
          "MS",
          "MO",
          "MT",
          "NE",
          "NV",
          "NH",
          "NJ",
          "NM",
          "NY",
          "NC",
          "ND",
          "OH",
          "OK",
          "OR",
          "PA",
          "RI",
          "SC",
          "SD",
          "TN",
          "TX",
          "UT",
          "VT",
          "VA",
          "WA",
          "WV",
          "WI",
          "WY",
          "AL",
          "AK",
          "AZ",
          "AR",
          "CA",
          "CO",
          "CT",
          "DE",
          "DC",
          "FL",
          "GA",
          "HI",
          "ID",
          "IL",
          "IN",
          "IA",
          "KS",
          "KY",
          "LA",
          "ME",
          "MD",
          "MA",
          "MI",
          "MN",
          "MS",
          "MO",
          "MT",
          "NE",
          "NV",
          "NH",
          "NJ",
          "NM",
          "NY",
          "NC",
          "ND",
          "OH",
          "OK",
          "OR",
          "PA",
          "RI",
          "SC",
          "SD",
          "TN",
          "TX",
          "UT",
          "VT",
          "VA",
          "WA",
          "WV",
          "WI",
          "WY",
          "AL",
          "AK",
          "AZ",
          "AR",
          "CA",
          "CO",
          "CT",
          "DE",
          "DC",
          "FL",
          "GA",
          "HI",
          "ID",
          "IL",
          "IN",
          "IA",
          "KS",
          "KY",
          "LA",
          "ME",
          "MD",
          "MA",
          "MI",
          "MN",
          "MS",
          "MO",
          "MT",
          "NE",
          "NV",
          "NH",
          "NJ",
          "NM",
          "NY",
          "NC",
          "ND",
          "OH",
          "OK",
          "OR",
          "PA",
          "RI",
          "SC",
          "SD",
          "TN",
          "TX",
          "UT",
          "VT",
          "VA",
          "WA",
          "WV",
          "WI",
          "WY",
          "AL",
          "AK",
          "AZ",
          "AR",
          "CA",
          "CO",
          "CT",
          "DE",
          "DC",
          "FL",
          "GA",
          "HI",
          "ID",
          "IL",
          "IN",
          "IA",
          "KS",
          "KY",
          "LA",
          "ME",
          "MD",
          "MA",
          "MI",
          "MN",
          "MS",
          "MO",
          "MT",
          "NE",
          "NV",
          "NH",
          "NJ",
          "NM",
          "NY",
          "NC",
          "ND",
          "OH",
          "OK",
          "OR",
          "PA",
          "RI",
          "SC",
          "SD",
          "TN",
          "TX",
          "UT",
          "VT",
          "VA",
          "WA",
          "WV",
          "WI",
          "WY",
          "AL",
          "AK",
          "AZ",
          "AR",
          "CA",
          "CO",
          "CT",
          "DE",
          "DC",
          "FL",
          "GA",
          "HI",
          "ID",
          "IL",
          "IN",
          "IA",
          "KS",
          "KY",
          "LA",
          "ME",
          "MD",
          "MA",
          "MI",
          "MN",
          "MS",
          "MO",
          "MT",
          "NE",
          "NV",
          "NH",
          "NJ",
          "NM",
          "NY",
          "NC",
          "ND",
          "OH",
          "OK",
          "OR",
          "PA",
          "RI",
          "SC",
          "SD",
          "TN",
          "TX",
          "UT",
          "VT",
          "VA",
          "WA",
          "WV",
          "WI",
          "WY",
          "AL",
          "AK",
          "AZ",
          "AR",
          "CA",
          "CO",
          "CT",
          "DE",
          "DC",
          "FL",
          "GA",
          "HI",
          "ID",
          "IL",
          "IN",
          "IA",
          "KS",
          "KY",
          "LA",
          "ME",
          "MD",
          "MA",
          "MI",
          "MN",
          "MS",
          "MO",
          "MT",
          "NE",
          "NV",
          "NH",
          "NJ",
          "NM",
          "NY",
          "NC",
          "ND",
          "OH",
          "OK",
          "OR",
          "PA",
          "RI",
          "SC",
          "SD",
          "TN",
          "TX",
          "UT",
          "VT",
          "VA",
          "WA",
          "WV",
          "WI",
          "WY",
          "AL",
          "AK",
          "AZ",
          "AR",
          "CA",
          "CO",
          "CT",
          "DE",
          "DC",
          "FL",
          "GA",
          "HI",
          "ID",
          "IL",
          "IN",
          "IA",
          "KS",
          "KY",
          "LA",
          "ME",
          "MD",
          "MA",
          "MI",
          "MN",
          "MS",
          "MO",
          "MT",
          "NE",
          "NV",
          "NH",
          "NJ",
          "NM",
          "NY",
          "NC",
          "ND",
          "OH",
          "OK",
          "OR",
          "PA",
          "RI",
          "SC",
          "SD",
          "TN",
          "TX",
          "UT",
          "VT",
          "VA",
          "WA",
          "WV",
          "WI",
          "WY",
          "AL",
          "AK",
          "AZ",
          "AR",
          "CA",
          "CO",
          "CT",
          "DE",
          "DC",
          "FL",
          "GA",
          "HI",
          "ID",
          "IL",
          "IN",
          "IA",
          "KS",
          "KY",
          "LA",
          "ME",
          "MD",
          "MA",
          "MI",
          "MN",
          "MS",
          "MO",
          "MT",
          "NE",
          "NV",
          "NH",
          "NJ",
          "NM",
          "NY",
          "NC",
          "ND",
          "OH",
          "OK",
          "OR",
          "PA",
          "RI",
          "SC",
          "SD",
          "TN",
          "TX",
          "UT",
          "VT",
          "VA",
          "WA",
          "WV",
          "WI",
          "WY",
          "AL",
          "AK",
          "AZ",
          "AR",
          "CA",
          "CO",
          "CT",
          "DE",
          "DC",
          "FL",
          "GA",
          "HI",
          "ID",
          "IL",
          "IN",
          "IA",
          "KS",
          "KY",
          "LA",
          "ME",
          "MD",
          "MA",
          "MI",
          "MN",
          "MS",
          "MO",
          "MT",
          "NE",
          "NV",
          "NH",
          "NJ",
          "NM",
          "NY",
          "NC",
          "ND",
          "OH",
          "OK",
          "OR",
          "PA",
          "RI",
          "SC",
          "SD",
          "TN",
          "TX",
          "UT",
          "VT",
          "VA",
          "WA",
          "WV",
          "WI",
          "WY",
          "AL",
          "AK",
          "AZ",
          "AR",
          "CA",
          "CO",
          "CT",
          "DE",
          "DC",
          "FL",
          "GA",
          "HI",
          "ID",
          "IL",
          "IN",
          "IA",
          "KS",
          "KY",
          "LA",
          "ME",
          "MD",
          "MA",
          "MI",
          "MN",
          "MS",
          "MO",
          "MT",
          "NE",
          "NV",
          "NH",
          "NJ",
          "NM",
          "NY",
          "NC",
          "ND",
          "OH",
          "OK",
          "OR",
          "PA",
          "RI",
          "SC",
          "SD",
          "TN",
          "TX",
          "UT",
          "VT",
          "VA",
          "WA",
          "WV",
          "WI",
          "WY"
         ],
         "name": "",
         "type": "choropleth",
         "z": [
          141,
          33,
          171,
          82,
          761,
          138,
          114,
          30,
          16,
          627,
          277,
          37,
          49,
          335,
          179,
          145,
          109,
          144,
          145,
          48,
          132,
          155,
          271,
          210,
          99,
          159,
          47,
          93,
          69,
          44,
          246,
          46,
          550,
          270,
          48,
          333,
          116,
          108,
          343,
          34,
          110,
          48,
          192,
          569,
          64,
          15,
          205,
          149,
          64,
          215,
          30,
          141,
          33,
          171,
          82,
          761,
          138,
          114,
          30,
          16,
          627,
          277,
          37,
          49,
          335,
          179,
          145,
          109,
          144,
          145,
          48,
          132,
          155,
          271,
          210,
          99,
          159,
          47,
          93,
          69,
          44,
          246,
          46,
          550,
          270,
          48,
          333,
          116,
          108,
          343,
          34,
          110,
          48,
          192,
          569,
          64,
          15,
          205,
          149,
          64,
          215,
          30,
          141,
          33,
          171,
          82,
          761,
          138,
          114,
          30,
          16,
          627,
          277,
          37,
          49,
          335,
          179,
          145,
          109,
          144,
          145,
          48,
          132,
          155,
          271,
          210,
          99,
          159,
          47,
          93,
          69,
          44,
          246,
          46,
          550,
          270,
          48,
          333,
          116,
          108,
          343,
          34,
          110,
          48,
          192,
          569,
          64,
          15,
          205,
          149,
          64,
          215,
          30,
          141,
          33,
          171,
          82,
          761,
          138,
          114,
          30,
          16,
          627,
          277,
          37,
          49,
          335,
          179,
          145,
          109,
          144,
          145,
          48,
          132,
          155,
          271,
          210,
          99,
          159,
          47,
          93,
          69,
          44,
          246,
          46,
          550,
          270,
          48,
          333,
          116,
          108,
          343,
          34,
          110,
          48,
          192,
          569,
          64,
          15,
          205,
          149,
          64,
          215,
          30,
          141,
          33,
          171,
          82,
          761,
          138,
          114,
          30,
          16,
          627,
          277,
          37,
          49,
          335,
          179,
          145,
          109,
          144,
          145,
          48,
          132,
          155,
          271,
          210,
          99,
          159,
          47,
          93,
          69,
          44,
          246,
          46,
          550,
          270,
          48,
          333,
          116,
          108,
          343,
          34,
          110,
          48,
          192,
          569,
          64,
          15,
          205,
          149,
          64,
          215,
          30,
          141,
          33,
          171,
          82,
          761,
          138,
          114,
          30,
          16,
          627,
          277,
          37,
          49,
          335,
          179,
          145,
          109,
          144,
          145,
          48,
          132,
          155,
          271,
          210,
          99,
          159,
          47,
          93,
          69,
          44,
          246,
          46,
          550,
          270,
          48,
          333,
          116,
          108,
          343,
          34,
          110,
          48,
          192,
          569,
          64,
          15,
          205,
          149,
          64,
          215,
          30,
          141,
          33,
          171,
          82,
          761,
          138,
          114,
          30,
          16,
          627,
          277,
          37,
          49,
          335,
          179,
          145,
          109,
          144,
          145,
          48,
          132,
          155,
          271,
          210,
          99,
          159,
          47,
          93,
          69,
          44,
          246,
          46,
          550,
          270,
          48,
          333,
          116,
          108,
          343,
          34,
          110,
          48,
          192,
          569,
          64,
          15,
          205,
          149,
          64,
          215,
          30,
          141,
          33,
          171,
          82,
          761,
          138,
          114,
          30,
          16,
          627,
          277,
          37,
          49,
          335,
          179,
          145,
          109,
          144,
          145,
          48,
          132,
          155,
          271,
          210,
          99,
          159,
          47,
          93,
          69,
          44,
          246,
          46,
          550,
          270,
          48,
          333,
          116,
          108,
          343,
          34,
          110,
          48,
          192,
          569,
          64,
          15,
          205,
          149,
          64,
          215,
          30,
          141,
          33,
          171,
          82,
          761,
          138,
          114,
          30,
          16,
          627,
          277,
          37,
          49,
          335,
          179,
          145,
          109,
          144,
          145,
          48,
          132,
          155,
          271,
          210,
          99,
          159,
          47,
          93,
          69,
          44,
          246,
          46,
          550,
          270,
          48,
          333,
          116,
          108,
          343,
          34,
          110,
          48,
          192,
          569,
          64,
          15,
          205,
          149,
          64,
          215,
          30,
          141,
          33,
          171,
          82,
          761,
          138,
          114,
          30,
          16,
          627,
          277,
          37,
          49,
          335,
          179,
          145,
          109,
          144,
          145,
          48,
          132,
          155,
          271,
          210,
          99,
          159,
          47,
          93,
          69,
          44,
          246,
          46,
          550,
          270,
          48,
          333,
          116,
          108,
          343,
          34,
          110,
          48,
          192,
          569,
          64,
          15,
          205,
          149,
          64,
          215,
          30,
          141,
          33,
          171,
          82,
          761,
          138,
          114,
          30,
          16,
          627,
          277,
          37,
          49,
          335,
          179,
          145,
          109,
          144,
          145,
          48,
          132,
          155,
          271,
          210,
          99,
          159,
          47,
          93,
          69,
          44,
          246,
          46,
          550,
          270,
          48,
          333,
          116,
          108,
          343,
          34,
          110,
          48,
          192,
          569,
          64,
          15,
          205,
          149,
          64,
          215,
          30
         ]
        }
       ],
       "layout": {
        "coloraxis": {
         "cmax": 800,
         "cmin": 0,
         "colorbar": {
          "title": {
           "text": "CF"
          }
         },
         "colorscale": [
          [
           0,
           "rgb(247,252,245)"
          ],
          [
           0.125,
           "rgb(229,245,224)"
          ],
          [
           0.25,
           "rgb(199,233,192)"
          ],
          [
           0.375,
           "rgb(161,217,155)"
          ],
          [
           0.5,
           "rgb(116,196,118)"
          ],
          [
           0.625,
           "rgb(65,171,93)"
          ],
          [
           0.75,
           "rgb(35,139,69)"
          ],
          [
           0.875,
           "rgb(0,109,44)"
          ],
          [
           1,
           "rgb(0,68,27)"
          ]
         ]
        },
        "geo": {
         "center": {},
         "domain": {
          "x": [
           0,
           1
          ],
          "y": [
           0,
           1
          ]
         },
         "scope": "usa"
        },
        "legend": {
         "tracegroupgap": 0
        },
        "margin": {
         "t": 60
        },
        "template": {
         "data": {
          "bar": [
           {
            "error_x": {
             "color": "#2a3f5f"
            },
            "error_y": {
             "color": "#2a3f5f"
            },
            "marker": {
             "line": {
              "color": "#E5ECF6",
              "width": 0.5
             },
             "pattern": {
              "fillmode": "overlay",
              "size": 10,
              "solidity": 0.2
             }
            },
            "type": "bar"
           }
          ],
          "barpolar": [
           {
            "marker": {
             "line": {
              "color": "#E5ECF6",
              "width": 0.5
             },
             "pattern": {
              "fillmode": "overlay",
              "size": 10,
              "solidity": 0.2
             }
            },
            "type": "barpolar"
           }
          ],
          "carpet": [
           {
            "aaxis": {
             "endlinecolor": "#2a3f5f",
             "gridcolor": "white",
             "linecolor": "white",
             "minorgridcolor": "white",
             "startlinecolor": "#2a3f5f"
            },
            "baxis": {
             "endlinecolor": "#2a3f5f",
             "gridcolor": "white",
             "linecolor": "white",
             "minorgridcolor": "white",
             "startlinecolor": "#2a3f5f"
            },
            "type": "carpet"
           }
          ],
          "choropleth": [
           {
            "colorbar": {
             "outlinewidth": 0,
             "ticks": ""
            },
            "type": "choropleth"
           }
          ],
          "contour": [
           {
            "colorbar": {
             "outlinewidth": 0,
             "ticks": ""
            },
            "colorscale": [
             [
              0,
              "#0d0887"
             ],
             [
              0.1111111111111111,
              "#46039f"
             ],
             [
              0.2222222222222222,
              "#7201a8"
             ],
             [
              0.3333333333333333,
              "#9c179e"
             ],
             [
              0.4444444444444444,
              "#bd3786"
             ],
             [
              0.5555555555555556,
              "#d8576b"
             ],
             [
              0.6666666666666666,
              "#ed7953"
             ],
             [
              0.7777777777777778,
              "#fb9f3a"
             ],
             [
              0.8888888888888888,
              "#fdca26"
             ],
             [
              1,
              "#f0f921"
             ]
            ],
            "type": "contour"
           }
          ],
          "contourcarpet": [
           {
            "colorbar": {
             "outlinewidth": 0,
             "ticks": ""
            },
            "type": "contourcarpet"
           }
          ],
          "heatmap": [
           {
            "colorbar": {
             "outlinewidth": 0,
             "ticks": ""
            },
            "colorscale": [
             [
              0,
              "#0d0887"
             ],
             [
              0.1111111111111111,
              "#46039f"
             ],
             [
              0.2222222222222222,
              "#7201a8"
             ],
             [
              0.3333333333333333,
              "#9c179e"
             ],
             [
              0.4444444444444444,
              "#bd3786"
             ],
             [
              0.5555555555555556,
              "#d8576b"
             ],
             [
              0.6666666666666666,
              "#ed7953"
             ],
             [
              0.7777777777777778,
              "#fb9f3a"
             ],
             [
              0.8888888888888888,
              "#fdca26"
             ],
             [
              1,
              "#f0f921"
             ]
            ],
            "type": "heatmap"
           }
          ],
          "heatmapgl": [
           {
            "colorbar": {
             "outlinewidth": 0,
             "ticks": ""
            },
            "colorscale": [
             [
              0,
              "#0d0887"
             ],
             [
              0.1111111111111111,
              "#46039f"
             ],
             [
              0.2222222222222222,
              "#7201a8"
             ],
             [
              0.3333333333333333,
              "#9c179e"
             ],
             [
              0.4444444444444444,
              "#bd3786"
             ],
             [
              0.5555555555555556,
              "#d8576b"
             ],
             [
              0.6666666666666666,
              "#ed7953"
             ],
             [
              0.7777777777777778,
              "#fb9f3a"
             ],
             [
              0.8888888888888888,
              "#fdca26"
             ],
             [
              1,
              "#f0f921"
             ]
            ],
            "type": "heatmapgl"
           }
          ],
          "histogram": [
           {
            "marker": {
             "pattern": {
              "fillmode": "overlay",
              "size": 10,
              "solidity": 0.2
             }
            },
            "type": "histogram"
           }
          ],
          "histogram2d": [
           {
            "colorbar": {
             "outlinewidth": 0,
             "ticks": ""
            },
            "colorscale": [
             [
              0,
              "#0d0887"
             ],
             [
              0.1111111111111111,
              "#46039f"
             ],
             [
              0.2222222222222222,
              "#7201a8"
             ],
             [
              0.3333333333333333,
              "#9c179e"
             ],
             [
              0.4444444444444444,
              "#bd3786"
             ],
             [
              0.5555555555555556,
              "#d8576b"
             ],
             [
              0.6666666666666666,
              "#ed7953"
             ],
             [
              0.7777777777777778,
              "#fb9f3a"
             ],
             [
              0.8888888888888888,
              "#fdca26"
             ],
             [
              1,
              "#f0f921"
             ]
            ],
            "type": "histogram2d"
           }
          ],
          "histogram2dcontour": [
           {
            "colorbar": {
             "outlinewidth": 0,
             "ticks": ""
            },
            "colorscale": [
             [
              0,
              "#0d0887"
             ],
             [
              0.1111111111111111,
              "#46039f"
             ],
             [
              0.2222222222222222,
              "#7201a8"
             ],
             [
              0.3333333333333333,
              "#9c179e"
             ],
             [
              0.4444444444444444,
              "#bd3786"
             ],
             [
              0.5555555555555556,
              "#d8576b"
             ],
             [
              0.6666666666666666,
              "#ed7953"
             ],
             [
              0.7777777777777778,
              "#fb9f3a"
             ],
             [
              0.8888888888888888,
              "#fdca26"
             ],
             [
              1,
              "#f0f921"
             ]
            ],
            "type": "histogram2dcontour"
           }
          ],
          "mesh3d": [
           {
            "colorbar": {
             "outlinewidth": 0,
             "ticks": ""
            },
            "type": "mesh3d"
           }
          ],
          "parcoords": [
           {
            "line": {
             "colorbar": {
              "outlinewidth": 0,
              "ticks": ""
             }
            },
            "type": "parcoords"
           }
          ],
          "pie": [
           {
            "automargin": true,
            "type": "pie"
           }
          ],
          "scatter": [
           {
            "fillpattern": {
             "fillmode": "overlay",
             "size": 10,
             "solidity": 0.2
            },
            "type": "scatter"
           }
          ],
          "scatter3d": [
           {
            "line": {
             "colorbar": {
              "outlinewidth": 0,
              "ticks": ""
             }
            },
            "marker": {
             "colorbar": {
              "outlinewidth": 0,
              "ticks": ""
             }
            },
            "type": "scatter3d"
           }
          ],
          "scattercarpet": [
           {
            "marker": {
             "colorbar": {
              "outlinewidth": 0,
              "ticks": ""
             }
            },
            "type": "scattercarpet"
           }
          ],
          "scattergeo": [
           {
            "marker": {
             "colorbar": {
              "outlinewidth": 0,
              "ticks": ""
             }
            },
            "type": "scattergeo"
           }
          ],
          "scattergl": [
           {
            "marker": {
             "colorbar": {
              "outlinewidth": 0,
              "ticks": ""
             }
            },
            "type": "scattergl"
           }
          ],
          "scattermapbox": [
           {
            "marker": {
             "colorbar": {
              "outlinewidth": 0,
              "ticks": ""
             }
            },
            "type": "scattermapbox"
           }
          ],
          "scatterpolar": [
           {
            "marker": {
             "colorbar": {
              "outlinewidth": 0,
              "ticks": ""
             }
            },
            "type": "scatterpolar"
           }
          ],
          "scatterpolargl": [
           {
            "marker": {
             "colorbar": {
              "outlinewidth": 0,
              "ticks": ""
             }
            },
            "type": "scatterpolargl"
           }
          ],
          "scatterternary": [
           {
            "marker": {
             "colorbar": {
              "outlinewidth": 0,
              "ticks": ""
             }
            },
            "type": "scatterternary"
           }
          ],
          "surface": [
           {
            "colorbar": {
             "outlinewidth": 0,
             "ticks": ""
            },
            "colorscale": [
             [
              0,
              "#0d0887"
             ],
             [
              0.1111111111111111,
              "#46039f"
             ],
             [
              0.2222222222222222,
              "#7201a8"
             ],
             [
              0.3333333333333333,
              "#9c179e"
             ],
             [
              0.4444444444444444,
              "#bd3786"
             ],
             [
              0.5555555555555556,
              "#d8576b"
             ],
             [
              0.6666666666666666,
              "#ed7953"
             ],
             [
              0.7777777777777778,
              "#fb9f3a"
             ],
             [
              0.8888888888888888,
              "#fdca26"
             ],
             [
              1,
              "#f0f921"
             ]
            ],
            "type": "surface"
           }
          ],
          "table": [
           {
            "cells": {
             "fill": {
              "color": "#EBF0F8"
             },
             "line": {
              "color": "white"
             }
            },
            "header": {
             "fill": {
              "color": "#C8D4E3"
             },
             "line": {
              "color": "white"
             }
            },
            "type": "table"
           }
          ]
         },
         "layout": {
          "annotationdefaults": {
           "arrowcolor": "#2a3f5f",
           "arrowhead": 0,
           "arrowwidth": 1
          },
          "autotypenumbers": "strict",
          "coloraxis": {
           "colorbar": {
            "outlinewidth": 0,
            "ticks": ""
           }
          },
          "colorscale": {
           "diverging": [
            [
             0,
             "#8e0152"
            ],
            [
             0.1,
             "#c51b7d"
            ],
            [
             0.2,
             "#de77ae"
            ],
            [
             0.3,
             "#f1b6da"
            ],
            [
             0.4,
             "#fde0ef"
            ],
            [
             0.5,
             "#f7f7f7"
            ],
            [
             0.6,
             "#e6f5d0"
            ],
            [
             0.7,
             "#b8e186"
            ],
            [
             0.8,
             "#7fbc41"
            ],
            [
             0.9,
             "#4d9221"
            ],
            [
             1,
             "#276419"
            ]
           ],
           "sequential": [
            [
             0,
             "#0d0887"
            ],
            [
             0.1111111111111111,
             "#46039f"
            ],
            [
             0.2222222222222222,
             "#7201a8"
            ],
            [
             0.3333333333333333,
             "#9c179e"
            ],
            [
             0.4444444444444444,
             "#bd3786"
            ],
            [
             0.5555555555555556,
             "#d8576b"
            ],
            [
             0.6666666666666666,
             "#ed7953"
            ],
            [
             0.7777777777777778,
             "#fb9f3a"
            ],
            [
             0.8888888888888888,
             "#fdca26"
            ],
            [
             1,
             "#f0f921"
            ]
           ],
           "sequentialminus": [
            [
             0,
             "#0d0887"
            ],
            [
             0.1111111111111111,
             "#46039f"
            ],
            [
             0.2222222222222222,
             "#7201a8"
            ],
            [
             0.3333333333333333,
             "#9c179e"
            ],
            [
             0.4444444444444444,
             "#bd3786"
            ],
            [
             0.5555555555555556,
             "#d8576b"
            ],
            [
             0.6666666666666666,
             "#ed7953"
            ],
            [
             0.7777777777777778,
             "#fb9f3a"
            ],
            [
             0.8888888888888888,
             "#fdca26"
            ],
            [
             1,
             "#f0f921"
            ]
           ]
          },
          "colorway": [
           "#636efa",
           "#EF553B",
           "#00cc96",
           "#ab63fa",
           "#FFA15A",
           "#19d3f3",
           "#FF6692",
           "#B6E880",
           "#FF97FF",
           "#FECB52"
          ],
          "font": {
           "color": "#2a3f5f"
          },
          "geo": {
           "bgcolor": "white",
           "lakecolor": "white",
           "landcolor": "#E5ECF6",
           "showlakes": true,
           "showland": true,
           "subunitcolor": "white"
          },
          "hoverlabel": {
           "align": "left"
          },
          "hovermode": "closest",
          "mapbox": {
           "style": "light"
          },
          "paper_bgcolor": "white",
          "plot_bgcolor": "#E5ECF6",
          "polar": {
           "angularaxis": {
            "gridcolor": "white",
            "linecolor": "white",
            "ticks": ""
           },
           "bgcolor": "#E5ECF6",
           "radialaxis": {
            "gridcolor": "white",
            "linecolor": "white",
            "ticks": ""
           }
          },
          "scene": {
           "xaxis": {
            "backgroundcolor": "#E5ECF6",
            "gridcolor": "white",
            "gridwidth": 2,
            "linecolor": "white",
            "showbackground": true,
            "ticks": "",
            "zerolinecolor": "white"
           },
           "yaxis": {
            "backgroundcolor": "#E5ECF6",
            "gridcolor": "white",
            "gridwidth": 2,
            "linecolor": "white",
            "showbackground": true,
            "ticks": "",
            "zerolinecolor": "white"
           },
           "zaxis": {
            "backgroundcolor": "#E5ECF6",
            "gridcolor": "white",
            "gridwidth": 2,
            "linecolor": "white",
            "showbackground": true,
            "ticks": "",
            "zerolinecolor": "white"
           }
          },
          "shapedefaults": {
           "line": {
            "color": "#2a3f5f"
           }
          },
          "ternary": {
           "aaxis": {
            "gridcolor": "white",
            "linecolor": "white",
            "ticks": ""
           },
           "baxis": {
            "gridcolor": "white",
            "linecolor": "white",
            "ticks": ""
           },
           "bgcolor": "#E5ECF6",
           "caxis": {
            "gridcolor": "white",
            "linecolor": "white",
            "ticks": ""
           }
          },
          "title": {
           "x": 0.05
          },
          "xaxis": {
           "automargin": true,
           "gridcolor": "white",
           "linecolor": "white",
           "ticks": "",
           "title": {
            "standoff": 15
           },
           "zerolinecolor": "white",
           "zerolinewidth": 2
          },
          "yaxis": {
           "automargin": true,
           "gridcolor": "white",
           "linecolor": "white",
           "ticks": "",
           "title": {
            "standoff": 15
           },
           "zerolinecolor": "white",
           "zerolinewidth": 2
          }
         }
        },
        "title": {
         "font": {
          "color": "black",
          "family": "Times New Roman",
          "size": 22
         },
         "text": "2019 U.S. Breast Cancer Certified Facilities Distribution",
         "x": 0.45
        }
       }
      },
      "text/html": [
       "<div>                            <div id=\"ad86fd3e-6436-4756-a01d-b58de7ad8913\" class=\"plotly-graph-div\" style=\"height:525px; width:100%;\"></div>            <script type=\"text/javascript\">                require([\"plotly\"], function(Plotly) {                    window.PLOTLYENV=window.PLOTLYENV || {};                                    if (document.getElementById(\"ad86fd3e-6436-4756-a01d-b58de7ad8913\")) {                    Plotly.newPlot(                        \"ad86fd3e-6436-4756-a01d-b58de7ad8913\",                        [{\"coloraxis\":\"coloraxis\",\"geo\":\"geo\",\"hovertemplate\":\"state_code=%{location}<br>CF=%{z}<extra></extra>\",\"locationmode\":\"USA-states\",\"locations\":[\"AL\",\"AK\",\"AZ\",\"AR\",\"CA\",\"CO\",\"CT\",\"DE\",\"DC\",\"FL\",\"GA\",\"HI\",\"ID\",\"IL\",\"IN\",\"IA\",\"KS\",\"KY\",\"LA\",\"ME\",\"MD\",\"MA\",\"MI\",\"MN\",\"MS\",\"MO\",\"MT\",\"NE\",\"NV\",\"NH\",\"NJ\",\"NM\",\"NY\",\"NC\",\"ND\",\"OH\",\"OK\",\"OR\",\"PA\",\"RI\",\"SC\",\"SD\",\"TN\",\"TX\",\"UT\",\"VT\",\"VA\",\"WA\",\"WV\",\"WI\",\"WY\",\"AL\",\"AK\",\"AZ\",\"AR\",\"CA\",\"CO\",\"CT\",\"DE\",\"DC\",\"FL\",\"GA\",\"HI\",\"ID\",\"IL\",\"IN\",\"IA\",\"KS\",\"KY\",\"LA\",\"ME\",\"MD\",\"MA\",\"MI\",\"MN\",\"MS\",\"MO\",\"MT\",\"NE\",\"NV\",\"NH\",\"NJ\",\"NM\",\"NY\",\"NC\",\"ND\",\"OH\",\"OK\",\"OR\",\"PA\",\"RI\",\"SC\",\"SD\",\"TN\",\"TX\",\"UT\",\"VT\",\"VA\",\"WA\",\"WV\",\"WI\",\"WY\",\"AL\",\"AK\",\"AZ\",\"AR\",\"CA\",\"CO\",\"CT\",\"DE\",\"DC\",\"FL\",\"GA\",\"HI\",\"ID\",\"IL\",\"IN\",\"IA\",\"KS\",\"KY\",\"LA\",\"ME\",\"MD\",\"MA\",\"MI\",\"MN\",\"MS\",\"MO\",\"MT\",\"NE\",\"NV\",\"NH\",\"NJ\",\"NM\",\"NY\",\"NC\",\"ND\",\"OH\",\"OK\",\"OR\",\"PA\",\"RI\",\"SC\",\"SD\",\"TN\",\"TX\",\"UT\",\"VT\",\"VA\",\"WA\",\"WV\",\"WI\",\"WY\",\"AL\",\"AK\",\"AZ\",\"AR\",\"CA\",\"CO\",\"CT\",\"DE\",\"DC\",\"FL\",\"GA\",\"HI\",\"ID\",\"IL\",\"IN\",\"IA\",\"KS\",\"KY\",\"LA\",\"ME\",\"MD\",\"MA\",\"MI\",\"MN\",\"MS\",\"MO\",\"MT\",\"NE\",\"NV\",\"NH\",\"NJ\",\"NM\",\"NY\",\"NC\",\"ND\",\"OH\",\"OK\",\"OR\",\"PA\",\"RI\",\"SC\",\"SD\",\"TN\",\"TX\",\"UT\",\"VT\",\"VA\",\"WA\",\"WV\",\"WI\",\"WY\",\"AL\",\"AK\",\"AZ\",\"AR\",\"CA\",\"CO\",\"CT\",\"DE\",\"DC\",\"FL\",\"GA\",\"HI\",\"ID\",\"IL\",\"IN\",\"IA\",\"KS\",\"KY\",\"LA\",\"ME\",\"MD\",\"MA\",\"MI\",\"MN\",\"MS\",\"MO\",\"MT\",\"NE\",\"NV\",\"NH\",\"NJ\",\"NM\",\"NY\",\"NC\",\"ND\",\"OH\",\"OK\",\"OR\",\"PA\",\"RI\",\"SC\",\"SD\",\"TN\",\"TX\",\"UT\",\"VT\",\"VA\",\"WA\",\"WV\",\"WI\",\"WY\",\"AL\",\"AK\",\"AZ\",\"AR\",\"CA\",\"CO\",\"CT\",\"DE\",\"DC\",\"FL\",\"GA\",\"HI\",\"ID\",\"IL\",\"IN\",\"IA\",\"KS\",\"KY\",\"LA\",\"ME\",\"MD\",\"MA\",\"MI\",\"MN\",\"MS\",\"MO\",\"MT\",\"NE\",\"NV\",\"NH\",\"NJ\",\"NM\",\"NY\",\"NC\",\"ND\",\"OH\",\"OK\",\"OR\",\"PA\",\"RI\",\"SC\",\"SD\",\"TN\",\"TX\",\"UT\",\"VT\",\"VA\",\"WA\",\"WV\",\"WI\",\"WY\",\"AL\",\"AK\",\"AZ\",\"AR\",\"CA\",\"CO\",\"CT\",\"DE\",\"DC\",\"FL\",\"GA\",\"HI\",\"ID\",\"IL\",\"IN\",\"IA\",\"KS\",\"KY\",\"LA\",\"ME\",\"MD\",\"MA\",\"MI\",\"MN\",\"MS\",\"MO\",\"MT\",\"NE\",\"NV\",\"NH\",\"NJ\",\"NM\",\"NY\",\"NC\",\"ND\",\"OH\",\"OK\",\"OR\",\"PA\",\"RI\",\"SC\",\"SD\",\"TN\",\"TX\",\"UT\",\"VT\",\"VA\",\"WA\",\"WV\",\"WI\",\"WY\",\"AL\",\"AK\",\"AZ\",\"AR\",\"CA\",\"CO\",\"CT\",\"DE\",\"DC\",\"FL\",\"GA\",\"HI\",\"ID\",\"IL\",\"IN\",\"IA\",\"KS\",\"KY\",\"LA\",\"ME\",\"MD\",\"MA\",\"MI\",\"MN\",\"MS\",\"MO\",\"MT\",\"NE\",\"NV\",\"NH\",\"NJ\",\"NM\",\"NY\",\"NC\",\"ND\",\"OH\",\"OK\",\"OR\",\"PA\",\"RI\",\"SC\",\"SD\",\"TN\",\"TX\",\"UT\",\"VT\",\"VA\",\"WA\",\"WV\",\"WI\",\"WY\",\"AL\",\"AK\",\"AZ\",\"AR\",\"CA\",\"CO\",\"CT\",\"DE\",\"DC\",\"FL\",\"GA\",\"HI\",\"ID\",\"IL\",\"IN\",\"IA\",\"KS\",\"KY\",\"LA\",\"ME\",\"MD\",\"MA\",\"MI\",\"MN\",\"MS\",\"MO\",\"MT\",\"NE\",\"NV\",\"NH\",\"NJ\",\"NM\",\"NY\",\"NC\",\"ND\",\"OH\",\"OK\",\"OR\",\"PA\",\"RI\",\"SC\",\"SD\",\"TN\",\"TX\",\"UT\",\"VT\",\"VA\",\"WA\",\"WV\",\"WI\",\"WY\",\"AL\",\"AK\",\"AZ\",\"AR\",\"CA\",\"CO\",\"CT\",\"DE\",\"DC\",\"FL\",\"GA\",\"HI\",\"ID\",\"IL\",\"IN\",\"IA\",\"KS\",\"KY\",\"LA\",\"ME\",\"MD\",\"MA\",\"MI\",\"MN\",\"MS\",\"MO\",\"MT\",\"NE\",\"NV\",\"NH\",\"NJ\",\"NM\",\"NY\",\"NC\",\"ND\",\"OH\",\"OK\",\"OR\",\"PA\",\"RI\",\"SC\",\"SD\",\"TN\",\"TX\",\"UT\",\"VT\",\"VA\",\"WA\",\"WV\",\"WI\",\"WY\",\"AL\",\"AK\",\"AZ\",\"AR\",\"CA\",\"CO\",\"CT\",\"DE\",\"DC\",\"FL\",\"GA\",\"HI\",\"ID\",\"IL\",\"IN\",\"IA\",\"KS\",\"KY\",\"LA\",\"ME\",\"MD\",\"MA\",\"MI\",\"MN\",\"MS\",\"MO\",\"MT\",\"NE\",\"NV\",\"NH\",\"NJ\",\"NM\",\"NY\",\"NC\",\"ND\",\"OH\",\"OK\",\"OR\",\"PA\",\"RI\",\"SC\",\"SD\",\"TN\",\"TX\",\"UT\",\"VT\",\"VA\",\"WA\",\"WV\",\"WI\",\"WY\"],\"name\":\"\",\"z\":[141,33,171,82,761,138,114,30,16,627,277,37,49,335,179,145,109,144,145,48,132,155,271,210,99,159,47,93,69,44,246,46,550,270,48,333,116,108,343,34,110,48,192,569,64,15,205,149,64,215,30,141,33,171,82,761,138,114,30,16,627,277,37,49,335,179,145,109,144,145,48,132,155,271,210,99,159,47,93,69,44,246,46,550,270,48,333,116,108,343,34,110,48,192,569,64,15,205,149,64,215,30,141,33,171,82,761,138,114,30,16,627,277,37,49,335,179,145,109,144,145,48,132,155,271,210,99,159,47,93,69,44,246,46,550,270,48,333,116,108,343,34,110,48,192,569,64,15,205,149,64,215,30,141,33,171,82,761,138,114,30,16,627,277,37,49,335,179,145,109,144,145,48,132,155,271,210,99,159,47,93,69,44,246,46,550,270,48,333,116,108,343,34,110,48,192,569,64,15,205,149,64,215,30,141,33,171,82,761,138,114,30,16,627,277,37,49,335,179,145,109,144,145,48,132,155,271,210,99,159,47,93,69,44,246,46,550,270,48,333,116,108,343,34,110,48,192,569,64,15,205,149,64,215,30,141,33,171,82,761,138,114,30,16,627,277,37,49,335,179,145,109,144,145,48,132,155,271,210,99,159,47,93,69,44,246,46,550,270,48,333,116,108,343,34,110,48,192,569,64,15,205,149,64,215,30,141,33,171,82,761,138,114,30,16,627,277,37,49,335,179,145,109,144,145,48,132,155,271,210,99,159,47,93,69,44,246,46,550,270,48,333,116,108,343,34,110,48,192,569,64,15,205,149,64,215,30,141,33,171,82,761,138,114,30,16,627,277,37,49,335,179,145,109,144,145,48,132,155,271,210,99,159,47,93,69,44,246,46,550,270,48,333,116,108,343,34,110,48,192,569,64,15,205,149,64,215,30,141,33,171,82,761,138,114,30,16,627,277,37,49,335,179,145,109,144,145,48,132,155,271,210,99,159,47,93,69,44,246,46,550,270,48,333,116,108,343,34,110,48,192,569,64,15,205,149,64,215,30,141,33,171,82,761,138,114,30,16,627,277,37,49,335,179,145,109,144,145,48,132,155,271,210,99,159,47,93,69,44,246,46,550,270,48,333,116,108,343,34,110,48,192,569,64,15,205,149,64,215,30,141,33,171,82,761,138,114,30,16,627,277,37,49,335,179,145,109,144,145,48,132,155,271,210,99,159,47,93,69,44,246,46,550,270,48,333,116,108,343,34,110,48,192,569,64,15,205,149,64,215,30],\"type\":\"choropleth\"}],                        {\"template\":{\"data\":{\"histogram2dcontour\":[{\"type\":\"histogram2dcontour\",\"colorbar\":{\"outlinewidth\":0,\"ticks\":\"\"},\"colorscale\":[[0.0,\"#0d0887\"],[0.1111111111111111,\"#46039f\"],[0.2222222222222222,\"#7201a8\"],[0.3333333333333333,\"#9c179e\"],[0.4444444444444444,\"#bd3786\"],[0.5555555555555556,\"#d8576b\"],[0.6666666666666666,\"#ed7953\"],[0.7777777777777778,\"#fb9f3a\"],[0.8888888888888888,\"#fdca26\"],[1.0,\"#f0f921\"]]}],\"choropleth\":[{\"type\":\"choropleth\",\"colorbar\":{\"outlinewidth\":0,\"ticks\":\"\"}}],\"histogram2d\":[{\"type\":\"histogram2d\",\"colorbar\":{\"outlinewidth\":0,\"ticks\":\"\"},\"colorscale\":[[0.0,\"#0d0887\"],[0.1111111111111111,\"#46039f\"],[0.2222222222222222,\"#7201a8\"],[0.3333333333333333,\"#9c179e\"],[0.4444444444444444,\"#bd3786\"],[0.5555555555555556,\"#d8576b\"],[0.6666666666666666,\"#ed7953\"],[0.7777777777777778,\"#fb9f3a\"],[0.8888888888888888,\"#fdca26\"],[1.0,\"#f0f921\"]]}],\"heatmap\":[{\"type\":\"heatmap\",\"colorbar\":{\"outlinewidth\":0,\"ticks\":\"\"},\"colorscale\":[[0.0,\"#0d0887\"],[0.1111111111111111,\"#46039f\"],[0.2222222222222222,\"#7201a8\"],[0.3333333333333333,\"#9c179e\"],[0.4444444444444444,\"#bd3786\"],[0.5555555555555556,\"#d8576b\"],[0.6666666666666666,\"#ed7953\"],[0.7777777777777778,\"#fb9f3a\"],[0.8888888888888888,\"#fdca26\"],[1.0,\"#f0f921\"]]}],\"heatmapgl\":[{\"type\":\"heatmapgl\",\"colorbar\":{\"outlinewidth\":0,\"ticks\":\"\"},\"colorscale\":[[0.0,\"#0d0887\"],[0.1111111111111111,\"#46039f\"],[0.2222222222222222,\"#7201a8\"],[0.3333333333333333,\"#9c179e\"],[0.4444444444444444,\"#bd3786\"],[0.5555555555555556,\"#d8576b\"],[0.6666666666666666,\"#ed7953\"],[0.7777777777777778,\"#fb9f3a\"],[0.8888888888888888,\"#fdca26\"],[1.0,\"#f0f921\"]]}],\"contourcarpet\":[{\"type\":\"contourcarpet\",\"colorbar\":{\"outlinewidth\":0,\"ticks\":\"\"}}],\"contour\":[{\"type\":\"contour\",\"colorbar\":{\"outlinewidth\":0,\"ticks\":\"\"},\"colorscale\":[[0.0,\"#0d0887\"],[0.1111111111111111,\"#46039f\"],[0.2222222222222222,\"#7201a8\"],[0.3333333333333333,\"#9c179e\"],[0.4444444444444444,\"#bd3786\"],[0.5555555555555556,\"#d8576b\"],[0.6666666666666666,\"#ed7953\"],[0.7777777777777778,\"#fb9f3a\"],[0.8888888888888888,\"#fdca26\"],[1.0,\"#f0f921\"]]}],\"surface\":[{\"type\":\"surface\",\"colorbar\":{\"outlinewidth\":0,\"ticks\":\"\"},\"colorscale\":[[0.0,\"#0d0887\"],[0.1111111111111111,\"#46039f\"],[0.2222222222222222,\"#7201a8\"],[0.3333333333333333,\"#9c179e\"],[0.4444444444444444,\"#bd3786\"],[0.5555555555555556,\"#d8576b\"],[0.6666666666666666,\"#ed7953\"],[0.7777777777777778,\"#fb9f3a\"],[0.8888888888888888,\"#fdca26\"],[1.0,\"#f0f921\"]]}],\"mesh3d\":[{\"type\":\"mesh3d\",\"colorbar\":{\"outlinewidth\":0,\"ticks\":\"\"}}],\"scatter\":[{\"fillpattern\":{\"fillmode\":\"overlay\",\"size\":10,\"solidity\":0.2},\"type\":\"scatter\"}],\"parcoords\":[{\"type\":\"parcoords\",\"line\":{\"colorbar\":{\"outlinewidth\":0,\"ticks\":\"\"}}}],\"scatterpolargl\":[{\"type\":\"scatterpolargl\",\"marker\":{\"colorbar\":{\"outlinewidth\":0,\"ticks\":\"\"}}}],\"bar\":[{\"error_x\":{\"color\":\"#2a3f5f\"},\"error_y\":{\"color\":\"#2a3f5f\"},\"marker\":{\"line\":{\"color\":\"#E5ECF6\",\"width\":0.5},\"pattern\":{\"fillmode\":\"overlay\",\"size\":10,\"solidity\":0.2}},\"type\":\"bar\"}],\"scattergeo\":[{\"type\":\"scattergeo\",\"marker\":{\"colorbar\":{\"outlinewidth\":0,\"ticks\":\"\"}}}],\"scatterpolar\":[{\"type\":\"scatterpolar\",\"marker\":{\"colorbar\":{\"outlinewidth\":0,\"ticks\":\"\"}}}],\"histogram\":[{\"marker\":{\"pattern\":{\"fillmode\":\"overlay\",\"size\":10,\"solidity\":0.2}},\"type\":\"histogram\"}],\"scattergl\":[{\"type\":\"scattergl\",\"marker\":{\"colorbar\":{\"outlinewidth\":0,\"ticks\":\"\"}}}],\"scatter3d\":[{\"type\":\"scatter3d\",\"line\":{\"colorbar\":{\"outlinewidth\":0,\"ticks\":\"\"}},\"marker\":{\"colorbar\":{\"outlinewidth\":0,\"ticks\":\"\"}}}],\"scattermapbox\":[{\"type\":\"scattermapbox\",\"marker\":{\"colorbar\":{\"outlinewidth\":0,\"ticks\":\"\"}}}],\"scatterternary\":[{\"type\":\"scatterternary\",\"marker\":{\"colorbar\":{\"outlinewidth\":0,\"ticks\":\"\"}}}],\"scattercarpet\":[{\"type\":\"scattercarpet\",\"marker\":{\"colorbar\":{\"outlinewidth\":0,\"ticks\":\"\"}}}],\"carpet\":[{\"aaxis\":{\"endlinecolor\":\"#2a3f5f\",\"gridcolor\":\"white\",\"linecolor\":\"white\",\"minorgridcolor\":\"white\",\"startlinecolor\":\"#2a3f5f\"},\"baxis\":{\"endlinecolor\":\"#2a3f5f\",\"gridcolor\":\"white\",\"linecolor\":\"white\",\"minorgridcolor\":\"white\",\"startlinecolor\":\"#2a3f5f\"},\"type\":\"carpet\"}],\"table\":[{\"cells\":{\"fill\":{\"color\":\"#EBF0F8\"},\"line\":{\"color\":\"white\"}},\"header\":{\"fill\":{\"color\":\"#C8D4E3\"},\"line\":{\"color\":\"white\"}},\"type\":\"table\"}],\"barpolar\":[{\"marker\":{\"line\":{\"color\":\"#E5ECF6\",\"width\":0.5},\"pattern\":{\"fillmode\":\"overlay\",\"size\":10,\"solidity\":0.2}},\"type\":\"barpolar\"}],\"pie\":[{\"automargin\":true,\"type\":\"pie\"}]},\"layout\":{\"autotypenumbers\":\"strict\",\"colorway\":[\"#636efa\",\"#EF553B\",\"#00cc96\",\"#ab63fa\",\"#FFA15A\",\"#19d3f3\",\"#FF6692\",\"#B6E880\",\"#FF97FF\",\"#FECB52\"],\"font\":{\"color\":\"#2a3f5f\"},\"hovermode\":\"closest\",\"hoverlabel\":{\"align\":\"left\"},\"paper_bgcolor\":\"white\",\"plot_bgcolor\":\"#E5ECF6\",\"polar\":{\"bgcolor\":\"#E5ECF6\",\"angularaxis\":{\"gridcolor\":\"white\",\"linecolor\":\"white\",\"ticks\":\"\"},\"radialaxis\":{\"gridcolor\":\"white\",\"linecolor\":\"white\",\"ticks\":\"\"}},\"ternary\":{\"bgcolor\":\"#E5ECF6\",\"aaxis\":{\"gridcolor\":\"white\",\"linecolor\":\"white\",\"ticks\":\"\"},\"baxis\":{\"gridcolor\":\"white\",\"linecolor\":\"white\",\"ticks\":\"\"},\"caxis\":{\"gridcolor\":\"white\",\"linecolor\":\"white\",\"ticks\":\"\"}},\"coloraxis\":{\"colorbar\":{\"outlinewidth\":0,\"ticks\":\"\"}},\"colorscale\":{\"sequential\":[[0.0,\"#0d0887\"],[0.1111111111111111,\"#46039f\"],[0.2222222222222222,\"#7201a8\"],[0.3333333333333333,\"#9c179e\"],[0.4444444444444444,\"#bd3786\"],[0.5555555555555556,\"#d8576b\"],[0.6666666666666666,\"#ed7953\"],[0.7777777777777778,\"#fb9f3a\"],[0.8888888888888888,\"#fdca26\"],[1.0,\"#f0f921\"]],\"sequentialminus\":[[0.0,\"#0d0887\"],[0.1111111111111111,\"#46039f\"],[0.2222222222222222,\"#7201a8\"],[0.3333333333333333,\"#9c179e\"],[0.4444444444444444,\"#bd3786\"],[0.5555555555555556,\"#d8576b\"],[0.6666666666666666,\"#ed7953\"],[0.7777777777777778,\"#fb9f3a\"],[0.8888888888888888,\"#fdca26\"],[1.0,\"#f0f921\"]],\"diverging\":[[0,\"#8e0152\"],[0.1,\"#c51b7d\"],[0.2,\"#de77ae\"],[0.3,\"#f1b6da\"],[0.4,\"#fde0ef\"],[0.5,\"#f7f7f7\"],[0.6,\"#e6f5d0\"],[0.7,\"#b8e186\"],[0.8,\"#7fbc41\"],[0.9,\"#4d9221\"],[1,\"#276419\"]]},\"xaxis\":{\"gridcolor\":\"white\",\"linecolor\":\"white\",\"ticks\":\"\",\"title\":{\"standoff\":15},\"zerolinecolor\":\"white\",\"automargin\":true,\"zerolinewidth\":2},\"yaxis\":{\"gridcolor\":\"white\",\"linecolor\":\"white\",\"ticks\":\"\",\"title\":{\"standoff\":15},\"zerolinecolor\":\"white\",\"automargin\":true,\"zerolinewidth\":2},\"scene\":{\"xaxis\":{\"backgroundcolor\":\"#E5ECF6\",\"gridcolor\":\"white\",\"linecolor\":\"white\",\"showbackground\":true,\"ticks\":\"\",\"zerolinecolor\":\"white\",\"gridwidth\":2},\"yaxis\":{\"backgroundcolor\":\"#E5ECF6\",\"gridcolor\":\"white\",\"linecolor\":\"white\",\"showbackground\":true,\"ticks\":\"\",\"zerolinecolor\":\"white\",\"gridwidth\":2},\"zaxis\":{\"backgroundcolor\":\"#E5ECF6\",\"gridcolor\":\"white\",\"linecolor\":\"white\",\"showbackground\":true,\"ticks\":\"\",\"zerolinecolor\":\"white\",\"gridwidth\":2}},\"shapedefaults\":{\"line\":{\"color\":\"#2a3f5f\"}},\"annotationdefaults\":{\"arrowcolor\":\"#2a3f5f\",\"arrowhead\":0,\"arrowwidth\":1},\"geo\":{\"bgcolor\":\"white\",\"landcolor\":\"#E5ECF6\",\"subunitcolor\":\"white\",\"showland\":true,\"showlakes\":true,\"lakecolor\":\"white\"},\"title\":{\"x\":0.05},\"mapbox\":{\"style\":\"light\"}}},\"geo\":{\"domain\":{\"x\":[0.0,1.0],\"y\":[0.0,1.0]},\"center\":{},\"scope\":\"usa\"},\"coloraxis\":{\"colorbar\":{\"title\":{\"text\":\"CF\"}},\"colorscale\":[[0.0,\"rgb(247,252,245)\"],[0.125,\"rgb(229,245,224)\"],[0.25,\"rgb(199,233,192)\"],[0.375,\"rgb(161,217,155)\"],[0.5,\"rgb(116,196,118)\"],[0.625,\"rgb(65,171,93)\"],[0.75,\"rgb(35,139,69)\"],[0.875,\"rgb(0,109,44)\"],[1.0,\"rgb(0,68,27)\"]],\"cmin\":0,\"cmax\":800},\"legend\":{\"tracegroupgap\":0},\"margin\":{\"t\":60},\"title\":{\"font\":{\"family\":\"Times New Roman\",\"size\":22,\"color\":\"black\"},\"text\":\"2019 U.S. Breast Cancer Certified Facilities Distribution\",\"x\":0.45}},                        {\"responsive\": true}                    ).then(function(){\n",
       "                            \n",
       "var gd = document.getElementById('ad86fd3e-6436-4756-a01d-b58de7ad8913');\n",
       "var x = new MutationObserver(function (mutations, observer) {{\n",
       "        var display = window.getComputedStyle(gd).display;\n",
       "        if (!display || display === 'none') {{\n",
       "            console.log([gd, 'removed!']);\n",
       "            Plotly.purge(gd);\n",
       "            observer.disconnect();\n",
       "        }}\n",
       "}});\n",
       "\n",
       "// Listen for the removal of the full notebook cells\n",
       "var notebookContainer = gd.closest('#notebook-container');\n",
       "if (notebookContainer) {{\n",
       "    x.observe(notebookContainer, {childList: true});\n",
       "}}\n",
       "\n",
       "// Listen for the clearing of the current output cell\n",
       "var outputEl = gd.closest('.output');\n",
       "if (outputEl) {{\n",
       "    x.observe(outputEl, {childList: true});\n",
       "}}\n",
       "\n",
       "                        })                };                });            </script>        </div>"
      ]
     },
     "metadata": {},
     "output_type": "display_data"
    }
   ],
   "source": [
    "import plotly.express as px\n",
    "fig = px.choropleth(df,\n",
    "                    locations='state_code', \n",
    "                    locationmode=\"USA-states\", \n",
    "                    scope=\"usa\",\n",
    "                    color='CF',\n",
    "                    range_color=(0, 800),\n",
    "                    color_continuous_scale=\"greens\", \n",
    "                    )\n",
    "fig.update_layout(\n",
    "      title_text = '2019 U.S. Breast Cancer Certified Facilities Distribution',\n",
    "      title_font_family=\"Times New Roman\",\n",
    "      title_font_size = 22,\n",
    "      title_font_color=\"black\", \n",
    "      title_x=0.45, \n",
    "         )"
   ]
  },
  {
   "cell_type": "code",
   "execution_count": 439,
   "id": "204d675d",
   "metadata": {},
   "outputs": [],
   "source": [
    "# import plotly.express as px\n",
    "# fig = px.choropleth(df,\n",
    "#                     locations='state_code', \n",
    "#                     locationmode=\"USA-states\", \n",
    "#                     scope=\"usa\",\n",
    "#                     color='CF_percentage1',\n",
    "#                     range_color=(-0.02, 0.05),\n",
    "#                     color_continuous_scale=\"blues\",\n",
    "#                     )\n",
    "# fig.update_layout(\n",
    "#       title_text = 'Fund Allocation with 1000 New Certified Facilities',\n",
    "#       title_font_family=\"Times New Roman\",\n",
    "#       title_font_size = 22,\n",
    "#       title_font_color=\"black\", \n",
    "#       title_x=0.45, \n",
    "#          )"
   ]
  },
  {
   "cell_type": "code",
   "execution_count": 440,
   "id": "c228de43",
   "metadata": {},
   "outputs": [],
   "source": [
    "# import plotly.express as px\n",
    "# fig = px.choropleth(df,\n",
    "#                     locations='state_code', \n",
    "#                     locationmode=\"USA-states\", \n",
    "#                     scope=\"usa\",\n",
    "#                     color='CF_percentage2',\n",
    "#                      range_color=(-0.02, 0.05),\n",
    "#                     color_continuous_scale=\"blues\", \n",
    "#                     )\n",
    "# fig.update_layout(\n",
    "#       title_text = 'Fund Allocation with 5000 New Certified Facilities',\n",
    "#       title_font_family=\"Times New Roman\",\n",
    "#       title_font_size = 22,\n",
    "#       title_font_color=\"black\", \n",
    "#       title_x=0.45, \n",
    "#          )"
   ]
  },
  {
   "cell_type": "code",
   "execution_count": 441,
   "id": "e42d535f",
   "metadata": {},
   "outputs": [],
   "source": [
    "# import plotly.express as px\n",
    "# fig = px.choropleth(df,\n",
    "#                     locations='state_code', \n",
    "#                     locationmode=\"USA-states\", \n",
    "#                     scope=\"usa\",\n",
    "#                     color='CF_percentage3',\n",
    "#                      range_color=(-0.02, 0.05),\n",
    "#                     color_continuous_scale=\"blues\", \n",
    "#                     )\n",
    "# fig.update_layout(\n",
    "#       title_text = 'Fund Allocation with 8000 New Certified Facilities',\n",
    "#       title_font_family=\"Times New Roman\",\n",
    "#       title_font_size = 22,\n",
    "#       title_font_color=\"black\", \n",
    "#       title_x=0.45, \n",
    "#          )"
   ]
  },
  {
   "cell_type": "code",
   "execution_count": 442,
   "id": "f48d1719",
   "metadata": {},
   "outputs": [
    {
     "data": {
      "application/vnd.plotly.v1+json": {
       "config": {
        "plotlyServerURL": "https://plot.ly"
       },
       "data": [
        {
         "coloraxis": "coloraxis",
         "geo": "geo",
         "hovertemplate": "total_NCF=1000<br>state_code=%{location}<br>CF_percentage=%{z}<extra></extra>",
         "locationmode": "USA-states",
         "locations": [
          "AL",
          "AK",
          "AZ",
          "AR",
          "CA",
          "CO",
          "CT",
          "DE",
          "DC",
          "FL",
          "GA",
          "HI",
          "ID",
          "IL",
          "IN",
          "IA",
          "KS",
          "KY",
          "LA",
          "ME",
          "MD",
          "MA",
          "MI",
          "MN",
          "MS",
          "MO",
          "MT",
          "NE",
          "NV",
          "NH",
          "NJ",
          "NM",
          "NY",
          "NC",
          "ND",
          "OH",
          "OK",
          "OR",
          "PA",
          "RI",
          "SC",
          "SD",
          "TN",
          "TX",
          "UT",
          "VT",
          "VA",
          "WA",
          "WV",
          "WI",
          "WY"
         ],
         "name": "",
         "type": "choropleth",
         "z": [
          0.010133484,
          -0.015585001,
          0.043456225,
          0.0078476,
          0.32179382,
          0.017488879,
          -0.001310961,
          0.001833424,
          0.001397461,
          0.090799919,
          0.020012535,
          0.006006247,
          -1.86887e-05,
          0.035986194,
          0.015097814,
          -0.052703881,
          -0.027157535,
          -0.01027719,
          -0.010225093,
          -0.001334086,
          0.049621166,
          0.056371173,
          0.035451668,
          -0.048803222,
          -0.010867067,
          0.025710816,
          -0.014407245,
          -0.039540521,
          0.017869875,
          0.000106405,
          0.026282428,
          0.016754048,
          0.042785474,
          0.046703337,
          -0.0281406,
          0.024305463,
          -0.004613568,
          0.019784271,
          0.063861122,
          -0.000872679,
          0.052013392,
          -0.023139006,
          0.012919509,
          0.164059739,
          0.005683098,
          0.005583418,
          0.044468312,
          0.065611018,
          -0.004773282,
          -0.040365494,
          -0.013664213
         ]
        }
       ],
       "frames": [
        {
         "data": [
          {
           "coloraxis": "coloraxis",
           "geo": "geo",
           "hovertemplate": "total_NCF=1000<br>state_code=%{location}<br>CF_percentage=%{z}<extra></extra>",
           "locationmode": "USA-states",
           "locations": [
            "AL",
            "AK",
            "AZ",
            "AR",
            "CA",
            "CO",
            "CT",
            "DE",
            "DC",
            "FL",
            "GA",
            "HI",
            "ID",
            "IL",
            "IN",
            "IA",
            "KS",
            "KY",
            "LA",
            "ME",
            "MD",
            "MA",
            "MI",
            "MN",
            "MS",
            "MO",
            "MT",
            "NE",
            "NV",
            "NH",
            "NJ",
            "NM",
            "NY",
            "NC",
            "ND",
            "OH",
            "OK",
            "OR",
            "PA",
            "RI",
            "SC",
            "SD",
            "TN",
            "TX",
            "UT",
            "VT",
            "VA",
            "WA",
            "WV",
            "WI",
            "WY"
           ],
           "name": "",
           "type": "choropleth",
           "z": [
            0.010133484,
            -0.015585001,
            0.043456225,
            0.0078476,
            0.32179382,
            0.017488879,
            -0.001310961,
            0.001833424,
            0.001397461,
            0.090799919,
            0.020012535,
            0.006006247,
            -1.86887e-05,
            0.035986194,
            0.015097814,
            -0.052703881,
            -0.027157535,
            -0.01027719,
            -0.010225093,
            -0.001334086,
            0.049621166,
            0.056371173,
            0.035451668,
            -0.048803222,
            -0.010867067,
            0.025710816,
            -0.014407245,
            -0.039540521,
            0.017869875,
            0.000106405,
            0.026282428,
            0.016754048,
            0.042785474,
            0.046703337,
            -0.0281406,
            0.024305463,
            -0.004613568,
            0.019784271,
            0.063861122,
            -0.000872679,
            0.052013392,
            -0.023139006,
            0.012919509,
            0.164059739,
            0.005683098,
            0.005583418,
            0.044468312,
            0.065611018,
            -0.004773282,
            -0.040365494,
            -0.013664213
           ]
          }
         ],
         "name": "1000"
        },
        {
         "data": [
          {
           "coloraxis": "coloraxis",
           "geo": "geo",
           "hovertemplate": "total_NCF=2000<br>state_code=%{location}<br>CF_percentage=%{z}<extra></extra>",
           "locationmode": "USA-states",
           "locations": [
            "AL",
            "AK",
            "AZ",
            "AR",
            "CA",
            "CO",
            "CT",
            "DE",
            "DC",
            "FL",
            "GA",
            "HI",
            "ID",
            "IL",
            "IN",
            "IA",
            "KS",
            "KY",
            "LA",
            "ME",
            "MD",
            "MA",
            "MI",
            "MN",
            "MS",
            "MO",
            "MT",
            "NE",
            "NV",
            "NH",
            "NJ",
            "NM",
            "NY",
            "NC",
            "ND",
            "OH",
            "OK",
            "OR",
            "PA",
            "RI",
            "SC",
            "SD",
            "TN",
            "TX",
            "UT",
            "VT",
            "VA",
            "WA",
            "WV",
            "WI",
            "WY"
           ],
           "name": "",
           "type": "choropleth",
           "z": [
            0.012925998,
            -0.006886884,
            0.032880282,
            0.008596062,
            0.217204441,
            0.016830185,
            0.005204584,
            0.002572116,
            0.001603435,
            0.082727048,
            0.025451537,
            0.005239538,
            0.002537786,
            0.037285151,
            0.017642397,
            -0.02155235,
            -0.009322789,
            0.001815269,
            0.001896029,
            0.001759681,
            0.034255261,
            0.039177327,
            0.033661958,
            -0.016019043,
            -0.000850438,
            0.022460754,
            -0.005508731,
            -0.016990256,
            0.013452351,
            0.002346827,
            0.027300467,
            0.011640365,
            0.052218815,
            0.039820901,
            -0.01303757,
            0.030733359,
            0.003485542,
            0.016537183,
            0.053088186,
            0.00128635,
            0.034431729,
            -0.01027668,
            0.017115995,
            0.120150501,
            0.006465215,
            0.003862089,
            0.035207027,
            0.043965728,
            0.000693272,
            -0.011101389,
            -0.005982611
           ]
          }
         ],
         "name": "2000"
        },
        {
         "data": [
          {
           "coloraxis": "coloraxis",
           "geo": "geo",
           "hovertemplate": "total_NCF=3000<br>state_code=%{location}<br>CF_percentage=%{z}<extra></extra>",
           "locationmode": "USA-states",
           "locations": [
            "AL",
            "AK",
            "AZ",
            "AR",
            "CA",
            "CO",
            "CT",
            "DE",
            "DC",
            "FL",
            "GA",
            "HI",
            "ID",
            "IL",
            "IN",
            "IA",
            "KS",
            "KY",
            "LA",
            "ME",
            "MD",
            "MA",
            "MI",
            "MN",
            "MS",
            "MO",
            "MT",
            "NE",
            "NV",
            "NH",
            "NJ",
            "NM",
            "NY",
            "NC",
            "ND",
            "OH",
            "OK",
            "OR",
            "PA",
            "RI",
            "SC",
            "SD",
            "TN",
            "TX",
            "UT",
            "VT",
            "VA",
            "WA",
            "WV",
            "WI",
            "WY"
           ],
           "name": "",
           "type": "choropleth",
           "z": [
            0.013856835,
            -0.003987512,
            0.029354968,
            0.008845549,
            0.182341314,
            0.01661062,
            0.007376432,
            0.002818347,
            0.001672093,
            0.080036091,
            0.027264538,
            0.004983968,
            0.003389944,
            0.037718136,
            0.018490591,
            -0.011168507,
            -0.003377874,
            0.005846089,
            0.005936403,
            0.002790937,
            0.029133293,
            0.033446045,
            0.033065388,
            -0.005090984,
            0.002488439,
            0.021377401,
            -0.00254256,
            -0.009473502,
            0.011979844,
            0.003093635,
            0.027639813,
            0.009935804,
            0.055363262,
            0.037526755,
            -0.008003226,
            0.032875991,
            0.006185245,
            0.015454821,
            0.049497207,
            0.002006026,
            0.028571175,
            -0.005989237,
            0.018514824,
            0.105514088,
            0.006725921,
            0.003288313,
            0.032119932,
            0.036750632,
            0.002515456,
            -0.001346688,
            -0.003422078
           ]
          }
         ],
         "name": "3000"
        },
        {
         "data": [
          {
           "coloraxis": "coloraxis",
           "geo": "geo",
           "hovertemplate": "total_NCF=4000<br>state_code=%{location}<br>CF_percentage=%{z}<extra></extra>",
           "locationmode": "USA-states",
           "locations": [
            "AL",
            "AK",
            "AZ",
            "AR",
            "CA",
            "CO",
            "CT",
            "DE",
            "DC",
            "FL",
            "GA",
            "HI",
            "ID",
            "IL",
            "IN",
            "IA",
            "KS",
            "KY",
            "LA",
            "ME",
            "MD",
            "MA",
            "MI",
            "MN",
            "MS",
            "MO",
            "MT",
            "NE",
            "NV",
            "NH",
            "NJ",
            "NM",
            "NY",
            "NC",
            "ND",
            "OH",
            "OK",
            "OR",
            "PA",
            "RI",
            "SC",
            "SD",
            "TN",
            "TX",
            "UT",
            "VT",
            "VA",
            "WA",
            "WV",
            "WI",
            "WY"
           ],
           "name": "",
           "type": "choropleth",
           "z": [
            0.014322254,
            -0.002537826,
            0.027592311,
            0.008970293,
            0.164909751,
            0.016500838,
            0.008462357,
            0.002941462,
            0.001706421,
            0.078690613,
            0.028171038,
            0.004856183,
            0.003816023,
            0.037934629,
            0.018914689,
            -0.005976585,
            -0.000405416,
            0.007861499,
            0.00795659,
            0.003306565,
            0.026572309,
            0.030580404,
            0.032767103,
            0.000373046,
            0.004157877,
            0.020835724,
            -0.001059475,
            -0.005715124,
            0.01124359,
            0.003467038,
            0.027809486,
            0.009083523,
            0.056935485,
            0.036379683,
            -0.005486055,
            0.033947307,
            0.007535097,
            0.01491364,
            0.047701717,
            0.002365865,
            0.025640898,
            -0.003845516,
            0.019214238,
            0.098195882,
            0.006856274,
            0.003001425,
            0.030576385,
            0.033143084,
            0.003426548,
            0.003530663,
            -0.002141811
           ]
          }
         ],
         "name": "4000"
        },
        {
         "data": [
          {
           "coloraxis": "coloraxis",
           "geo": "geo",
           "hovertemplate": "total_NCF=5000<br>state_code=%{location}<br>CF_percentage=%{z}<extra></extra>",
           "locationmode": "USA-states",
           "locations": [
            "AL",
            "AK",
            "AZ",
            "AR",
            "CA",
            "CO",
            "CT",
            "DE",
            "DC",
            "FL",
            "GA",
            "HI",
            "ID",
            "IL",
            "IN",
            "IA",
            "KS",
            "KY",
            "LA",
            "ME",
            "MD",
            "MA",
            "MI",
            "MN",
            "MS",
            "MO",
            "MT",
            "NE",
            "NV",
            "NH",
            "NJ",
            "NM",
            "NY",
            "NC",
            "ND",
            "OH",
            "OK",
            "OR",
            "PA",
            "RI",
            "SC",
            "SD",
            "TN",
            "TX",
            "UT",
            "VT",
            "VA",
            "WA",
            "WV",
            "WI",
            "WY"
           ],
           "name": "",
           "type": "choropleth",
           "z": [
            0.014601506,
            -0.001668014,
            0.026534717,
            0.009045139,
            0.154450813,
            0.016434968,
            0.009113911,
            0.003015332,
            0.001727019,
            0.077883326,
            0.028714938,
            0.004779512,
            0.00407167,
            0.038064525,
            0.019169147,
            -0.002861432,
            0.001378058,
            0.009070745,
            0.009168702,
            0.003615942,
            0.025035719,
            0.02886102,
            0.032588132,
            0.003651464,
            0.00515954,
            0.020510718,
            -0.000169623,
            -0.003460098,
            0.010801838,
            0.003691081,
            0.02791129,
            0.008572155,
            0.057878819,
            0.035691439,
            -0.003975752,
            0.034590096,
            0.008345008,
            0.014588931,
            0.046624424,
            0.002581768,
            0.023882732,
            -0.002559284,
            0.019633887,
            0.093804958,
            0.006934485,
            0.002829292,
            0.029650256,
            0.030978555,
            0.003973204,
            0.006457073,
            -0.001373651
           ]
          }
         ],
         "name": "5000"
        },
        {
         "data": [
          {
           "coloraxis": "coloraxis",
           "geo": "geo",
           "hovertemplate": "total_NCF=6000<br>state_code=%{location}<br>CF_percentage=%{z}<extra></extra>",
           "locationmode": "USA-states",
           "locations": [
            "AL",
            "AK",
            "AZ",
            "AR",
            "CA",
            "CO",
            "CT",
            "DE",
            "DC",
            "FL",
            "GA",
            "HI",
            "ID",
            "IL",
            "IN",
            "IA",
            "KS",
            "KY",
            "LA",
            "ME",
            "MD",
            "MA",
            "MI",
            "MN",
            "MS",
            "MO",
            "MT",
            "NE",
            "NV",
            "NH",
            "NJ",
            "NM",
            "NY",
            "NC",
            "ND",
            "OH",
            "OK",
            "OR",
            "PA",
            "RI",
            "SC",
            "SD",
            "TN",
            "TX",
            "UT",
            "VT",
            "VA",
            "WA",
            "WV",
            "WI",
            "WY"
           ],
           "name": "",
           "type": "choropleth",
           "z": [
            0.014787673,
            -0.00108814,
            0.025829654,
            0.009095037,
            0.147478188,
            0.016391055,
            0.009548281,
            0.003064578,
            0.00174075,
            0.077345135,
            0.029077538,
            0.004728398,
            0.004242102,
            0.038151122,
            0.019338786,
            -0.000784663,
            0.002567041,
            0.009876909,
            0.009976777,
            0.003822193,
            0.024011325,
            0.027714763,
            0.032468818,
            0.005837076,
            0.005827315,
            0.020294047,
            0.000423611,
            -0.001956747,
            0.010507336,
            0.003840442,
            0.027979159,
            0.008231243,
            0.058507709,
            0.03523261,
            -0.002968883,
            0.035018623,
            0.008884949,
            0.014372458,
            0.045906228,
            0.002725703,
            0.022710621,
            -0.001701795,
            0.019913653,
            0.090877675,
            0.006986626,
            0.002714537,
            0.029032837,
            0.029535535,
            0.004337641,
            0.008408014,
            -0.000861544
           ]
          }
         ],
         "name": "6000"
        },
        {
         "data": [
          {
           "coloraxis": "coloraxis",
           "geo": "geo",
           "hovertemplate": "total_NCF=7000<br>state_code=%{location}<br>CF_percentage=%{z}<extra></extra>",
           "locationmode": "USA-states",
           "locations": [
            "AL",
            "AK",
            "AZ",
            "AR",
            "CA",
            "CO",
            "CT",
            "DE",
            "DC",
            "FL",
            "GA",
            "HI",
            "ID",
            "IL",
            "IN",
            "IA",
            "KS",
            "KY",
            "LA",
            "ME",
            "MD",
            "MA",
            "MI",
            "MN",
            "MS",
            "MO",
            "MT",
            "NE",
            "NV",
            "NH",
            "NJ",
            "NM",
            "NY",
            "NC",
            "ND",
            "OH",
            "OK",
            "OR",
            "PA",
            "RI",
            "SC",
            "SD",
            "TN",
            "TX",
            "UT",
            "VT",
            "VA",
            "WA",
            "WV",
            "WI",
            "WY"
           ],
           "name": "",
           "type": "choropleth",
           "z": [
            0.01492065,
            -0.000673944,
            0.025326038,
            0.009130678,
            0.142497742,
            0.016359689,
            0.009858545,
            0.003099754,
            0.001750559,
            0.076960712,
            0.029336539,
            0.004691888,
            0.004363839,
            0.038212977,
            0.019459956,
            0.000698743,
            0.003416315,
            0.01045274,
            0.010553973,
            0.003969516,
            0.023279615,
            0.026896009,
            0.032383594,
            0.007398227,
            0.006304298,
            0.020139282,
            0.00084735,
            -0.000882925,
            0.010296978,
            0.003947129,
            0.028027637,
            0.007987734,
            0.058956915,
            0.034904875,
            -0.002249691,
            0.035324713,
            0.009270621,
            0.014217835,
            0.045393231,
            0.002828514,
            0.021873399,
            -0.001089304,
            0.020113485,
            0.088786759,
            0.00702387,
            0.002632569,
            0.028591824,
            0.028504807,
            0.004597953,
            0.009801542,
            -0.000495753
           ]
          }
         ],
         "name": "7000"
        },
        {
         "data": [
          {
           "coloraxis": "coloraxis",
           "geo": "geo",
           "hovertemplate": "total_NCF=8000<br>state_code=%{location}<br>CF_percentage=%{z}<extra></extra>",
           "locationmode": "USA-states",
           "locations": [
            "AL",
            "AK",
            "AZ",
            "AR",
            "CA",
            "CO",
            "CT",
            "DE",
            "DC",
            "FL",
            "GA",
            "HI",
            "ID",
            "IL",
            "IN",
            "IA",
            "KS",
            "KY",
            "LA",
            "ME",
            "MD",
            "MA",
            "MI",
            "MN",
            "MS",
            "MO",
            "MT",
            "NE",
            "NV",
            "NH",
            "NJ",
            "NM",
            "NY",
            "NC",
            "ND",
            "OH",
            "OK",
            "OR",
            "PA",
            "RI",
            "SC",
            "SD",
            "TN",
            "TX",
            "UT",
            "VT",
            "VA",
            "WA",
            "WV",
            "WI",
            "WY"
           ],
           "name": "",
           "type": "choropleth",
           "z": [
            0.015020383,
            -0.000363297,
            0.024948325,
            0.009157409,
            0.138762407,
            0.016336164,
            0.010091243,
            0.003126136,
            0.001757915,
            0.076672395,
            0.029530789,
            0.004664506,
            0.004455142,
            0.038259368,
            0.019550834,
            0.001811298,
            0.00405327,
            0.010884614,
            0.010986871,
            0.004080007,
            0.022730833,
            0.026281943,
            0.032319676,
            0.008569091,
            0.006662034,
            0.020023209,
            0.001165154,
            -7.75579e-05,
            0.010139209,
            0.004027144,
            0.028063996,
            0.007805103,
            0.05929382,
            0.034659074,
            -0.001710297,
            0.035554281,
            0.009559875,
            0.014101868,
            0.045008483,
            0.002905622,
            0.021245482,
            -0.000629935,
            0.02026336,
            0.087218572,
            0.007051803,
            0.002571093,
            0.028261063,
            0.027731761,
            0.004793187,
            0.010846689,
            -0.00022141
           ]
          }
         ],
         "name": "8000"
        },
        {
         "data": [
          {
           "coloraxis": "coloraxis",
           "geo": "geo",
           "hovertemplate": "total_NCF=9000<br>state_code=%{location}<br>CF_percentage=%{z}<extra></extra>",
           "locationmode": "USA-states",
           "locations": [
            "AL",
            "AK",
            "AZ",
            "AR",
            "CA",
            "CO",
            "CT",
            "DE",
            "DC",
            "FL",
            "GA",
            "HI",
            "ID",
            "IL",
            "IN",
            "IA",
            "KS",
            "KY",
            "LA",
            "ME",
            "MD",
            "MA",
            "MI",
            "MN",
            "MS",
            "MO",
            "MT",
            "NE",
            "NV",
            "NH",
            "NJ",
            "NM",
            "NY",
            "NC",
            "ND",
            "OH",
            "OK",
            "OR",
            "PA",
            "RI",
            "SC",
            "SD",
            "TN",
            "TX",
            "UT",
            "VT",
            "VA",
            "WA",
            "WV",
            "WI",
            "WY",
            "AL",
            "AK",
            "AZ",
            "AR",
            "CA",
            "CO",
            "CT",
            "DE",
            "DC",
            "FL",
            "GA",
            "HI",
            "ID",
            "IL",
            "IN",
            "IA",
            "KS",
            "KY",
            "LA",
            "ME",
            "MD",
            "MA",
            "MI",
            "MN",
            "MS",
            "MO",
            "MT",
            "NE",
            "NV",
            "NH",
            "NJ",
            "NM",
            "NY",
            "NC",
            "ND",
            "OH",
            "OK",
            "OR",
            "PA",
            "RI",
            "SC",
            "SD",
            "TN",
            "TX",
            "UT",
            "VT",
            "VA",
            "WA",
            "WV",
            "WI",
            "WY"
           ],
           "name": "",
           "type": "choropleth",
           "z": [
            0.015097953,
            -0.000121682,
            0.024654549,
            0.009178199,
            0.135857146,
            0.016317867,
            0.01027223,
            0.003146655,
            0.001763636,
            0.076448149,
            0.029681872,
            0.004643208,
            0.004526155,
            0.038295451,
            0.019621517,
            0.002676618,
            0.00454868,
            0.011220515,
            0.011323568,
            0.004165945,
            0.022304002,
            0.025804336,
            0.032269962,
            0.009479762,
            0.006940274,
            0.019932929,
            0.001412335,
            0.000548838,
            0.0100165,
            0.004089378,
            0.028092274,
            0.007663056,
            0.059555858,
            0.034467895,
            -0.001290769,
            0.035732833,
            0.00978485,
            0.014011671,
            0.044709235,
            0.002965595,
            0.020757103,
            -0.000272648,
            0.020379929,
            0.085998871,
            0.007073528,
            0.002523278,
            0.028003805,
            0.027130503,
            0.004945035,
            0.011659581,
            -8.03264e-06,
            0.015097953,
            -0.000121682,
            0.024654549,
            0.009178199,
            0.135857146,
            0.016317867,
            0.01027223,
            0.003146655,
            0.001763636,
            0.076448149,
            0.029681872,
            0.004643208,
            0.004526155,
            0.038295451,
            0.019621517,
            0.002676618,
            0.00454868,
            0.011220515,
            0.011323568,
            0.004165945,
            0.022304002,
            0.025804336,
            0.032269962,
            0.009479762,
            0.006940274,
            0.019932929,
            0.001412335,
            0.000548838,
            0.0100165,
            0.004089378,
            0.028092274,
            0.007663056,
            0.059555858,
            0.034467895,
            -0.001290769,
            0.035732833,
            0.00978485,
            0.014011671,
            0.044709235,
            0.002965595,
            0.020757103,
            -0.000272648,
            0.020379929,
            0.085998871,
            0.007073528,
            0.002523278,
            0.028003805,
            0.027130503,
            0.004945035,
            0.011659581,
            -8.03264e-06
           ]
          }
         ],
         "name": "9000"
        },
        {
         "data": [
          {
           "coloraxis": "coloraxis",
           "geo": "geo",
           "hovertemplate": "total_NCF=10000<br>state_code=%{location}<br>CF_percentage=%{z}<extra></extra>",
           "locationmode": "USA-states",
           "locations": [
            "AL",
            "AK",
            "AZ",
            "AR",
            "CA",
            "CO",
            "CT",
            "DE",
            "DC",
            "FL",
            "GA",
            "HI",
            "ID",
            "IL",
            "IN",
            "IA",
            "KS",
            "KY",
            "LA",
            "ME",
            "MD",
            "MA",
            "MI",
            "MN",
            "MS",
            "MO",
            "MT",
            "NE",
            "NV",
            "NH",
            "NJ",
            "NM",
            "NY",
            "NC",
            "ND",
            "OH",
            "OK",
            "OR",
            "PA",
            "RI",
            "SC",
            "SD",
            "TN",
            "TX",
            "UT",
            "VT",
            "VA",
            "WA",
            "WV",
            "WI",
            "WY"
           ],
           "name": "",
           "type": "choropleth",
           "z": [
            0.015160008,
            7.1609e-05,
            0.024419528,
            0.009194832,
            0.133532938,
            0.016303229,
            0.01041702,
            0.00316307,
            0.001768214,
            0.076268752,
            0.029802739,
            0.00462617,
            0.004582965,
            0.038324316,
            0.019678064,
            0.003368874,
            0.004945008,
            0.011489237,
            0.011592927,
            0.004234696,
            0.021962538,
            0.02542225,
            0.03223019,
            0.0102083,
            0.007162866,
            0.019860705,
            0.001610079,
            0.001049955,
            0.009918333,
            0.004139165,
            0.028114897,
            0.007549419,
            0.059765487,
            0.034314952,
            -0.000955146,
            0.035875676,
            0.00996483,
            0.013939513,
            0.044469837,
            0.003013573,
            0.020366399,
            1.31815e-05,
            0.020473184,
            0.08502311,
            0.007090909,
            0.002485027,
            0.027797999,
            0.026649497,
            0.005066514,
            0.012309894,
            0.00016267
           ]
          }
         ],
         "name": "10000"
        }
       ],
       "layout": {
        "coloraxis": {
         "cmax": 0.1,
         "cmin": -0.1,
         "colorbar": {
          "title": {
           "text": "CF_percentage"
          }
         },
         "colorscale": [
          [
           0,
           "rgb(253, 224, 197)"
          ],
          [
           0.16666666666666666,
           "rgb(250, 203, 166)"
          ],
          [
           0.3333333333333333,
           "rgb(248, 181, 139)"
          ],
          [
           0.5,
           "rgb(245, 158, 114)"
          ],
          [
           0.6666666666666666,
           "rgb(242, 133, 93)"
          ],
          [
           0.8333333333333334,
           "rgb(239, 106, 76)"
          ],
          [
           1,
           "rgb(235, 74, 64)"
          ]
         ]
        },
        "geo": {
         "center": {},
         "domain": {
          "x": [
           0,
           1
          ],
          "y": [
           0,
           1
          ]
         },
         "scope": "usa"
        },
        "legend": {
         "tracegroupgap": 0
        },
        "margin": {
         "t": 60
        },
        "sliders": [
         {
          "active": 0,
          "currentvalue": {
           "prefix": "total_NCF="
          },
          "len": 0.9,
          "pad": {
           "b": 10,
           "t": 60
          },
          "steps": [
           {
            "args": [
             [
              "1000"
             ],
             {
              "frame": {
               "duration": 0,
               "redraw": true
              },
              "fromcurrent": true,
              "mode": "immediate",
              "transition": {
               "duration": 0,
               "easing": "linear"
              }
             }
            ],
            "label": "1000",
            "method": "animate"
           },
           {
            "args": [
             [
              "2000"
             ],
             {
              "frame": {
               "duration": 0,
               "redraw": true
              },
              "fromcurrent": true,
              "mode": "immediate",
              "transition": {
               "duration": 0,
               "easing": "linear"
              }
             }
            ],
            "label": "2000",
            "method": "animate"
           },
           {
            "args": [
             [
              "3000"
             ],
             {
              "frame": {
               "duration": 0,
               "redraw": true
              },
              "fromcurrent": true,
              "mode": "immediate",
              "transition": {
               "duration": 0,
               "easing": "linear"
              }
             }
            ],
            "label": "3000",
            "method": "animate"
           },
           {
            "args": [
             [
              "4000"
             ],
             {
              "frame": {
               "duration": 0,
               "redraw": true
              },
              "fromcurrent": true,
              "mode": "immediate",
              "transition": {
               "duration": 0,
               "easing": "linear"
              }
             }
            ],
            "label": "4000",
            "method": "animate"
           },
           {
            "args": [
             [
              "5000"
             ],
             {
              "frame": {
               "duration": 0,
               "redraw": true
              },
              "fromcurrent": true,
              "mode": "immediate",
              "transition": {
               "duration": 0,
               "easing": "linear"
              }
             }
            ],
            "label": "5000",
            "method": "animate"
           },
           {
            "args": [
             [
              "6000"
             ],
             {
              "frame": {
               "duration": 0,
               "redraw": true
              },
              "fromcurrent": true,
              "mode": "immediate",
              "transition": {
               "duration": 0,
               "easing": "linear"
              }
             }
            ],
            "label": "6000",
            "method": "animate"
           },
           {
            "args": [
             [
              "7000"
             ],
             {
              "frame": {
               "duration": 0,
               "redraw": true
              },
              "fromcurrent": true,
              "mode": "immediate",
              "transition": {
               "duration": 0,
               "easing": "linear"
              }
             }
            ],
            "label": "7000",
            "method": "animate"
           },
           {
            "args": [
             [
              "8000"
             ],
             {
              "frame": {
               "duration": 0,
               "redraw": true
              },
              "fromcurrent": true,
              "mode": "immediate",
              "transition": {
               "duration": 0,
               "easing": "linear"
              }
             }
            ],
            "label": "8000",
            "method": "animate"
           },
           {
            "args": [
             [
              "9000"
             ],
             {
              "frame": {
               "duration": 0,
               "redraw": true
              },
              "fromcurrent": true,
              "mode": "immediate",
              "transition": {
               "duration": 0,
               "easing": "linear"
              }
             }
            ],
            "label": "9000",
            "method": "animate"
           },
           {
            "args": [
             [
              "10000"
             ],
             {
              "frame": {
               "duration": 0,
               "redraw": true
              },
              "fromcurrent": true,
              "mode": "immediate",
              "transition": {
               "duration": 0,
               "easing": "linear"
              }
             }
            ],
            "label": "10000",
            "method": "animate"
           }
          ],
          "x": 0.1,
          "xanchor": "left",
          "y": 0,
          "yanchor": "top"
         }
        ],
        "template": {
         "data": {
          "bar": [
           {
            "error_x": {
             "color": "#2a3f5f"
            },
            "error_y": {
             "color": "#2a3f5f"
            },
            "marker": {
             "line": {
              "color": "#E5ECF6",
              "width": 0.5
             },
             "pattern": {
              "fillmode": "overlay",
              "size": 10,
              "solidity": 0.2
             }
            },
            "type": "bar"
           }
          ],
          "barpolar": [
           {
            "marker": {
             "line": {
              "color": "#E5ECF6",
              "width": 0.5
             },
             "pattern": {
              "fillmode": "overlay",
              "size": 10,
              "solidity": 0.2
             }
            },
            "type": "barpolar"
           }
          ],
          "carpet": [
           {
            "aaxis": {
             "endlinecolor": "#2a3f5f",
             "gridcolor": "white",
             "linecolor": "white",
             "minorgridcolor": "white",
             "startlinecolor": "#2a3f5f"
            },
            "baxis": {
             "endlinecolor": "#2a3f5f",
             "gridcolor": "white",
             "linecolor": "white",
             "minorgridcolor": "white",
             "startlinecolor": "#2a3f5f"
            },
            "type": "carpet"
           }
          ],
          "choropleth": [
           {
            "colorbar": {
             "outlinewidth": 0,
             "ticks": ""
            },
            "type": "choropleth"
           }
          ],
          "contour": [
           {
            "colorbar": {
             "outlinewidth": 0,
             "ticks": ""
            },
            "colorscale": [
             [
              0,
              "#0d0887"
             ],
             [
              0.1111111111111111,
              "#46039f"
             ],
             [
              0.2222222222222222,
              "#7201a8"
             ],
             [
              0.3333333333333333,
              "#9c179e"
             ],
             [
              0.4444444444444444,
              "#bd3786"
             ],
             [
              0.5555555555555556,
              "#d8576b"
             ],
             [
              0.6666666666666666,
              "#ed7953"
             ],
             [
              0.7777777777777778,
              "#fb9f3a"
             ],
             [
              0.8888888888888888,
              "#fdca26"
             ],
             [
              1,
              "#f0f921"
             ]
            ],
            "type": "contour"
           }
          ],
          "contourcarpet": [
           {
            "colorbar": {
             "outlinewidth": 0,
             "ticks": ""
            },
            "type": "contourcarpet"
           }
          ],
          "heatmap": [
           {
            "colorbar": {
             "outlinewidth": 0,
             "ticks": ""
            },
            "colorscale": [
             [
              0,
              "#0d0887"
             ],
             [
              0.1111111111111111,
              "#46039f"
             ],
             [
              0.2222222222222222,
              "#7201a8"
             ],
             [
              0.3333333333333333,
              "#9c179e"
             ],
             [
              0.4444444444444444,
              "#bd3786"
             ],
             [
              0.5555555555555556,
              "#d8576b"
             ],
             [
              0.6666666666666666,
              "#ed7953"
             ],
             [
              0.7777777777777778,
              "#fb9f3a"
             ],
             [
              0.8888888888888888,
              "#fdca26"
             ],
             [
              1,
              "#f0f921"
             ]
            ],
            "type": "heatmap"
           }
          ],
          "heatmapgl": [
           {
            "colorbar": {
             "outlinewidth": 0,
             "ticks": ""
            },
            "colorscale": [
             [
              0,
              "#0d0887"
             ],
             [
              0.1111111111111111,
              "#46039f"
             ],
             [
              0.2222222222222222,
              "#7201a8"
             ],
             [
              0.3333333333333333,
              "#9c179e"
             ],
             [
              0.4444444444444444,
              "#bd3786"
             ],
             [
              0.5555555555555556,
              "#d8576b"
             ],
             [
              0.6666666666666666,
              "#ed7953"
             ],
             [
              0.7777777777777778,
              "#fb9f3a"
             ],
             [
              0.8888888888888888,
              "#fdca26"
             ],
             [
              1,
              "#f0f921"
             ]
            ],
            "type": "heatmapgl"
           }
          ],
          "histogram": [
           {
            "marker": {
             "pattern": {
              "fillmode": "overlay",
              "size": 10,
              "solidity": 0.2
             }
            },
            "type": "histogram"
           }
          ],
          "histogram2d": [
           {
            "colorbar": {
             "outlinewidth": 0,
             "ticks": ""
            },
            "colorscale": [
             [
              0,
              "#0d0887"
             ],
             [
              0.1111111111111111,
              "#46039f"
             ],
             [
              0.2222222222222222,
              "#7201a8"
             ],
             [
              0.3333333333333333,
              "#9c179e"
             ],
             [
              0.4444444444444444,
              "#bd3786"
             ],
             [
              0.5555555555555556,
              "#d8576b"
             ],
             [
              0.6666666666666666,
              "#ed7953"
             ],
             [
              0.7777777777777778,
              "#fb9f3a"
             ],
             [
              0.8888888888888888,
              "#fdca26"
             ],
             [
              1,
              "#f0f921"
             ]
            ],
            "type": "histogram2d"
           }
          ],
          "histogram2dcontour": [
           {
            "colorbar": {
             "outlinewidth": 0,
             "ticks": ""
            },
            "colorscale": [
             [
              0,
              "#0d0887"
             ],
             [
              0.1111111111111111,
              "#46039f"
             ],
             [
              0.2222222222222222,
              "#7201a8"
             ],
             [
              0.3333333333333333,
              "#9c179e"
             ],
             [
              0.4444444444444444,
              "#bd3786"
             ],
             [
              0.5555555555555556,
              "#d8576b"
             ],
             [
              0.6666666666666666,
              "#ed7953"
             ],
             [
              0.7777777777777778,
              "#fb9f3a"
             ],
             [
              0.8888888888888888,
              "#fdca26"
             ],
             [
              1,
              "#f0f921"
             ]
            ],
            "type": "histogram2dcontour"
           }
          ],
          "mesh3d": [
           {
            "colorbar": {
             "outlinewidth": 0,
             "ticks": ""
            },
            "type": "mesh3d"
           }
          ],
          "parcoords": [
           {
            "line": {
             "colorbar": {
              "outlinewidth": 0,
              "ticks": ""
             }
            },
            "type": "parcoords"
           }
          ],
          "pie": [
           {
            "automargin": true,
            "type": "pie"
           }
          ],
          "scatter": [
           {
            "fillpattern": {
             "fillmode": "overlay",
             "size": 10,
             "solidity": 0.2
            },
            "type": "scatter"
           }
          ],
          "scatter3d": [
           {
            "line": {
             "colorbar": {
              "outlinewidth": 0,
              "ticks": ""
             }
            },
            "marker": {
             "colorbar": {
              "outlinewidth": 0,
              "ticks": ""
             }
            },
            "type": "scatter3d"
           }
          ],
          "scattercarpet": [
           {
            "marker": {
             "colorbar": {
              "outlinewidth": 0,
              "ticks": ""
             }
            },
            "type": "scattercarpet"
           }
          ],
          "scattergeo": [
           {
            "marker": {
             "colorbar": {
              "outlinewidth": 0,
              "ticks": ""
             }
            },
            "type": "scattergeo"
           }
          ],
          "scattergl": [
           {
            "marker": {
             "colorbar": {
              "outlinewidth": 0,
              "ticks": ""
             }
            },
            "type": "scattergl"
           }
          ],
          "scattermapbox": [
           {
            "marker": {
             "colorbar": {
              "outlinewidth": 0,
              "ticks": ""
             }
            },
            "type": "scattermapbox"
           }
          ],
          "scatterpolar": [
           {
            "marker": {
             "colorbar": {
              "outlinewidth": 0,
              "ticks": ""
             }
            },
            "type": "scatterpolar"
           }
          ],
          "scatterpolargl": [
           {
            "marker": {
             "colorbar": {
              "outlinewidth": 0,
              "ticks": ""
             }
            },
            "type": "scatterpolargl"
           }
          ],
          "scatterternary": [
           {
            "marker": {
             "colorbar": {
              "outlinewidth": 0,
              "ticks": ""
             }
            },
            "type": "scatterternary"
           }
          ],
          "surface": [
           {
            "colorbar": {
             "outlinewidth": 0,
             "ticks": ""
            },
            "colorscale": [
             [
              0,
              "#0d0887"
             ],
             [
              0.1111111111111111,
              "#46039f"
             ],
             [
              0.2222222222222222,
              "#7201a8"
             ],
             [
              0.3333333333333333,
              "#9c179e"
             ],
             [
              0.4444444444444444,
              "#bd3786"
             ],
             [
              0.5555555555555556,
              "#d8576b"
             ],
             [
              0.6666666666666666,
              "#ed7953"
             ],
             [
              0.7777777777777778,
              "#fb9f3a"
             ],
             [
              0.8888888888888888,
              "#fdca26"
             ],
             [
              1,
              "#f0f921"
             ]
            ],
            "type": "surface"
           }
          ],
          "table": [
           {
            "cells": {
             "fill": {
              "color": "#EBF0F8"
             },
             "line": {
              "color": "white"
             }
            },
            "header": {
             "fill": {
              "color": "#C8D4E3"
             },
             "line": {
              "color": "white"
             }
            },
            "type": "table"
           }
          ]
         },
         "layout": {
          "annotationdefaults": {
           "arrowcolor": "#2a3f5f",
           "arrowhead": 0,
           "arrowwidth": 1
          },
          "autotypenumbers": "strict",
          "coloraxis": {
           "colorbar": {
            "outlinewidth": 0,
            "ticks": ""
           }
          },
          "colorscale": {
           "diverging": [
            [
             0,
             "#8e0152"
            ],
            [
             0.1,
             "#c51b7d"
            ],
            [
             0.2,
             "#de77ae"
            ],
            [
             0.3,
             "#f1b6da"
            ],
            [
             0.4,
             "#fde0ef"
            ],
            [
             0.5,
             "#f7f7f7"
            ],
            [
             0.6,
             "#e6f5d0"
            ],
            [
             0.7,
             "#b8e186"
            ],
            [
             0.8,
             "#7fbc41"
            ],
            [
             0.9,
             "#4d9221"
            ],
            [
             1,
             "#276419"
            ]
           ],
           "sequential": [
            [
             0,
             "#0d0887"
            ],
            [
             0.1111111111111111,
             "#46039f"
            ],
            [
             0.2222222222222222,
             "#7201a8"
            ],
            [
             0.3333333333333333,
             "#9c179e"
            ],
            [
             0.4444444444444444,
             "#bd3786"
            ],
            [
             0.5555555555555556,
             "#d8576b"
            ],
            [
             0.6666666666666666,
             "#ed7953"
            ],
            [
             0.7777777777777778,
             "#fb9f3a"
            ],
            [
             0.8888888888888888,
             "#fdca26"
            ],
            [
             1,
             "#f0f921"
            ]
           ],
           "sequentialminus": [
            [
             0,
             "#0d0887"
            ],
            [
             0.1111111111111111,
             "#46039f"
            ],
            [
             0.2222222222222222,
             "#7201a8"
            ],
            [
             0.3333333333333333,
             "#9c179e"
            ],
            [
             0.4444444444444444,
             "#bd3786"
            ],
            [
             0.5555555555555556,
             "#d8576b"
            ],
            [
             0.6666666666666666,
             "#ed7953"
            ],
            [
             0.7777777777777778,
             "#fb9f3a"
            ],
            [
             0.8888888888888888,
             "#fdca26"
            ],
            [
             1,
             "#f0f921"
            ]
           ]
          },
          "colorway": [
           "#636efa",
           "#EF553B",
           "#00cc96",
           "#ab63fa",
           "#FFA15A",
           "#19d3f3",
           "#FF6692",
           "#B6E880",
           "#FF97FF",
           "#FECB52"
          ],
          "font": {
           "color": "#2a3f5f"
          },
          "geo": {
           "bgcolor": "white",
           "lakecolor": "white",
           "landcolor": "#E5ECF6",
           "showlakes": true,
           "showland": true,
           "subunitcolor": "white"
          },
          "hoverlabel": {
           "align": "left"
          },
          "hovermode": "closest",
          "mapbox": {
           "style": "light"
          },
          "paper_bgcolor": "white",
          "plot_bgcolor": "#E5ECF6",
          "polar": {
           "angularaxis": {
            "gridcolor": "white",
            "linecolor": "white",
            "ticks": ""
           },
           "bgcolor": "#E5ECF6",
           "radialaxis": {
            "gridcolor": "white",
            "linecolor": "white",
            "ticks": ""
           }
          },
          "scene": {
           "xaxis": {
            "backgroundcolor": "#E5ECF6",
            "gridcolor": "white",
            "gridwidth": 2,
            "linecolor": "white",
            "showbackground": true,
            "ticks": "",
            "zerolinecolor": "white"
           },
           "yaxis": {
            "backgroundcolor": "#E5ECF6",
            "gridcolor": "white",
            "gridwidth": 2,
            "linecolor": "white",
            "showbackground": true,
            "ticks": "",
            "zerolinecolor": "white"
           },
           "zaxis": {
            "backgroundcolor": "#E5ECF6",
            "gridcolor": "white",
            "gridwidth": 2,
            "linecolor": "white",
            "showbackground": true,
            "ticks": "",
            "zerolinecolor": "white"
           }
          },
          "shapedefaults": {
           "line": {
            "color": "#2a3f5f"
           }
          },
          "ternary": {
           "aaxis": {
            "gridcolor": "white",
            "linecolor": "white",
            "ticks": ""
           },
           "baxis": {
            "gridcolor": "white",
            "linecolor": "white",
            "ticks": ""
           },
           "bgcolor": "#E5ECF6",
           "caxis": {
            "gridcolor": "white",
            "linecolor": "white",
            "ticks": ""
           }
          },
          "title": {
           "x": 0.05
          },
          "xaxis": {
           "automargin": true,
           "gridcolor": "white",
           "linecolor": "white",
           "ticks": "",
           "title": {
            "standoff": 15
           },
           "zerolinecolor": "white",
           "zerolinewidth": 2
          },
          "yaxis": {
           "automargin": true,
           "gridcolor": "white",
           "linecolor": "white",
           "ticks": "",
           "title": {
            "standoff": 15
           },
           "zerolinecolor": "white",
           "zerolinewidth": 2
          }
         }
        },
        "title": {
         "font": {
          "color": "black",
          "family": "Times New Roman",
          "size": 22
         },
         "text": "New Certified Facilities Allocation in U.S. (By Percentage)",
         "x": 0.45
        },
        "updatemenus": [
         {
          "buttons": [
           {
            "args": [
             null,
             {
              "frame": {
               "duration": 500,
               "redraw": true
              },
              "fromcurrent": true,
              "mode": "immediate",
              "transition": {
               "duration": 500,
               "easing": "linear"
              }
             }
            ],
            "label": "&#9654;",
            "method": "animate"
           },
           {
            "args": [
             [
              null
             ],
             {
              "frame": {
               "duration": 0,
               "redraw": true
              },
              "fromcurrent": true,
              "mode": "immediate",
              "transition": {
               "duration": 0,
               "easing": "linear"
              }
             }
            ],
            "label": "&#9724;",
            "method": "animate"
           }
          ],
          "direction": "left",
          "pad": {
           "r": 10,
           "t": 70
          },
          "showactive": false,
          "type": "buttons",
          "x": 0.1,
          "xanchor": "right",
          "y": 0,
          "yanchor": "top"
         }
        ]
       }
      },
      "text/html": [
       "<div>                            <div id=\"af572468-42e3-4280-8bef-8f528a7cb2ba\" class=\"plotly-graph-div\" style=\"height:525px; width:100%;\"></div>            <script type=\"text/javascript\">                require([\"plotly\"], function(Plotly) {                    window.PLOTLYENV=window.PLOTLYENV || {};                                    if (document.getElementById(\"af572468-42e3-4280-8bef-8f528a7cb2ba\")) {                    Plotly.newPlot(                        \"af572468-42e3-4280-8bef-8f528a7cb2ba\",                        [{\"coloraxis\":\"coloraxis\",\"geo\":\"geo\",\"hovertemplate\":\"total_NCF=1000<br>state_code=%{location}<br>CF_percentage=%{z}<extra></extra>\",\"locationmode\":\"USA-states\",\"locations\":[\"AL\",\"AK\",\"AZ\",\"AR\",\"CA\",\"CO\",\"CT\",\"DE\",\"DC\",\"FL\",\"GA\",\"HI\",\"ID\",\"IL\",\"IN\",\"IA\",\"KS\",\"KY\",\"LA\",\"ME\",\"MD\",\"MA\",\"MI\",\"MN\",\"MS\",\"MO\",\"MT\",\"NE\",\"NV\",\"NH\",\"NJ\",\"NM\",\"NY\",\"NC\",\"ND\",\"OH\",\"OK\",\"OR\",\"PA\",\"RI\",\"SC\",\"SD\",\"TN\",\"TX\",\"UT\",\"VT\",\"VA\",\"WA\",\"WV\",\"WI\",\"WY\"],\"name\":\"\",\"z\":[0.010133484,-0.015585001,0.043456225,0.0078476,0.32179382,0.017488879,-0.001310961,0.001833424,0.001397461,0.090799919,0.020012535,0.006006247,-1.86887e-05,0.035986194,0.015097814,-0.052703881,-0.027157535,-0.01027719,-0.010225093,-0.001334086,0.049621166,0.056371173,0.035451668,-0.048803222,-0.010867067,0.025710816,-0.014407245,-0.039540521,0.017869875,0.000106405,0.026282428,0.016754048,0.042785474,0.046703337,-0.0281406,0.024305463,-0.004613568,0.019784271,0.063861122,-0.000872679,0.052013392,-0.023139006,0.012919509,0.164059739,0.005683098,0.005583418,0.044468312,0.065611018,-0.004773282,-0.040365494,-0.013664213],\"type\":\"choropleth\"}],                        {\"template\":{\"data\":{\"histogram2dcontour\":[{\"type\":\"histogram2dcontour\",\"colorbar\":{\"outlinewidth\":0,\"ticks\":\"\"},\"colorscale\":[[0.0,\"#0d0887\"],[0.1111111111111111,\"#46039f\"],[0.2222222222222222,\"#7201a8\"],[0.3333333333333333,\"#9c179e\"],[0.4444444444444444,\"#bd3786\"],[0.5555555555555556,\"#d8576b\"],[0.6666666666666666,\"#ed7953\"],[0.7777777777777778,\"#fb9f3a\"],[0.8888888888888888,\"#fdca26\"],[1.0,\"#f0f921\"]]}],\"choropleth\":[{\"type\":\"choropleth\",\"colorbar\":{\"outlinewidth\":0,\"ticks\":\"\"}}],\"histogram2d\":[{\"type\":\"histogram2d\",\"colorbar\":{\"outlinewidth\":0,\"ticks\":\"\"},\"colorscale\":[[0.0,\"#0d0887\"],[0.1111111111111111,\"#46039f\"],[0.2222222222222222,\"#7201a8\"],[0.3333333333333333,\"#9c179e\"],[0.4444444444444444,\"#bd3786\"],[0.5555555555555556,\"#d8576b\"],[0.6666666666666666,\"#ed7953\"],[0.7777777777777778,\"#fb9f3a\"],[0.8888888888888888,\"#fdca26\"],[1.0,\"#f0f921\"]]}],\"heatmap\":[{\"type\":\"heatmap\",\"colorbar\":{\"outlinewidth\":0,\"ticks\":\"\"},\"colorscale\":[[0.0,\"#0d0887\"],[0.1111111111111111,\"#46039f\"],[0.2222222222222222,\"#7201a8\"],[0.3333333333333333,\"#9c179e\"],[0.4444444444444444,\"#bd3786\"],[0.5555555555555556,\"#d8576b\"],[0.6666666666666666,\"#ed7953\"],[0.7777777777777778,\"#fb9f3a\"],[0.8888888888888888,\"#fdca26\"],[1.0,\"#f0f921\"]]}],\"heatmapgl\":[{\"type\":\"heatmapgl\",\"colorbar\":{\"outlinewidth\":0,\"ticks\":\"\"},\"colorscale\":[[0.0,\"#0d0887\"],[0.1111111111111111,\"#46039f\"],[0.2222222222222222,\"#7201a8\"],[0.3333333333333333,\"#9c179e\"],[0.4444444444444444,\"#bd3786\"],[0.5555555555555556,\"#d8576b\"],[0.6666666666666666,\"#ed7953\"],[0.7777777777777778,\"#fb9f3a\"],[0.8888888888888888,\"#fdca26\"],[1.0,\"#f0f921\"]]}],\"contourcarpet\":[{\"type\":\"contourcarpet\",\"colorbar\":{\"outlinewidth\":0,\"ticks\":\"\"}}],\"contour\":[{\"type\":\"contour\",\"colorbar\":{\"outlinewidth\":0,\"ticks\":\"\"},\"colorscale\":[[0.0,\"#0d0887\"],[0.1111111111111111,\"#46039f\"],[0.2222222222222222,\"#7201a8\"],[0.3333333333333333,\"#9c179e\"],[0.4444444444444444,\"#bd3786\"],[0.5555555555555556,\"#d8576b\"],[0.6666666666666666,\"#ed7953\"],[0.7777777777777778,\"#fb9f3a\"],[0.8888888888888888,\"#fdca26\"],[1.0,\"#f0f921\"]]}],\"surface\":[{\"type\":\"surface\",\"colorbar\":{\"outlinewidth\":0,\"ticks\":\"\"},\"colorscale\":[[0.0,\"#0d0887\"],[0.1111111111111111,\"#46039f\"],[0.2222222222222222,\"#7201a8\"],[0.3333333333333333,\"#9c179e\"],[0.4444444444444444,\"#bd3786\"],[0.5555555555555556,\"#d8576b\"],[0.6666666666666666,\"#ed7953\"],[0.7777777777777778,\"#fb9f3a\"],[0.8888888888888888,\"#fdca26\"],[1.0,\"#f0f921\"]]}],\"mesh3d\":[{\"type\":\"mesh3d\",\"colorbar\":{\"outlinewidth\":0,\"ticks\":\"\"}}],\"scatter\":[{\"fillpattern\":{\"fillmode\":\"overlay\",\"size\":10,\"solidity\":0.2},\"type\":\"scatter\"}],\"parcoords\":[{\"type\":\"parcoords\",\"line\":{\"colorbar\":{\"outlinewidth\":0,\"ticks\":\"\"}}}],\"scatterpolargl\":[{\"type\":\"scatterpolargl\",\"marker\":{\"colorbar\":{\"outlinewidth\":0,\"ticks\":\"\"}}}],\"bar\":[{\"error_x\":{\"color\":\"#2a3f5f\"},\"error_y\":{\"color\":\"#2a3f5f\"},\"marker\":{\"line\":{\"color\":\"#E5ECF6\",\"width\":0.5},\"pattern\":{\"fillmode\":\"overlay\",\"size\":10,\"solidity\":0.2}},\"type\":\"bar\"}],\"scattergeo\":[{\"type\":\"scattergeo\",\"marker\":{\"colorbar\":{\"outlinewidth\":0,\"ticks\":\"\"}}}],\"scatterpolar\":[{\"type\":\"scatterpolar\",\"marker\":{\"colorbar\":{\"outlinewidth\":0,\"ticks\":\"\"}}}],\"histogram\":[{\"marker\":{\"pattern\":{\"fillmode\":\"overlay\",\"size\":10,\"solidity\":0.2}},\"type\":\"histogram\"}],\"scattergl\":[{\"type\":\"scattergl\",\"marker\":{\"colorbar\":{\"outlinewidth\":0,\"ticks\":\"\"}}}],\"scatter3d\":[{\"type\":\"scatter3d\",\"line\":{\"colorbar\":{\"outlinewidth\":0,\"ticks\":\"\"}},\"marker\":{\"colorbar\":{\"outlinewidth\":0,\"ticks\":\"\"}}}],\"scattermapbox\":[{\"type\":\"scattermapbox\",\"marker\":{\"colorbar\":{\"outlinewidth\":0,\"ticks\":\"\"}}}],\"scatterternary\":[{\"type\":\"scatterternary\",\"marker\":{\"colorbar\":{\"outlinewidth\":0,\"ticks\":\"\"}}}],\"scattercarpet\":[{\"type\":\"scattercarpet\",\"marker\":{\"colorbar\":{\"outlinewidth\":0,\"ticks\":\"\"}}}],\"carpet\":[{\"aaxis\":{\"endlinecolor\":\"#2a3f5f\",\"gridcolor\":\"white\",\"linecolor\":\"white\",\"minorgridcolor\":\"white\",\"startlinecolor\":\"#2a3f5f\"},\"baxis\":{\"endlinecolor\":\"#2a3f5f\",\"gridcolor\":\"white\",\"linecolor\":\"white\",\"minorgridcolor\":\"white\",\"startlinecolor\":\"#2a3f5f\"},\"type\":\"carpet\"}],\"table\":[{\"cells\":{\"fill\":{\"color\":\"#EBF0F8\"},\"line\":{\"color\":\"white\"}},\"header\":{\"fill\":{\"color\":\"#C8D4E3\"},\"line\":{\"color\":\"white\"}},\"type\":\"table\"}],\"barpolar\":[{\"marker\":{\"line\":{\"color\":\"#E5ECF6\",\"width\":0.5},\"pattern\":{\"fillmode\":\"overlay\",\"size\":10,\"solidity\":0.2}},\"type\":\"barpolar\"}],\"pie\":[{\"automargin\":true,\"type\":\"pie\"}]},\"layout\":{\"autotypenumbers\":\"strict\",\"colorway\":[\"#636efa\",\"#EF553B\",\"#00cc96\",\"#ab63fa\",\"#FFA15A\",\"#19d3f3\",\"#FF6692\",\"#B6E880\",\"#FF97FF\",\"#FECB52\"],\"font\":{\"color\":\"#2a3f5f\"},\"hovermode\":\"closest\",\"hoverlabel\":{\"align\":\"left\"},\"paper_bgcolor\":\"white\",\"plot_bgcolor\":\"#E5ECF6\",\"polar\":{\"bgcolor\":\"#E5ECF6\",\"angularaxis\":{\"gridcolor\":\"white\",\"linecolor\":\"white\",\"ticks\":\"\"},\"radialaxis\":{\"gridcolor\":\"white\",\"linecolor\":\"white\",\"ticks\":\"\"}},\"ternary\":{\"bgcolor\":\"#E5ECF6\",\"aaxis\":{\"gridcolor\":\"white\",\"linecolor\":\"white\",\"ticks\":\"\"},\"baxis\":{\"gridcolor\":\"white\",\"linecolor\":\"white\",\"ticks\":\"\"},\"caxis\":{\"gridcolor\":\"white\",\"linecolor\":\"white\",\"ticks\":\"\"}},\"coloraxis\":{\"colorbar\":{\"outlinewidth\":0,\"ticks\":\"\"}},\"colorscale\":{\"sequential\":[[0.0,\"#0d0887\"],[0.1111111111111111,\"#46039f\"],[0.2222222222222222,\"#7201a8\"],[0.3333333333333333,\"#9c179e\"],[0.4444444444444444,\"#bd3786\"],[0.5555555555555556,\"#d8576b\"],[0.6666666666666666,\"#ed7953\"],[0.7777777777777778,\"#fb9f3a\"],[0.8888888888888888,\"#fdca26\"],[1.0,\"#f0f921\"]],\"sequentialminus\":[[0.0,\"#0d0887\"],[0.1111111111111111,\"#46039f\"],[0.2222222222222222,\"#7201a8\"],[0.3333333333333333,\"#9c179e\"],[0.4444444444444444,\"#bd3786\"],[0.5555555555555556,\"#d8576b\"],[0.6666666666666666,\"#ed7953\"],[0.7777777777777778,\"#fb9f3a\"],[0.8888888888888888,\"#fdca26\"],[1.0,\"#f0f921\"]],\"diverging\":[[0,\"#8e0152\"],[0.1,\"#c51b7d\"],[0.2,\"#de77ae\"],[0.3,\"#f1b6da\"],[0.4,\"#fde0ef\"],[0.5,\"#f7f7f7\"],[0.6,\"#e6f5d0\"],[0.7,\"#b8e186\"],[0.8,\"#7fbc41\"],[0.9,\"#4d9221\"],[1,\"#276419\"]]},\"xaxis\":{\"gridcolor\":\"white\",\"linecolor\":\"white\",\"ticks\":\"\",\"title\":{\"standoff\":15},\"zerolinecolor\":\"white\",\"automargin\":true,\"zerolinewidth\":2},\"yaxis\":{\"gridcolor\":\"white\",\"linecolor\":\"white\",\"ticks\":\"\",\"title\":{\"standoff\":15},\"zerolinecolor\":\"white\",\"automargin\":true,\"zerolinewidth\":2},\"scene\":{\"xaxis\":{\"backgroundcolor\":\"#E5ECF6\",\"gridcolor\":\"white\",\"linecolor\":\"white\",\"showbackground\":true,\"ticks\":\"\",\"zerolinecolor\":\"white\",\"gridwidth\":2},\"yaxis\":{\"backgroundcolor\":\"#E5ECF6\",\"gridcolor\":\"white\",\"linecolor\":\"white\",\"showbackground\":true,\"ticks\":\"\",\"zerolinecolor\":\"white\",\"gridwidth\":2},\"zaxis\":{\"backgroundcolor\":\"#E5ECF6\",\"gridcolor\":\"white\",\"linecolor\":\"white\",\"showbackground\":true,\"ticks\":\"\",\"zerolinecolor\":\"white\",\"gridwidth\":2}},\"shapedefaults\":{\"line\":{\"color\":\"#2a3f5f\"}},\"annotationdefaults\":{\"arrowcolor\":\"#2a3f5f\",\"arrowhead\":0,\"arrowwidth\":1},\"geo\":{\"bgcolor\":\"white\",\"landcolor\":\"#E5ECF6\",\"subunitcolor\":\"white\",\"showland\":true,\"showlakes\":true,\"lakecolor\":\"white\"},\"title\":{\"x\":0.05},\"mapbox\":{\"style\":\"light\"}}},\"geo\":{\"domain\":{\"x\":[0.0,1.0],\"y\":[0.0,1.0]},\"center\":{},\"scope\":\"usa\"},\"coloraxis\":{\"colorbar\":{\"title\":{\"text\":\"CF_percentage\"}},\"colorscale\":[[0.0,\"rgb(253, 224, 197)\"],[0.16666666666666666,\"rgb(250, 203, 166)\"],[0.3333333333333333,\"rgb(248, 181, 139)\"],[0.5,\"rgb(245, 158, 114)\"],[0.6666666666666666,\"rgb(242, 133, 93)\"],[0.8333333333333334,\"rgb(239, 106, 76)\"],[1.0,\"rgb(235, 74, 64)\"]],\"cmin\":-0.1,\"cmax\":0.1},\"legend\":{\"tracegroupgap\":0},\"margin\":{\"t\":60},\"updatemenus\":[{\"buttons\":[{\"args\":[null,{\"frame\":{\"duration\":500,\"redraw\":true},\"mode\":\"immediate\",\"fromcurrent\":true,\"transition\":{\"duration\":500,\"easing\":\"linear\"}}],\"label\":\"&#9654;\",\"method\":\"animate\"},{\"args\":[[null],{\"frame\":{\"duration\":0,\"redraw\":true},\"mode\":\"immediate\",\"fromcurrent\":true,\"transition\":{\"duration\":0,\"easing\":\"linear\"}}],\"label\":\"&#9724;\",\"method\":\"animate\"}],\"direction\":\"left\",\"pad\":{\"r\":10,\"t\":70},\"showactive\":false,\"type\":\"buttons\",\"x\":0.1,\"xanchor\":\"right\",\"y\":0,\"yanchor\":\"top\"}],\"sliders\":[{\"active\":0,\"currentvalue\":{\"prefix\":\"total_NCF=\"},\"len\":0.9,\"pad\":{\"b\":10,\"t\":60},\"steps\":[{\"args\":[[\"1000\"],{\"frame\":{\"duration\":0,\"redraw\":true},\"mode\":\"immediate\",\"fromcurrent\":true,\"transition\":{\"duration\":0,\"easing\":\"linear\"}}],\"label\":\"1000\",\"method\":\"animate\"},{\"args\":[[\"2000\"],{\"frame\":{\"duration\":0,\"redraw\":true},\"mode\":\"immediate\",\"fromcurrent\":true,\"transition\":{\"duration\":0,\"easing\":\"linear\"}}],\"label\":\"2000\",\"method\":\"animate\"},{\"args\":[[\"3000\"],{\"frame\":{\"duration\":0,\"redraw\":true},\"mode\":\"immediate\",\"fromcurrent\":true,\"transition\":{\"duration\":0,\"easing\":\"linear\"}}],\"label\":\"3000\",\"method\":\"animate\"},{\"args\":[[\"4000\"],{\"frame\":{\"duration\":0,\"redraw\":true},\"mode\":\"immediate\",\"fromcurrent\":true,\"transition\":{\"duration\":0,\"easing\":\"linear\"}}],\"label\":\"4000\",\"method\":\"animate\"},{\"args\":[[\"5000\"],{\"frame\":{\"duration\":0,\"redraw\":true},\"mode\":\"immediate\",\"fromcurrent\":true,\"transition\":{\"duration\":0,\"easing\":\"linear\"}}],\"label\":\"5000\",\"method\":\"animate\"},{\"args\":[[\"6000\"],{\"frame\":{\"duration\":0,\"redraw\":true},\"mode\":\"immediate\",\"fromcurrent\":true,\"transition\":{\"duration\":0,\"easing\":\"linear\"}}],\"label\":\"6000\",\"method\":\"animate\"},{\"args\":[[\"7000\"],{\"frame\":{\"duration\":0,\"redraw\":true},\"mode\":\"immediate\",\"fromcurrent\":true,\"transition\":{\"duration\":0,\"easing\":\"linear\"}}],\"label\":\"7000\",\"method\":\"animate\"},{\"args\":[[\"8000\"],{\"frame\":{\"duration\":0,\"redraw\":true},\"mode\":\"immediate\",\"fromcurrent\":true,\"transition\":{\"duration\":0,\"easing\":\"linear\"}}],\"label\":\"8000\",\"method\":\"animate\"},{\"args\":[[\"9000\"],{\"frame\":{\"duration\":0,\"redraw\":true},\"mode\":\"immediate\",\"fromcurrent\":true,\"transition\":{\"duration\":0,\"easing\":\"linear\"}}],\"label\":\"9000\",\"method\":\"animate\"},{\"args\":[[\"10000\"],{\"frame\":{\"duration\":0,\"redraw\":true},\"mode\":\"immediate\",\"fromcurrent\":true,\"transition\":{\"duration\":0,\"easing\":\"linear\"}}],\"label\":\"10000\",\"method\":\"animate\"}],\"x\":0.1,\"xanchor\":\"left\",\"y\":0,\"yanchor\":\"top\"}],\"title\":{\"font\":{\"family\":\"Times New Roman\",\"size\":22,\"color\":\"black\"},\"text\":\"New Certified Facilities Allocation in U.S. (By Percentage)\",\"x\":0.45}},                        {\"responsive\": true}                    ).then(function(){\n",
       "                            Plotly.addFrames('af572468-42e3-4280-8bef-8f528a7cb2ba', [{\"data\":[{\"coloraxis\":\"coloraxis\",\"geo\":\"geo\",\"hovertemplate\":\"total_NCF=1000<br>state_code=%{location}<br>CF_percentage=%{z}<extra></extra>\",\"locationmode\":\"USA-states\",\"locations\":[\"AL\",\"AK\",\"AZ\",\"AR\",\"CA\",\"CO\",\"CT\",\"DE\",\"DC\",\"FL\",\"GA\",\"HI\",\"ID\",\"IL\",\"IN\",\"IA\",\"KS\",\"KY\",\"LA\",\"ME\",\"MD\",\"MA\",\"MI\",\"MN\",\"MS\",\"MO\",\"MT\",\"NE\",\"NV\",\"NH\",\"NJ\",\"NM\",\"NY\",\"NC\",\"ND\",\"OH\",\"OK\",\"OR\",\"PA\",\"RI\",\"SC\",\"SD\",\"TN\",\"TX\",\"UT\",\"VT\",\"VA\",\"WA\",\"WV\",\"WI\",\"WY\"],\"name\":\"\",\"z\":[0.010133484,-0.015585001,0.043456225,0.0078476,0.32179382,0.017488879,-0.001310961,0.001833424,0.001397461,0.090799919,0.020012535,0.006006247,-1.86887e-05,0.035986194,0.015097814,-0.052703881,-0.027157535,-0.01027719,-0.010225093,-0.001334086,0.049621166,0.056371173,0.035451668,-0.048803222,-0.010867067,0.025710816,-0.014407245,-0.039540521,0.017869875,0.000106405,0.026282428,0.016754048,0.042785474,0.046703337,-0.0281406,0.024305463,-0.004613568,0.019784271,0.063861122,-0.000872679,0.052013392,-0.023139006,0.012919509,0.164059739,0.005683098,0.005583418,0.044468312,0.065611018,-0.004773282,-0.040365494,-0.013664213],\"type\":\"choropleth\"}],\"name\":\"1000\"},{\"data\":[{\"coloraxis\":\"coloraxis\",\"geo\":\"geo\",\"hovertemplate\":\"total_NCF=2000<br>state_code=%{location}<br>CF_percentage=%{z}<extra></extra>\",\"locationmode\":\"USA-states\",\"locations\":[\"AL\",\"AK\",\"AZ\",\"AR\",\"CA\",\"CO\",\"CT\",\"DE\",\"DC\",\"FL\",\"GA\",\"HI\",\"ID\",\"IL\",\"IN\",\"IA\",\"KS\",\"KY\",\"LA\",\"ME\",\"MD\",\"MA\",\"MI\",\"MN\",\"MS\",\"MO\",\"MT\",\"NE\",\"NV\",\"NH\",\"NJ\",\"NM\",\"NY\",\"NC\",\"ND\",\"OH\",\"OK\",\"OR\",\"PA\",\"RI\",\"SC\",\"SD\",\"TN\",\"TX\",\"UT\",\"VT\",\"VA\",\"WA\",\"WV\",\"WI\",\"WY\"],\"name\":\"\",\"z\":[0.012925998,-0.006886884,0.032880282,0.008596062,0.217204441,0.016830185,0.005204584,0.002572116,0.001603435,0.082727048,0.025451537,0.005239538,0.002537786,0.037285151,0.017642397,-0.02155235,-0.009322789,0.001815269,0.001896029,0.001759681,0.034255261,0.039177327,0.033661958,-0.016019043,-0.000850438,0.022460754,-0.005508731,-0.016990256,0.013452351,0.002346827,0.027300467,0.011640365,0.052218815,0.039820901,-0.01303757,0.030733359,0.003485542,0.016537183,0.053088186,0.00128635,0.034431729,-0.01027668,0.017115995,0.120150501,0.006465215,0.003862089,0.035207027,0.043965728,0.000693272,-0.011101389,-0.005982611],\"type\":\"choropleth\"}],\"name\":\"2000\"},{\"data\":[{\"coloraxis\":\"coloraxis\",\"geo\":\"geo\",\"hovertemplate\":\"total_NCF=3000<br>state_code=%{location}<br>CF_percentage=%{z}<extra></extra>\",\"locationmode\":\"USA-states\",\"locations\":[\"AL\",\"AK\",\"AZ\",\"AR\",\"CA\",\"CO\",\"CT\",\"DE\",\"DC\",\"FL\",\"GA\",\"HI\",\"ID\",\"IL\",\"IN\",\"IA\",\"KS\",\"KY\",\"LA\",\"ME\",\"MD\",\"MA\",\"MI\",\"MN\",\"MS\",\"MO\",\"MT\",\"NE\",\"NV\",\"NH\",\"NJ\",\"NM\",\"NY\",\"NC\",\"ND\",\"OH\",\"OK\",\"OR\",\"PA\",\"RI\",\"SC\",\"SD\",\"TN\",\"TX\",\"UT\",\"VT\",\"VA\",\"WA\",\"WV\",\"WI\",\"WY\"],\"name\":\"\",\"z\":[0.013856835,-0.003987512,0.029354968,0.008845549,0.182341314,0.01661062,0.007376432,0.002818347,0.001672093,0.080036091,0.027264538,0.004983968,0.003389944,0.037718136,0.018490591,-0.011168507,-0.003377874,0.005846089,0.005936403,0.002790937,0.029133293,0.033446045,0.033065388,-0.005090984,0.002488439,0.021377401,-0.00254256,-0.009473502,0.011979844,0.003093635,0.027639813,0.009935804,0.055363262,0.037526755,-0.008003226,0.032875991,0.006185245,0.015454821,0.049497207,0.002006026,0.028571175,-0.005989237,0.018514824,0.105514088,0.006725921,0.003288313,0.032119932,0.036750632,0.002515456,-0.001346688,-0.003422078],\"type\":\"choropleth\"}],\"name\":\"3000\"},{\"data\":[{\"coloraxis\":\"coloraxis\",\"geo\":\"geo\",\"hovertemplate\":\"total_NCF=4000<br>state_code=%{location}<br>CF_percentage=%{z}<extra></extra>\",\"locationmode\":\"USA-states\",\"locations\":[\"AL\",\"AK\",\"AZ\",\"AR\",\"CA\",\"CO\",\"CT\",\"DE\",\"DC\",\"FL\",\"GA\",\"HI\",\"ID\",\"IL\",\"IN\",\"IA\",\"KS\",\"KY\",\"LA\",\"ME\",\"MD\",\"MA\",\"MI\",\"MN\",\"MS\",\"MO\",\"MT\",\"NE\",\"NV\",\"NH\",\"NJ\",\"NM\",\"NY\",\"NC\",\"ND\",\"OH\",\"OK\",\"OR\",\"PA\",\"RI\",\"SC\",\"SD\",\"TN\",\"TX\",\"UT\",\"VT\",\"VA\",\"WA\",\"WV\",\"WI\",\"WY\"],\"name\":\"\",\"z\":[0.014322254,-0.002537826,0.027592311,0.008970293,0.164909751,0.016500838,0.008462357,0.002941462,0.001706421,0.078690613,0.028171038,0.004856183,0.003816023,0.037934629,0.018914689,-0.005976585,-0.000405416,0.007861499,0.00795659,0.003306565,0.026572309,0.030580404,0.032767103,0.000373046,0.004157877,0.020835724,-0.001059475,-0.005715124,0.01124359,0.003467038,0.027809486,0.009083523,0.056935485,0.036379683,-0.005486055,0.033947307,0.007535097,0.01491364,0.047701717,0.002365865,0.025640898,-0.003845516,0.019214238,0.098195882,0.006856274,0.003001425,0.030576385,0.033143084,0.003426548,0.003530663,-0.002141811],\"type\":\"choropleth\"}],\"name\":\"4000\"},{\"data\":[{\"coloraxis\":\"coloraxis\",\"geo\":\"geo\",\"hovertemplate\":\"total_NCF=5000<br>state_code=%{location}<br>CF_percentage=%{z}<extra></extra>\",\"locationmode\":\"USA-states\",\"locations\":[\"AL\",\"AK\",\"AZ\",\"AR\",\"CA\",\"CO\",\"CT\",\"DE\",\"DC\",\"FL\",\"GA\",\"HI\",\"ID\",\"IL\",\"IN\",\"IA\",\"KS\",\"KY\",\"LA\",\"ME\",\"MD\",\"MA\",\"MI\",\"MN\",\"MS\",\"MO\",\"MT\",\"NE\",\"NV\",\"NH\",\"NJ\",\"NM\",\"NY\",\"NC\",\"ND\",\"OH\",\"OK\",\"OR\",\"PA\",\"RI\",\"SC\",\"SD\",\"TN\",\"TX\",\"UT\",\"VT\",\"VA\",\"WA\",\"WV\",\"WI\",\"WY\"],\"name\":\"\",\"z\":[0.014601506,-0.001668014,0.026534717,0.009045139,0.154450813,0.016434968,0.009113911,0.003015332,0.001727019,0.077883326,0.028714938,0.004779512,0.00407167,0.038064525,0.019169147,-0.002861432,0.001378058,0.009070745,0.009168702,0.003615942,0.025035719,0.02886102,0.032588132,0.003651464,0.00515954,0.020510718,-0.000169623,-0.003460098,0.010801838,0.003691081,0.02791129,0.008572155,0.057878819,0.035691439,-0.003975752,0.034590096,0.008345008,0.014588931,0.046624424,0.002581768,0.023882732,-0.002559284,0.019633887,0.093804958,0.006934485,0.002829292,0.029650256,0.030978555,0.003973204,0.006457073,-0.001373651],\"type\":\"choropleth\"}],\"name\":\"5000\"},{\"data\":[{\"coloraxis\":\"coloraxis\",\"geo\":\"geo\",\"hovertemplate\":\"total_NCF=6000<br>state_code=%{location}<br>CF_percentage=%{z}<extra></extra>\",\"locationmode\":\"USA-states\",\"locations\":[\"AL\",\"AK\",\"AZ\",\"AR\",\"CA\",\"CO\",\"CT\",\"DE\",\"DC\",\"FL\",\"GA\",\"HI\",\"ID\",\"IL\",\"IN\",\"IA\",\"KS\",\"KY\",\"LA\",\"ME\",\"MD\",\"MA\",\"MI\",\"MN\",\"MS\",\"MO\",\"MT\",\"NE\",\"NV\",\"NH\",\"NJ\",\"NM\",\"NY\",\"NC\",\"ND\",\"OH\",\"OK\",\"OR\",\"PA\",\"RI\",\"SC\",\"SD\",\"TN\",\"TX\",\"UT\",\"VT\",\"VA\",\"WA\",\"WV\",\"WI\",\"WY\"],\"name\":\"\",\"z\":[0.014787673,-0.00108814,0.025829654,0.009095037,0.147478188,0.016391055,0.009548281,0.003064578,0.00174075,0.077345135,0.029077538,0.004728398,0.004242102,0.038151122,0.019338786,-0.000784663,0.002567041,0.009876909,0.009976777,0.003822193,0.024011325,0.027714763,0.032468818,0.005837076,0.005827315,0.020294047,0.000423611,-0.001956747,0.010507336,0.003840442,0.027979159,0.008231243,0.058507709,0.03523261,-0.002968883,0.035018623,0.008884949,0.014372458,0.045906228,0.002725703,0.022710621,-0.001701795,0.019913653,0.090877675,0.006986626,0.002714537,0.029032837,0.029535535,0.004337641,0.008408014,-0.000861544],\"type\":\"choropleth\"}],\"name\":\"6000\"},{\"data\":[{\"coloraxis\":\"coloraxis\",\"geo\":\"geo\",\"hovertemplate\":\"total_NCF=7000<br>state_code=%{location}<br>CF_percentage=%{z}<extra></extra>\",\"locationmode\":\"USA-states\",\"locations\":[\"AL\",\"AK\",\"AZ\",\"AR\",\"CA\",\"CO\",\"CT\",\"DE\",\"DC\",\"FL\",\"GA\",\"HI\",\"ID\",\"IL\",\"IN\",\"IA\",\"KS\",\"KY\",\"LA\",\"ME\",\"MD\",\"MA\",\"MI\",\"MN\",\"MS\",\"MO\",\"MT\",\"NE\",\"NV\",\"NH\",\"NJ\",\"NM\",\"NY\",\"NC\",\"ND\",\"OH\",\"OK\",\"OR\",\"PA\",\"RI\",\"SC\",\"SD\",\"TN\",\"TX\",\"UT\",\"VT\",\"VA\",\"WA\",\"WV\",\"WI\",\"WY\"],\"name\":\"\",\"z\":[0.01492065,-0.000673944,0.025326038,0.009130678,0.142497742,0.016359689,0.009858545,0.003099754,0.001750559,0.076960712,0.029336539,0.004691888,0.004363839,0.038212977,0.019459956,0.000698743,0.003416315,0.01045274,0.010553973,0.003969516,0.023279615,0.026896009,0.032383594,0.007398227,0.006304298,0.020139282,0.00084735,-0.000882925,0.010296978,0.003947129,0.028027637,0.007987734,0.058956915,0.034904875,-0.002249691,0.035324713,0.009270621,0.014217835,0.045393231,0.002828514,0.021873399,-0.001089304,0.020113485,0.088786759,0.00702387,0.002632569,0.028591824,0.028504807,0.004597953,0.009801542,-0.000495753],\"type\":\"choropleth\"}],\"name\":\"7000\"},{\"data\":[{\"coloraxis\":\"coloraxis\",\"geo\":\"geo\",\"hovertemplate\":\"total_NCF=8000<br>state_code=%{location}<br>CF_percentage=%{z}<extra></extra>\",\"locationmode\":\"USA-states\",\"locations\":[\"AL\",\"AK\",\"AZ\",\"AR\",\"CA\",\"CO\",\"CT\",\"DE\",\"DC\",\"FL\",\"GA\",\"HI\",\"ID\",\"IL\",\"IN\",\"IA\",\"KS\",\"KY\",\"LA\",\"ME\",\"MD\",\"MA\",\"MI\",\"MN\",\"MS\",\"MO\",\"MT\",\"NE\",\"NV\",\"NH\",\"NJ\",\"NM\",\"NY\",\"NC\",\"ND\",\"OH\",\"OK\",\"OR\",\"PA\",\"RI\",\"SC\",\"SD\",\"TN\",\"TX\",\"UT\",\"VT\",\"VA\",\"WA\",\"WV\",\"WI\",\"WY\"],\"name\":\"\",\"z\":[0.015020383,-0.000363297,0.024948325,0.009157409,0.138762407,0.016336164,0.010091243,0.003126136,0.001757915,0.076672395,0.029530789,0.004664506,0.004455142,0.038259368,0.019550834,0.001811298,0.00405327,0.010884614,0.010986871,0.004080007,0.022730833,0.026281943,0.032319676,0.008569091,0.006662034,0.020023209,0.001165154,-7.75579e-05,0.010139209,0.004027144,0.028063996,0.007805103,0.05929382,0.034659074,-0.001710297,0.035554281,0.009559875,0.014101868,0.045008483,0.002905622,0.021245482,-0.000629935,0.02026336,0.087218572,0.007051803,0.002571093,0.028261063,0.027731761,0.004793187,0.010846689,-0.00022141],\"type\":\"choropleth\"}],\"name\":\"8000\"},{\"data\":[{\"coloraxis\":\"coloraxis\",\"geo\":\"geo\",\"hovertemplate\":\"total_NCF=9000<br>state_code=%{location}<br>CF_percentage=%{z}<extra></extra>\",\"locationmode\":\"USA-states\",\"locations\":[\"AL\",\"AK\",\"AZ\",\"AR\",\"CA\",\"CO\",\"CT\",\"DE\",\"DC\",\"FL\",\"GA\",\"HI\",\"ID\",\"IL\",\"IN\",\"IA\",\"KS\",\"KY\",\"LA\",\"ME\",\"MD\",\"MA\",\"MI\",\"MN\",\"MS\",\"MO\",\"MT\",\"NE\",\"NV\",\"NH\",\"NJ\",\"NM\",\"NY\",\"NC\",\"ND\",\"OH\",\"OK\",\"OR\",\"PA\",\"RI\",\"SC\",\"SD\",\"TN\",\"TX\",\"UT\",\"VT\",\"VA\",\"WA\",\"WV\",\"WI\",\"WY\",\"AL\",\"AK\",\"AZ\",\"AR\",\"CA\",\"CO\",\"CT\",\"DE\",\"DC\",\"FL\",\"GA\",\"HI\",\"ID\",\"IL\",\"IN\",\"IA\",\"KS\",\"KY\",\"LA\",\"ME\",\"MD\",\"MA\",\"MI\",\"MN\",\"MS\",\"MO\",\"MT\",\"NE\",\"NV\",\"NH\",\"NJ\",\"NM\",\"NY\",\"NC\",\"ND\",\"OH\",\"OK\",\"OR\",\"PA\",\"RI\",\"SC\",\"SD\",\"TN\",\"TX\",\"UT\",\"VT\",\"VA\",\"WA\",\"WV\",\"WI\",\"WY\"],\"name\":\"\",\"z\":[0.015097953,-0.000121682,0.024654549,0.009178199,0.135857146,0.016317867,0.01027223,0.003146655,0.001763636,0.076448149,0.029681872,0.004643208,0.004526155,0.038295451,0.019621517,0.002676618,0.00454868,0.011220515,0.011323568,0.004165945,0.022304002,0.025804336,0.032269962,0.009479762,0.006940274,0.019932929,0.001412335,0.000548838,0.0100165,0.004089378,0.028092274,0.007663056,0.059555858,0.034467895,-0.001290769,0.035732833,0.00978485,0.014011671,0.044709235,0.002965595,0.020757103,-0.000272648,0.020379929,0.085998871,0.007073528,0.002523278,0.028003805,0.027130503,0.004945035,0.011659581,-8.03264e-06,0.015097953,-0.000121682,0.024654549,0.009178199,0.135857146,0.016317867,0.01027223,0.003146655,0.001763636,0.076448149,0.029681872,0.004643208,0.004526155,0.038295451,0.019621517,0.002676618,0.00454868,0.011220515,0.011323568,0.004165945,0.022304002,0.025804336,0.032269962,0.009479762,0.006940274,0.019932929,0.001412335,0.000548838,0.0100165,0.004089378,0.028092274,0.007663056,0.059555858,0.034467895,-0.001290769,0.035732833,0.00978485,0.014011671,0.044709235,0.002965595,0.020757103,-0.000272648,0.020379929,0.085998871,0.007073528,0.002523278,0.028003805,0.027130503,0.004945035,0.011659581,-8.03264e-06],\"type\":\"choropleth\"}],\"name\":\"9000\"},{\"data\":[{\"coloraxis\":\"coloraxis\",\"geo\":\"geo\",\"hovertemplate\":\"total_NCF=10000<br>state_code=%{location}<br>CF_percentage=%{z}<extra></extra>\",\"locationmode\":\"USA-states\",\"locations\":[\"AL\",\"AK\",\"AZ\",\"AR\",\"CA\",\"CO\",\"CT\",\"DE\",\"DC\",\"FL\",\"GA\",\"HI\",\"ID\",\"IL\",\"IN\",\"IA\",\"KS\",\"KY\",\"LA\",\"ME\",\"MD\",\"MA\",\"MI\",\"MN\",\"MS\",\"MO\",\"MT\",\"NE\",\"NV\",\"NH\",\"NJ\",\"NM\",\"NY\",\"NC\",\"ND\",\"OH\",\"OK\",\"OR\",\"PA\",\"RI\",\"SC\",\"SD\",\"TN\",\"TX\",\"UT\",\"VT\",\"VA\",\"WA\",\"WV\",\"WI\",\"WY\"],\"name\":\"\",\"z\":[0.015160008,7.1609e-05,0.024419528,0.009194832,0.133532938,0.016303229,0.01041702,0.00316307,0.001768214,0.076268752,0.029802739,0.00462617,0.004582965,0.038324316,0.019678064,0.003368874,0.004945008,0.011489237,0.011592927,0.004234696,0.021962538,0.02542225,0.03223019,0.0102083,0.007162866,0.019860705,0.001610079,0.001049955,0.009918333,0.004139165,0.028114897,0.007549419,0.059765487,0.034314952,-0.000955146,0.035875676,0.00996483,0.013939513,0.044469837,0.003013573,0.020366399,1.31815e-05,0.020473184,0.08502311,0.007090909,0.002485027,0.027797999,0.026649497,0.005066514,0.012309894,0.00016267],\"type\":\"choropleth\"}],\"name\":\"10000\"}]);\n",
       "                        }).then(function(){\n",
       "                            \n",
       "var gd = document.getElementById('af572468-42e3-4280-8bef-8f528a7cb2ba');\n",
       "var x = new MutationObserver(function (mutations, observer) {{\n",
       "        var display = window.getComputedStyle(gd).display;\n",
       "        if (!display || display === 'none') {{\n",
       "            console.log([gd, 'removed!']);\n",
       "            Plotly.purge(gd);\n",
       "            observer.disconnect();\n",
       "        }}\n",
       "}});\n",
       "\n",
       "// Listen for the removal of the full notebook cells\n",
       "var notebookContainer = gd.closest('#notebook-container');\n",
       "if (notebookContainer) {{\n",
       "    x.observe(notebookContainer, {childList: true});\n",
       "}}\n",
       "\n",
       "// Listen for the clearing of the current output cell\n",
       "var outputEl = gd.closest('.output');\n",
       "if (outputEl) {{\n",
       "    x.observe(outputEl, {childList: true});\n",
       "}}\n",
       "\n",
       "                        })                };                });            </script>        </div>"
      ]
     },
     "metadata": {},
     "output_type": "display_data"
    }
   ],
   "source": [
    "fig = px.choropleth(df,\n",
    "                    locations='state_code', \n",
    "                    locationmode=\"USA-states\", \n",
    "                    color='CF_percentage',\n",
    "                    color_continuous_scale=\"peach\", \n",
    "                    scope=\"usa\",\n",
    "                    range_color=(-0.1, 0.1),\n",
    "                    animation_frame='total_NCF') #make sure 'period_begin' is string type and sorted in ascending order\n",
    "\n",
    "fig.update_layout(\n",
    "      title_text = 'New Certified Facilities Allocation in U.S. (By Percentage)',\n",
    "      title_font_family=\"Times New Roman\",\n",
    "      title_font_size = 22,\n",
    "      title_font_color=\"black\", \n",
    "      title_x=0.45, \n",
    "         )"
   ]
  },
  {
   "cell_type": "code",
   "execution_count": 443,
   "id": "75397949",
   "metadata": {},
   "outputs": [
    {
     "data": {
      "application/vnd.plotly.v1+json": {
       "config": {
        "plotlyServerURL": "https://plot.ly"
       },
       "data": [
        {
         "coloraxis": "coloraxis",
         "geo": "geo",
         "hovertemplate": "total_NCF=1000<br>state_code=%{location}<br>NCF=%{z}<extra></extra>",
         "locationmode": "USA-states",
         "locations": [
          "AL",
          "AK",
          "AZ",
          "AR",
          "CA",
          "CO",
          "CT",
          "DE",
          "DC",
          "FL",
          "GA",
          "HI",
          "ID",
          "IL",
          "IN",
          "IA",
          "KS",
          "KY",
          "LA",
          "ME",
          "MD",
          "MA",
          "MI",
          "MN",
          "MS",
          "MO",
          "MT",
          "NE",
          "NV",
          "NH",
          "NJ",
          "NM",
          "NY",
          "NC",
          "ND",
          "OH",
          "OK",
          "OR",
          "PA",
          "RI",
          "SC",
          "SD",
          "TN",
          "TX",
          "UT",
          "VT",
          "VA",
          "WA",
          "WV",
          "WI",
          "WY"
         ],
         "name": "",
         "type": "choropleth",
         "z": [
          10.13348422,
          -15.58500105,
          43.45622526,
          7.847599604,
          321.7938198,
          17.4888793,
          -1.31096062,
          1.833424263,
          1.39746097,
          90.79991887,
          20.01253453,
          6.006247223,
          -0.018688661,
          35.98619412,
          15.097814,
          -52.70388062,
          -27.15753531,
          -10.27719001,
          -10.22509298,
          -1.334086347,
          49.62116592,
          56.37117268,
          35.45166787,
          -48.80322181,
          -10.86706718,
          25.71081564,
          -14.40724484,
          -39.54052099,
          17.86987453,
          0.106404819,
          26.28242781,
          16.75404751,
          42.78547444,
          46.70333703,
          -28.14059989,
          24.30546338,
          -4.613568359,
          19.78427076,
          63.86112207,
          -0.872679167,
          52.01339174,
          -23.13900594,
          12.91950946,
          164.0597388,
          5.683098079,
          5.583417659,
          44.46831154,
          65.61101827,
          -4.773282034,
          -40.36549385,
          -13.66421255
         ]
        }
       ],
       "frames": [
        {
         "data": [
          {
           "coloraxis": "coloraxis",
           "geo": "geo",
           "hovertemplate": "total_NCF=1000<br>state_code=%{location}<br>NCF=%{z}<extra></extra>",
           "locationmode": "USA-states",
           "locations": [
            "AL",
            "AK",
            "AZ",
            "AR",
            "CA",
            "CO",
            "CT",
            "DE",
            "DC",
            "FL",
            "GA",
            "HI",
            "ID",
            "IL",
            "IN",
            "IA",
            "KS",
            "KY",
            "LA",
            "ME",
            "MD",
            "MA",
            "MI",
            "MN",
            "MS",
            "MO",
            "MT",
            "NE",
            "NV",
            "NH",
            "NJ",
            "NM",
            "NY",
            "NC",
            "ND",
            "OH",
            "OK",
            "OR",
            "PA",
            "RI",
            "SC",
            "SD",
            "TN",
            "TX",
            "UT",
            "VT",
            "VA",
            "WA",
            "WV",
            "WI",
            "WY"
           ],
           "name": "",
           "type": "choropleth",
           "z": [
            10.13348422,
            -15.58500105,
            43.45622526,
            7.847599604,
            321.7938198,
            17.4888793,
            -1.31096062,
            1.833424263,
            1.39746097,
            90.79991887,
            20.01253453,
            6.006247223,
            -0.018688661,
            35.98619412,
            15.097814,
            -52.70388062,
            -27.15753531,
            -10.27719001,
            -10.22509298,
            -1.334086347,
            49.62116592,
            56.37117268,
            35.45166787,
            -48.80322181,
            -10.86706718,
            25.71081564,
            -14.40724484,
            -39.54052099,
            17.86987453,
            0.106404819,
            26.28242781,
            16.75404751,
            42.78547444,
            46.70333703,
            -28.14059989,
            24.30546338,
            -4.613568359,
            19.78427076,
            63.86112207,
            -0.872679167,
            52.01339174,
            -23.13900594,
            12.91950946,
            164.0597388,
            5.683098079,
            5.583417659,
            44.46831154,
            65.61101827,
            -4.773282034,
            -40.36549385,
            -13.66421255
           ]
          }
         ],
         "name": "1000"
        },
        {
         "data": [
          {
           "coloraxis": "coloraxis",
           "geo": "geo",
           "hovertemplate": "total_NCF=2000<br>state_code=%{location}<br>NCF=%{z}<extra></extra>",
           "locationmode": "USA-states",
           "locations": [
            "AL",
            "AK",
            "AZ",
            "AR",
            "CA",
            "CO",
            "CT",
            "DE",
            "DC",
            "FL",
            "GA",
            "HI",
            "ID",
            "IL",
            "IN",
            "IA",
            "KS",
            "KY",
            "LA",
            "ME",
            "MD",
            "MA",
            "MI",
            "MN",
            "MS",
            "MO",
            "MT",
            "NE",
            "NV",
            "NH",
            "NJ",
            "NM",
            "NY",
            "NC",
            "ND",
            "OH",
            "OK",
            "OR",
            "PA",
            "RI",
            "SC",
            "SD",
            "TN",
            "TX",
            "UT",
            "VT",
            "VA",
            "WA",
            "WV",
            "WI",
            "WY"
           ],
           "name": "",
           "type": "choropleth",
           "z": [
            25.85199532,
            -13.77376871,
            65.76056487,
            17.19212374,
            434.4088816,
            33.66036961,
            10.40916828,
            5.144232818,
            3.206869287,
            165.4540966,
            50.90307374,
            10.47907585,
            5.075571489,
            74.57030167,
            35.28479414,
            -43.10470024,
            -18.64557851,
            3.630538537,
            3.792058037,
            3.519362811,
            68.51052276,
            78.35465398,
            67.32391622,
            -32.03808627,
            -1.700875517,
            44.9215089,
            -11.01746271,
            -33.98051277,
            26.90470288,
            4.69365441,
            54.60093304,
            23.28072952,
            104.4376299,
            79.64180161,
            -26.07513966,
            61.46671802,
            6.971083917,
            33.07436652,
            106.1763714,
            2.572700015,
            68.86345849,
            -20.55335913,
            34.23199094,
            240.3010013,
            12.93043017,
            7.724178727,
            70.41405377,
            87.93145698,
            1.386543027,
            -22.2027787,
            -11.9652227
           ]
          }
         ],
         "name": "2000"
        },
        {
         "data": [
          {
           "coloraxis": "coloraxis",
           "geo": "geo",
           "hovertemplate": "total_NCF=3000<br>state_code=%{location}<br>NCF=%{z}<extra></extra>",
           "locationmode": "USA-states",
           "locations": [
            "AL",
            "AK",
            "AZ",
            "AR",
            "CA",
            "CO",
            "CT",
            "DE",
            "DC",
            "FL",
            "GA",
            "HI",
            "ID",
            "IL",
            "IN",
            "IA",
            "KS",
            "KY",
            "LA",
            "ME",
            "MD",
            "MA",
            "MI",
            "MN",
            "MS",
            "MO",
            "MT",
            "NE",
            "NV",
            "NH",
            "NJ",
            "NM",
            "NY",
            "NC",
            "ND",
            "OH",
            "OK",
            "OR",
            "PA",
            "RI",
            "SC",
            "SD",
            "TN",
            "TX",
            "UT",
            "VT",
            "VA",
            "WA",
            "WV",
            "WI",
            "WY"
           ],
           "name": "",
           "type": "choropleth",
           "z": [
            41.57050641,
            -11.96253637,
            88.06490447,
            26.53664788,
            547.0239435,
            49.83185992,
            22.12929718,
            8.455041374,
            5.016277604,
            240.1082743,
            81.79361295,
            14.95190447,
            10.16983164,
            113.1544092,
            55.47177427,
            -33.50551986,
            -10.1336217,
            17.53826709,
            17.80920905,
            8.372811969,
            87.39987959,
            100.3381353,
            99.19616457,
            -15.27295073,
            7.465316144,
            64.13220215,
            -7.627680585,
            -28.42050455,
            35.93953122,
            9.280904001,
            82.91943828,
            29.80741153,
            166.0897853,
            112.5802662,
            -24.00967943,
            98.62797266,
            18.55573619,
            46.36446228,
            148.4916207,
            6.018079197,
            85.71352523,
            -17.96771232,
            55.54447242,
            316.5422638,
            20.17776227,
            9.864939794,
            96.359796,
            110.2518957,
            7.546368089,
            -4.04006355,
            -10.26623284
           ]
          }
         ],
         "name": "3000"
        },
        {
         "data": [
          {
           "coloraxis": "coloraxis",
           "geo": "geo",
           "hovertemplate": "total_NCF=4000<br>state_code=%{location}<br>NCF=%{z}<extra></extra>",
           "locationmode": "USA-states",
           "locations": [
            "AL",
            "AK",
            "AZ",
            "AR",
            "CA",
            "CO",
            "CT",
            "DE",
            "DC",
            "FL",
            "GA",
            "HI",
            "ID",
            "IL",
            "IN",
            "IA",
            "KS",
            "KY",
            "LA",
            "ME",
            "MD",
            "MA",
            "MI",
            "MN",
            "MS",
            "MO",
            "MT",
            "NE",
            "NV",
            "NH",
            "NJ",
            "NM",
            "NY",
            "NC",
            "ND",
            "OH",
            "OK",
            "OR",
            "PA",
            "RI",
            "SC",
            "SD",
            "TN",
            "TX",
            "UT",
            "VT",
            "VA",
            "WA",
            "WV",
            "WI",
            "WY"
           ],
           "name": "",
           "type": "choropleth",
           "z": [
            57.28901751,
            -10.15130403,
            110.3692441,
            35.88117202,
            659.6390053,
            66.00335023,
            33.84942608,
            11.76584993,
            6.825685922,
            314.7624521,
            112.6841522,
            19.4247331,
            15.26409179,
            151.7385168,
            75.65875441,
            -23.90633947,
            -1.621664897,
            31.44599563,
            31.82636007,
            13.22626113,
            106.2892364,
            122.3216166,
            131.0684129,
            1.492184808,
            16.63150781,
            83.34289541,
            -4.237898457,
            -22.86049633,
            44.97435956,
            13.86815359,
            111.2379435,
            36.33409354,
            227.7419407,
            145.5187308,
            -21.9442192,
            135.7892273,
            30.14038847,
            59.65455805,
            190.80687,
            9.463458379,
            102.563592,
            -15.38206551,
            76.85695391,
            392.7835263,
            27.42509436,
            12.00570086,
            122.3055382,
            132.5723344,
            13.70619315,
            14.1226516,
            -8.567242987
           ]
          }
         ],
         "name": "4000"
        },
        {
         "data": [
          {
           "coloraxis": "coloraxis",
           "geo": "geo",
           "hovertemplate": "total_NCF=5000<br>state_code=%{location}<br>NCF=%{z}<extra></extra>",
           "locationmode": "USA-states",
           "locations": [
            "AL",
            "AK",
            "AZ",
            "AR",
            "CA",
            "CO",
            "CT",
            "DE",
            "DC",
            "FL",
            "GA",
            "HI",
            "ID",
            "IL",
            "IN",
            "IA",
            "KS",
            "KY",
            "LA",
            "ME",
            "MD",
            "MA",
            "MI",
            "MN",
            "MS",
            "MO",
            "MT",
            "NE",
            "NV",
            "NH",
            "NJ",
            "NM",
            "NY",
            "NC",
            "ND",
            "OH",
            "OK",
            "OR",
            "PA",
            "RI",
            "SC",
            "SD",
            "TN",
            "TX",
            "UT",
            "VT",
            "VA",
            "WA",
            "WV",
            "WI",
            "WY"
           ],
           "name": "",
           "type": "choropleth",
           "z": [
            73.00752861,
            -8.340071686,
            132.6735837,
            45.22569616,
            772.2540672,
            82.17484053,
            45.56955498,
            15.07665849,
            8.635094239,
            389.4166298,
            143.5746914,
            23.89756172,
            20.35835194,
            190.3226243,
            95.84573454,
            -14.30715909,
            6.890291908,
            45.35372418,
            45.84351109,
            18.07971028,
            125.1785932,
            144.3050979,
            162.9406613,
            18.25732035,
            25.79769947,
            102.5535887,
            -0.848116329,
            -17.30048812,
            54.00918791,
            18.45540318,
            139.5564487,
            42.86077555,
            289.3940961,
            178.4571954,
            -19.87875896,
            172.9504819,
            41.72504075,
            72.94465381,
            233.1221193,
            12.90883756,
            119.4136587,
            -12.7964187,
            98.16943539,
            469.0247888,
            34.67242645,
            14.14646193,
            148.2512805,
            154.8927731,
            19.86601821,
            32.28536675,
            -6.868253133
           ]
          }
         ],
         "name": "5000"
        },
        {
         "data": [
          {
           "coloraxis": "coloraxis",
           "geo": "geo",
           "hovertemplate": "total_NCF=6000<br>state_code=%{location}<br>NCF=%{z}<extra></extra>",
           "locationmode": "USA-states",
           "locations": [
            "AL",
            "AK",
            "AZ",
            "AR",
            "CA",
            "CO",
            "CT",
            "DE",
            "DC",
            "FL",
            "GA",
            "HI",
            "ID",
            "IL",
            "IN",
            "IA",
            "KS",
            "KY",
            "LA",
            "ME",
            "MD",
            "MA",
            "MI",
            "MN",
            "MS",
            "MO",
            "MT",
            "NE",
            "NV",
            "NH",
            "NJ",
            "NM",
            "NY",
            "NC",
            "ND",
            "OH",
            "OK",
            "OR",
            "PA",
            "RI",
            "SC",
            "SD",
            "TN",
            "TX",
            "UT",
            "VT",
            "VA",
            "WA",
            "WV",
            "WI",
            "WY"
           ],
           "name": "",
           "type": "choropleth",
           "z": [
            88.72603971,
            -6.528839346,
            154.9779233,
            54.5702203,
            884.8691291,
            98.34633084,
            57.28968388,
            18.38746704,
            10.44450256,
            464.0708075,
            174.4652306,
            28.37039034,
            25.45261209,
            228.9067319,
            116.0327147,
            -4.707978709,
            15.40224871,
            59.26145273,
            59.8606621,
            22.93315944,
            144.0679501,
            166.2885792,
            194.8129096,
            35.02245588,
            34.96389113,
            121.7642819,
            2.541665799,
            -11.7404799,
            63.04401625,
            23.04265277,
            167.874954,
            49.38745756,
            351.0462516,
            211.39566,
            -17.81329873,
            210.1117366,
            53.30969302,
            86.23474957,
            275.4373686,
            16.35421674,
            136.2637255,
            -10.21077189,
            119.4819169,
            545.2660513,
            41.91975855,
            16.28722299,
            174.1970227,
            177.2132119,
            26.02584327,
            50.4480819,
            -5.169263278
           ]
          }
         ],
         "name": "6000"
        },
        {
         "data": [
          {
           "coloraxis": "coloraxis",
           "geo": "geo",
           "hovertemplate": "total_NCF=7000<br>state_code=%{location}<br>NCF=%{z}<extra></extra>",
           "locationmode": "USA-states",
           "locations": [
            "AL",
            "AK",
            "AZ",
            "AR",
            "CA",
            "CO",
            "CT",
            "DE",
            "DC",
            "FL",
            "GA",
            "HI",
            "ID",
            "IL",
            "IN",
            "IA",
            "KS",
            "KY",
            "LA",
            "ME",
            "MD",
            "MA",
            "MI",
            "MN",
            "MS",
            "MO",
            "MT",
            "NE",
            "NV",
            "NH",
            "NJ",
            "NM",
            "NY",
            "NC",
            "ND",
            "OH",
            "OK",
            "OR",
            "PA",
            "RI",
            "SC",
            "SD",
            "TN",
            "TX",
            "UT",
            "VT",
            "VA",
            "WA",
            "WV",
            "WI",
            "WY"
           ],
           "name": "",
           "type": "choropleth",
           "z": [
            104.4445508,
            -4.717607006,
            177.2822629,
            63.91474444,
            997.4841909,
            114.5178211,
            69.00981278,
            21.6982756,
            12.25391087,
            538.7249852,
            205.3557698,
            32.84321897,
            30.54687224,
            267.4908394,
            136.2196948,
            4.891201673,
            23.91420552,
            73.16918128,
            73.87781312,
            27.7866086,
            162.9573069,
            188.2720605,
            226.685158,
            51.78759142,
            44.13008279,
            140.9749752,
            5.931447927,
            -6.180471682,
            72.0788446,
            27.62990237,
            196.1934592,
            55.91413957,
            412.698407,
            244.3341246,
            -15.7478385,
            247.2729912,
            64.8943453,
            99.52484534,
            317.7526179,
            19.79959592,
            153.1137922,
            -7.625125084,
            140.7943984,
            621.5073138,
            49.16709064,
            18.42798406,
            200.1427649,
            199.5336506,
            32.18566833,
            68.61079704,
            -3.470273424
           ]
          }
         ],
         "name": "7000"
        },
        {
         "data": [
          {
           "coloraxis": "coloraxis",
           "geo": "geo",
           "hovertemplate": "total_NCF=8000<br>state_code=%{location}<br>NCF=%{z}<extra></extra>",
           "locationmode": "USA-states",
           "locations": [
            "AL",
            "AK",
            "AZ",
            "AR",
            "CA",
            "CO",
            "CT",
            "DE",
            "DC",
            "FL",
            "GA",
            "HI",
            "ID",
            "IL",
            "IN",
            "IA",
            "KS",
            "KY",
            "LA",
            "ME",
            "MD",
            "MA",
            "MI",
            "MN",
            "MS",
            "MO",
            "MT",
            "NE",
            "NV",
            "NH",
            "NJ",
            "NM",
            "NY",
            "NC",
            "ND",
            "OH",
            "OK",
            "OR",
            "PA",
            "RI",
            "SC",
            "SD",
            "TN",
            "TX",
            "UT",
            "VT",
            "VA",
            "WA",
            "WV",
            "WI",
            "WY"
           ],
           "name": "",
           "type": "choropleth",
           "z": [
            120.1630619,
            -2.906374665,
            199.5866025,
            73.25926858,
            1110.099253,
            130.6893115,
            80.72994168,
            25.00908415,
            14.06331919,
            613.379163,
            236.246309,
            37.31604759,
            35.64113239,
            306.074947,
            156.406675,
            14.49038206,
            32.42616233,
            87.07690983,
            87.89496413,
            32.64005776,
            181.8466637,
            210.2555418,
            258.5574063,
            68.55272696,
            53.29627445,
            160.1856684,
            9.321230055,
            -0.620463464,
            81.11367294,
            32.21715196,
            224.5119644,
            62.44082157,
            474.3505624,
            277.2725891,
            -13.68237827,
            284.4342459,
            76.47899758,
            112.8149411,
            360.0678672,
            23.24497511,
            169.9638589,
            -5.039478276,
            162.1068798,
            697.7485763,
            56.41442273,
            20.56874513,
            226.0885072,
            221.8540893,
            38.3454934,
            86.77351219,
            -1.77128357
           ]
          }
         ],
         "name": "8000"
        },
        {
         "data": [
          {
           "coloraxis": "coloraxis",
           "geo": "geo",
           "hovertemplate": "total_NCF=9000<br>state_code=%{location}<br>NCF=%{z}<extra></extra>",
           "locationmode": "USA-states",
           "locations": [
            "AL",
            "AK",
            "AZ",
            "AR",
            "CA",
            "CO",
            "CT",
            "DE",
            "DC",
            "FL",
            "GA",
            "HI",
            "ID",
            "IL",
            "IN",
            "IA",
            "KS",
            "KY",
            "LA",
            "ME",
            "MD",
            "MA",
            "MI",
            "MN",
            "MS",
            "MO",
            "MT",
            "NE",
            "NV",
            "NH",
            "NJ",
            "NM",
            "NY",
            "NC",
            "ND",
            "OH",
            "OK",
            "OR",
            "PA",
            "RI",
            "SC",
            "SD",
            "TN",
            "TX",
            "UT",
            "VT",
            "VA",
            "WA",
            "WV",
            "WI",
            "WY",
            "AL",
            "AK",
            "AZ",
            "AR",
            "CA",
            "CO",
            "CT",
            "DE",
            "DC",
            "FL",
            "GA",
            "HI",
            "ID",
            "IL",
            "IN",
            "IA",
            "KS",
            "KY",
            "LA",
            "ME",
            "MD",
            "MA",
            "MI",
            "MN",
            "MS",
            "MO",
            "MT",
            "NE",
            "NV",
            "NH",
            "NJ",
            "NM",
            "NY",
            "NC",
            "ND",
            "OH",
            "OK",
            "OR",
            "PA",
            "RI",
            "SC",
            "SD",
            "TN",
            "TX",
            "UT",
            "VT",
            "VA",
            "WA",
            "WV",
            "WI",
            "WY"
           ],
           "name": "",
           "type": "choropleth",
           "z": [
            135.881573,
            -1.095142325,
            221.8909421,
            82.60379272,
            1222.714315,
            146.8608018,
            92.45007058,
            28.31989271,
            15.87272751,
            688.0333407,
            267.1368482,
            41.78887622,
            40.73539254,
            344.6590545,
            176.5936551,
            24.08956244,
            40.93811913,
            100.9846384,
            101.9121152,
            37.49350692,
            200.7360206,
            232.2390231,
            290.4296547,
            85.3178625,
            62.46246611,
            179.3963617,
            12.71101218,
            4.939544753,
            90.14850129,
            36.80440155,
            252.8304697,
            68.96750358,
            536.0027179,
            310.2110537,
            -11.61691804,
            321.5955005,
            88.06364985,
            126.1050369,
            402.3831165,
            26.69035429,
            186.8139257,
            -2.453831467,
            183.4193613,
            773.9898388,
            63.66175483,
            22.7095062,
            252.0342494,
            244.174528,
            44.50531846,
            104.9362273,
            -0.072293715,
            135.881573,
            -1.095142325,
            221.8909421,
            82.60379272,
            1222.714315,
            146.8608018,
            92.45007058,
            28.31989271,
            15.87272751,
            688.0333407,
            267.1368482,
            41.78887622,
            40.73539254,
            344.6590545,
            176.5936551,
            24.08956244,
            40.93811913,
            100.9846384,
            101.9121152,
            37.49350692,
            200.7360206,
            232.2390231,
            290.4296547,
            85.3178625,
            62.46246611,
            179.3963617,
            12.71101218,
            4.939544753,
            90.14850129,
            36.80440155,
            252.8304697,
            68.96750358,
            536.0027179,
            310.2110537,
            -11.61691804,
            321.5955005,
            88.06364985,
            126.1050369,
            402.3831165,
            26.69035429,
            186.8139257,
            -2.453831467,
            183.4193613,
            773.9898388,
            63.66175483,
            22.7095062,
            252.0342494,
            244.174528,
            44.50531846,
            104.9362273,
            -0.072293715
           ]
          }
         ],
         "name": "9000"
        },
        {
         "data": [
          {
           "coloraxis": "coloraxis",
           "geo": "geo",
           "hovertemplate": "total_NCF=10000<br>state_code=%{location}<br>NCF=%{z}<extra></extra>",
           "locationmode": "USA-states",
           "locations": [
            "AL",
            "AK",
            "AZ",
            "AR",
            "CA",
            "CO",
            "CT",
            "DE",
            "DC",
            "FL",
            "GA",
            "HI",
            "ID",
            "IL",
            "IN",
            "IA",
            "KS",
            "KY",
            "LA",
            "ME",
            "MD",
            "MA",
            "MI",
            "MN",
            "MS",
            "MO",
            "MT",
            "NE",
            "NV",
            "NH",
            "NJ",
            "NM",
            "NY",
            "NC",
            "ND",
            "OH",
            "OK",
            "OR",
            "PA",
            "RI",
            "SC",
            "SD",
            "TN",
            "TX",
            "UT",
            "VT",
            "VA",
            "WA",
            "WV",
            "WI",
            "WY"
           ],
           "name": "",
           "type": "choropleth",
           "z": [
            151.6000841,
            0.716090015,
            244.1952817,
            91.94831686,
            1335.329376,
            163.0322921,
            104.1701995,
            31.63070126,
            17.68213583,
            762.6875184,
            298.0273874,
            46.26170484,
            45.82965269,
            383.2431621,
            196.7806352,
            33.68874282,
            49.45007594,
            114.8923669,
            115.9292662,
            42.34695607,
            219.6253774,
            254.2225044,
            322.301903,
            102.082998,
            71.62865777,
            198.6070549,
            16.10079431,
            10.49955297,
            99.18332963,
            41.39165114,
            281.1489749,
            75.49418559,
            597.6548733,
            343.1495183,
            -9.551457814,
            358.7567552,
            99.64830213,
            139.3951326,
            444.6983658,
            30.13573347,
            203.6639924,
            0.131815341,
            204.7318428,
            850.2311012,
            70.90908692,
            24.85026726,
            277.9799916,
            266.4949667,
            50.66514352,
            123.0989425,
            1.626696139
           ]
          }
         ],
         "name": "10000"
        }
       ],
       "layout": {
        "coloraxis": {
         "cmax": 200,
         "cmin": -20,
         "colorbar": {
          "title": {
           "text": "NCF"
          }
         },
         "colorscale": [
          [
           0,
           "rgb(253, 224, 197)"
          ],
          [
           0.16666666666666666,
           "rgb(250, 203, 166)"
          ],
          [
           0.3333333333333333,
           "rgb(248, 181, 139)"
          ],
          [
           0.5,
           "rgb(245, 158, 114)"
          ],
          [
           0.6666666666666666,
           "rgb(242, 133, 93)"
          ],
          [
           0.8333333333333334,
           "rgb(239, 106, 76)"
          ],
          [
           1,
           "rgb(235, 74, 64)"
          ]
         ]
        },
        "geo": {
         "center": {},
         "domain": {
          "x": [
           0,
           1
          ],
          "y": [
           0,
           1
          ]
         },
         "scope": "usa"
        },
        "legend": {
         "tracegroupgap": 0
        },
        "margin": {
         "t": 60
        },
        "sliders": [
         {
          "active": 0,
          "currentvalue": {
           "prefix": "total_NCF="
          },
          "len": 0.9,
          "pad": {
           "b": 10,
           "t": 60
          },
          "steps": [
           {
            "args": [
             [
              "1000"
             ],
             {
              "frame": {
               "duration": 0,
               "redraw": true
              },
              "fromcurrent": true,
              "mode": "immediate",
              "transition": {
               "duration": 0,
               "easing": "linear"
              }
             }
            ],
            "label": "1000",
            "method": "animate"
           },
           {
            "args": [
             [
              "2000"
             ],
             {
              "frame": {
               "duration": 0,
               "redraw": true
              },
              "fromcurrent": true,
              "mode": "immediate",
              "transition": {
               "duration": 0,
               "easing": "linear"
              }
             }
            ],
            "label": "2000",
            "method": "animate"
           },
           {
            "args": [
             [
              "3000"
             ],
             {
              "frame": {
               "duration": 0,
               "redraw": true
              },
              "fromcurrent": true,
              "mode": "immediate",
              "transition": {
               "duration": 0,
               "easing": "linear"
              }
             }
            ],
            "label": "3000",
            "method": "animate"
           },
           {
            "args": [
             [
              "4000"
             ],
             {
              "frame": {
               "duration": 0,
               "redraw": true
              },
              "fromcurrent": true,
              "mode": "immediate",
              "transition": {
               "duration": 0,
               "easing": "linear"
              }
             }
            ],
            "label": "4000",
            "method": "animate"
           },
           {
            "args": [
             [
              "5000"
             ],
             {
              "frame": {
               "duration": 0,
               "redraw": true
              },
              "fromcurrent": true,
              "mode": "immediate",
              "transition": {
               "duration": 0,
               "easing": "linear"
              }
             }
            ],
            "label": "5000",
            "method": "animate"
           },
           {
            "args": [
             [
              "6000"
             ],
             {
              "frame": {
               "duration": 0,
               "redraw": true
              },
              "fromcurrent": true,
              "mode": "immediate",
              "transition": {
               "duration": 0,
               "easing": "linear"
              }
             }
            ],
            "label": "6000",
            "method": "animate"
           },
           {
            "args": [
             [
              "7000"
             ],
             {
              "frame": {
               "duration": 0,
               "redraw": true
              },
              "fromcurrent": true,
              "mode": "immediate",
              "transition": {
               "duration": 0,
               "easing": "linear"
              }
             }
            ],
            "label": "7000",
            "method": "animate"
           },
           {
            "args": [
             [
              "8000"
             ],
             {
              "frame": {
               "duration": 0,
               "redraw": true
              },
              "fromcurrent": true,
              "mode": "immediate",
              "transition": {
               "duration": 0,
               "easing": "linear"
              }
             }
            ],
            "label": "8000",
            "method": "animate"
           },
           {
            "args": [
             [
              "9000"
             ],
             {
              "frame": {
               "duration": 0,
               "redraw": true
              },
              "fromcurrent": true,
              "mode": "immediate",
              "transition": {
               "duration": 0,
               "easing": "linear"
              }
             }
            ],
            "label": "9000",
            "method": "animate"
           },
           {
            "args": [
             [
              "10000"
             ],
             {
              "frame": {
               "duration": 0,
               "redraw": true
              },
              "fromcurrent": true,
              "mode": "immediate",
              "transition": {
               "duration": 0,
               "easing": "linear"
              }
             }
            ],
            "label": "10000",
            "method": "animate"
           }
          ],
          "x": 0.1,
          "xanchor": "left",
          "y": 0,
          "yanchor": "top"
         }
        ],
        "template": {
         "data": {
          "bar": [
           {
            "error_x": {
             "color": "#2a3f5f"
            },
            "error_y": {
             "color": "#2a3f5f"
            },
            "marker": {
             "line": {
              "color": "#E5ECF6",
              "width": 0.5
             },
             "pattern": {
              "fillmode": "overlay",
              "size": 10,
              "solidity": 0.2
             }
            },
            "type": "bar"
           }
          ],
          "barpolar": [
           {
            "marker": {
             "line": {
              "color": "#E5ECF6",
              "width": 0.5
             },
             "pattern": {
              "fillmode": "overlay",
              "size": 10,
              "solidity": 0.2
             }
            },
            "type": "barpolar"
           }
          ],
          "carpet": [
           {
            "aaxis": {
             "endlinecolor": "#2a3f5f",
             "gridcolor": "white",
             "linecolor": "white",
             "minorgridcolor": "white",
             "startlinecolor": "#2a3f5f"
            },
            "baxis": {
             "endlinecolor": "#2a3f5f",
             "gridcolor": "white",
             "linecolor": "white",
             "minorgridcolor": "white",
             "startlinecolor": "#2a3f5f"
            },
            "type": "carpet"
           }
          ],
          "choropleth": [
           {
            "colorbar": {
             "outlinewidth": 0,
             "ticks": ""
            },
            "type": "choropleth"
           }
          ],
          "contour": [
           {
            "colorbar": {
             "outlinewidth": 0,
             "ticks": ""
            },
            "colorscale": [
             [
              0,
              "#0d0887"
             ],
             [
              0.1111111111111111,
              "#46039f"
             ],
             [
              0.2222222222222222,
              "#7201a8"
             ],
             [
              0.3333333333333333,
              "#9c179e"
             ],
             [
              0.4444444444444444,
              "#bd3786"
             ],
             [
              0.5555555555555556,
              "#d8576b"
             ],
             [
              0.6666666666666666,
              "#ed7953"
             ],
             [
              0.7777777777777778,
              "#fb9f3a"
             ],
             [
              0.8888888888888888,
              "#fdca26"
             ],
             [
              1,
              "#f0f921"
             ]
            ],
            "type": "contour"
           }
          ],
          "contourcarpet": [
           {
            "colorbar": {
             "outlinewidth": 0,
             "ticks": ""
            },
            "type": "contourcarpet"
           }
          ],
          "heatmap": [
           {
            "colorbar": {
             "outlinewidth": 0,
             "ticks": ""
            },
            "colorscale": [
             [
              0,
              "#0d0887"
             ],
             [
              0.1111111111111111,
              "#46039f"
             ],
             [
              0.2222222222222222,
              "#7201a8"
             ],
             [
              0.3333333333333333,
              "#9c179e"
             ],
             [
              0.4444444444444444,
              "#bd3786"
             ],
             [
              0.5555555555555556,
              "#d8576b"
             ],
             [
              0.6666666666666666,
              "#ed7953"
             ],
             [
              0.7777777777777778,
              "#fb9f3a"
             ],
             [
              0.8888888888888888,
              "#fdca26"
             ],
             [
              1,
              "#f0f921"
             ]
            ],
            "type": "heatmap"
           }
          ],
          "heatmapgl": [
           {
            "colorbar": {
             "outlinewidth": 0,
             "ticks": ""
            },
            "colorscale": [
             [
              0,
              "#0d0887"
             ],
             [
              0.1111111111111111,
              "#46039f"
             ],
             [
              0.2222222222222222,
              "#7201a8"
             ],
             [
              0.3333333333333333,
              "#9c179e"
             ],
             [
              0.4444444444444444,
              "#bd3786"
             ],
             [
              0.5555555555555556,
              "#d8576b"
             ],
             [
              0.6666666666666666,
              "#ed7953"
             ],
             [
              0.7777777777777778,
              "#fb9f3a"
             ],
             [
              0.8888888888888888,
              "#fdca26"
             ],
             [
              1,
              "#f0f921"
             ]
            ],
            "type": "heatmapgl"
           }
          ],
          "histogram": [
           {
            "marker": {
             "pattern": {
              "fillmode": "overlay",
              "size": 10,
              "solidity": 0.2
             }
            },
            "type": "histogram"
           }
          ],
          "histogram2d": [
           {
            "colorbar": {
             "outlinewidth": 0,
             "ticks": ""
            },
            "colorscale": [
             [
              0,
              "#0d0887"
             ],
             [
              0.1111111111111111,
              "#46039f"
             ],
             [
              0.2222222222222222,
              "#7201a8"
             ],
             [
              0.3333333333333333,
              "#9c179e"
             ],
             [
              0.4444444444444444,
              "#bd3786"
             ],
             [
              0.5555555555555556,
              "#d8576b"
             ],
             [
              0.6666666666666666,
              "#ed7953"
             ],
             [
              0.7777777777777778,
              "#fb9f3a"
             ],
             [
              0.8888888888888888,
              "#fdca26"
             ],
             [
              1,
              "#f0f921"
             ]
            ],
            "type": "histogram2d"
           }
          ],
          "histogram2dcontour": [
           {
            "colorbar": {
             "outlinewidth": 0,
             "ticks": ""
            },
            "colorscale": [
             [
              0,
              "#0d0887"
             ],
             [
              0.1111111111111111,
              "#46039f"
             ],
             [
              0.2222222222222222,
              "#7201a8"
             ],
             [
              0.3333333333333333,
              "#9c179e"
             ],
             [
              0.4444444444444444,
              "#bd3786"
             ],
             [
              0.5555555555555556,
              "#d8576b"
             ],
             [
              0.6666666666666666,
              "#ed7953"
             ],
             [
              0.7777777777777778,
              "#fb9f3a"
             ],
             [
              0.8888888888888888,
              "#fdca26"
             ],
             [
              1,
              "#f0f921"
             ]
            ],
            "type": "histogram2dcontour"
           }
          ],
          "mesh3d": [
           {
            "colorbar": {
             "outlinewidth": 0,
             "ticks": ""
            },
            "type": "mesh3d"
           }
          ],
          "parcoords": [
           {
            "line": {
             "colorbar": {
              "outlinewidth": 0,
              "ticks": ""
             }
            },
            "type": "parcoords"
           }
          ],
          "pie": [
           {
            "automargin": true,
            "type": "pie"
           }
          ],
          "scatter": [
           {
            "fillpattern": {
             "fillmode": "overlay",
             "size": 10,
             "solidity": 0.2
            },
            "type": "scatter"
           }
          ],
          "scatter3d": [
           {
            "line": {
             "colorbar": {
              "outlinewidth": 0,
              "ticks": ""
             }
            },
            "marker": {
             "colorbar": {
              "outlinewidth": 0,
              "ticks": ""
             }
            },
            "type": "scatter3d"
           }
          ],
          "scattercarpet": [
           {
            "marker": {
             "colorbar": {
              "outlinewidth": 0,
              "ticks": ""
             }
            },
            "type": "scattercarpet"
           }
          ],
          "scattergeo": [
           {
            "marker": {
             "colorbar": {
              "outlinewidth": 0,
              "ticks": ""
             }
            },
            "type": "scattergeo"
           }
          ],
          "scattergl": [
           {
            "marker": {
             "colorbar": {
              "outlinewidth": 0,
              "ticks": ""
             }
            },
            "type": "scattergl"
           }
          ],
          "scattermapbox": [
           {
            "marker": {
             "colorbar": {
              "outlinewidth": 0,
              "ticks": ""
             }
            },
            "type": "scattermapbox"
           }
          ],
          "scatterpolar": [
           {
            "marker": {
             "colorbar": {
              "outlinewidth": 0,
              "ticks": ""
             }
            },
            "type": "scatterpolar"
           }
          ],
          "scatterpolargl": [
           {
            "marker": {
             "colorbar": {
              "outlinewidth": 0,
              "ticks": ""
             }
            },
            "type": "scatterpolargl"
           }
          ],
          "scatterternary": [
           {
            "marker": {
             "colorbar": {
              "outlinewidth": 0,
              "ticks": ""
             }
            },
            "type": "scatterternary"
           }
          ],
          "surface": [
           {
            "colorbar": {
             "outlinewidth": 0,
             "ticks": ""
            },
            "colorscale": [
             [
              0,
              "#0d0887"
             ],
             [
              0.1111111111111111,
              "#46039f"
             ],
             [
              0.2222222222222222,
              "#7201a8"
             ],
             [
              0.3333333333333333,
              "#9c179e"
             ],
             [
              0.4444444444444444,
              "#bd3786"
             ],
             [
              0.5555555555555556,
              "#d8576b"
             ],
             [
              0.6666666666666666,
              "#ed7953"
             ],
             [
              0.7777777777777778,
              "#fb9f3a"
             ],
             [
              0.8888888888888888,
              "#fdca26"
             ],
             [
              1,
              "#f0f921"
             ]
            ],
            "type": "surface"
           }
          ],
          "table": [
           {
            "cells": {
             "fill": {
              "color": "#EBF0F8"
             },
             "line": {
              "color": "white"
             }
            },
            "header": {
             "fill": {
              "color": "#C8D4E3"
             },
             "line": {
              "color": "white"
             }
            },
            "type": "table"
           }
          ]
         },
         "layout": {
          "annotationdefaults": {
           "arrowcolor": "#2a3f5f",
           "arrowhead": 0,
           "arrowwidth": 1
          },
          "autotypenumbers": "strict",
          "coloraxis": {
           "colorbar": {
            "outlinewidth": 0,
            "ticks": ""
           }
          },
          "colorscale": {
           "diverging": [
            [
             0,
             "#8e0152"
            ],
            [
             0.1,
             "#c51b7d"
            ],
            [
             0.2,
             "#de77ae"
            ],
            [
             0.3,
             "#f1b6da"
            ],
            [
             0.4,
             "#fde0ef"
            ],
            [
             0.5,
             "#f7f7f7"
            ],
            [
             0.6,
             "#e6f5d0"
            ],
            [
             0.7,
             "#b8e186"
            ],
            [
             0.8,
             "#7fbc41"
            ],
            [
             0.9,
             "#4d9221"
            ],
            [
             1,
             "#276419"
            ]
           ],
           "sequential": [
            [
             0,
             "#0d0887"
            ],
            [
             0.1111111111111111,
             "#46039f"
            ],
            [
             0.2222222222222222,
             "#7201a8"
            ],
            [
             0.3333333333333333,
             "#9c179e"
            ],
            [
             0.4444444444444444,
             "#bd3786"
            ],
            [
             0.5555555555555556,
             "#d8576b"
            ],
            [
             0.6666666666666666,
             "#ed7953"
            ],
            [
             0.7777777777777778,
             "#fb9f3a"
            ],
            [
             0.8888888888888888,
             "#fdca26"
            ],
            [
             1,
             "#f0f921"
            ]
           ],
           "sequentialminus": [
            [
             0,
             "#0d0887"
            ],
            [
             0.1111111111111111,
             "#46039f"
            ],
            [
             0.2222222222222222,
             "#7201a8"
            ],
            [
             0.3333333333333333,
             "#9c179e"
            ],
            [
             0.4444444444444444,
             "#bd3786"
            ],
            [
             0.5555555555555556,
             "#d8576b"
            ],
            [
             0.6666666666666666,
             "#ed7953"
            ],
            [
             0.7777777777777778,
             "#fb9f3a"
            ],
            [
             0.8888888888888888,
             "#fdca26"
            ],
            [
             1,
             "#f0f921"
            ]
           ]
          },
          "colorway": [
           "#636efa",
           "#EF553B",
           "#00cc96",
           "#ab63fa",
           "#FFA15A",
           "#19d3f3",
           "#FF6692",
           "#B6E880",
           "#FF97FF",
           "#FECB52"
          ],
          "font": {
           "color": "#2a3f5f"
          },
          "geo": {
           "bgcolor": "white",
           "lakecolor": "white",
           "landcolor": "#E5ECF6",
           "showlakes": true,
           "showland": true,
           "subunitcolor": "white"
          },
          "hoverlabel": {
           "align": "left"
          },
          "hovermode": "closest",
          "mapbox": {
           "style": "light"
          },
          "paper_bgcolor": "white",
          "plot_bgcolor": "#E5ECF6",
          "polar": {
           "angularaxis": {
            "gridcolor": "white",
            "linecolor": "white",
            "ticks": ""
           },
           "bgcolor": "#E5ECF6",
           "radialaxis": {
            "gridcolor": "white",
            "linecolor": "white",
            "ticks": ""
           }
          },
          "scene": {
           "xaxis": {
            "backgroundcolor": "#E5ECF6",
            "gridcolor": "white",
            "gridwidth": 2,
            "linecolor": "white",
            "showbackground": true,
            "ticks": "",
            "zerolinecolor": "white"
           },
           "yaxis": {
            "backgroundcolor": "#E5ECF6",
            "gridcolor": "white",
            "gridwidth": 2,
            "linecolor": "white",
            "showbackground": true,
            "ticks": "",
            "zerolinecolor": "white"
           },
           "zaxis": {
            "backgroundcolor": "#E5ECF6",
            "gridcolor": "white",
            "gridwidth": 2,
            "linecolor": "white",
            "showbackground": true,
            "ticks": "",
            "zerolinecolor": "white"
           }
          },
          "shapedefaults": {
           "line": {
            "color": "#2a3f5f"
           }
          },
          "ternary": {
           "aaxis": {
            "gridcolor": "white",
            "linecolor": "white",
            "ticks": ""
           },
           "baxis": {
            "gridcolor": "white",
            "linecolor": "white",
            "ticks": ""
           },
           "bgcolor": "#E5ECF6",
           "caxis": {
            "gridcolor": "white",
            "linecolor": "white",
            "ticks": ""
           }
          },
          "title": {
           "x": 0.05
          },
          "xaxis": {
           "automargin": true,
           "gridcolor": "white",
           "linecolor": "white",
           "ticks": "",
           "title": {
            "standoff": 15
           },
           "zerolinecolor": "white",
           "zerolinewidth": 2
          },
          "yaxis": {
           "automargin": true,
           "gridcolor": "white",
           "linecolor": "white",
           "ticks": "",
           "title": {
            "standoff": 15
           },
           "zerolinecolor": "white",
           "zerolinewidth": 2
          }
         }
        },
        "title": {
         "font": {
          "color": "black",
          "family": "Times New Roman",
          "size": 22
         },
         "text": "New Certified Facilities Allocation in U.S. (By Number)",
         "x": 0.45
        },
        "updatemenus": [
         {
          "buttons": [
           {
            "args": [
             null,
             {
              "frame": {
               "duration": 500,
               "redraw": true
              },
              "fromcurrent": true,
              "mode": "immediate",
              "transition": {
               "duration": 500,
               "easing": "linear"
              }
             }
            ],
            "label": "&#9654;",
            "method": "animate"
           },
           {
            "args": [
             [
              null
             ],
             {
              "frame": {
               "duration": 0,
               "redraw": true
              },
              "fromcurrent": true,
              "mode": "immediate",
              "transition": {
               "duration": 0,
               "easing": "linear"
              }
             }
            ],
            "label": "&#9724;",
            "method": "animate"
           }
          ],
          "direction": "left",
          "pad": {
           "r": 10,
           "t": 70
          },
          "showactive": false,
          "type": "buttons",
          "x": 0.1,
          "xanchor": "right",
          "y": 0,
          "yanchor": "top"
         }
        ]
       }
      },
      "text/html": [
       "<div>                            <div id=\"8700dde1-ff61-49b8-be64-d023acbf2f26\" class=\"plotly-graph-div\" style=\"height:525px; width:100%;\"></div>            <script type=\"text/javascript\">                require([\"plotly\"], function(Plotly) {                    window.PLOTLYENV=window.PLOTLYENV || {};                                    if (document.getElementById(\"8700dde1-ff61-49b8-be64-d023acbf2f26\")) {                    Plotly.newPlot(                        \"8700dde1-ff61-49b8-be64-d023acbf2f26\",                        [{\"coloraxis\":\"coloraxis\",\"geo\":\"geo\",\"hovertemplate\":\"total_NCF=1000<br>state_code=%{location}<br>NCF=%{z}<extra></extra>\",\"locationmode\":\"USA-states\",\"locations\":[\"AL\",\"AK\",\"AZ\",\"AR\",\"CA\",\"CO\",\"CT\",\"DE\",\"DC\",\"FL\",\"GA\",\"HI\",\"ID\",\"IL\",\"IN\",\"IA\",\"KS\",\"KY\",\"LA\",\"ME\",\"MD\",\"MA\",\"MI\",\"MN\",\"MS\",\"MO\",\"MT\",\"NE\",\"NV\",\"NH\",\"NJ\",\"NM\",\"NY\",\"NC\",\"ND\",\"OH\",\"OK\",\"OR\",\"PA\",\"RI\",\"SC\",\"SD\",\"TN\",\"TX\",\"UT\",\"VT\",\"VA\",\"WA\",\"WV\",\"WI\",\"WY\"],\"name\":\"\",\"z\":[10.13348422,-15.58500105,43.45622526,7.847599604,321.7938198,17.4888793,-1.31096062,1.833424263,1.39746097,90.79991887,20.01253453,6.006247223,-0.018688661,35.98619412,15.097814,-52.70388062,-27.15753531,-10.27719001,-10.22509298,-1.334086347,49.62116592,56.37117268,35.45166787,-48.80322181,-10.86706718,25.71081564,-14.40724484,-39.54052099,17.86987453,0.106404819,26.28242781,16.75404751,42.78547444,46.70333703,-28.14059989,24.30546338,-4.613568359,19.78427076,63.86112207,-0.872679167,52.01339174,-23.13900594,12.91950946,164.0597388,5.683098079,5.583417659,44.46831154,65.61101827,-4.773282034,-40.36549385,-13.66421255],\"type\":\"choropleth\"}],                        {\"template\":{\"data\":{\"histogram2dcontour\":[{\"type\":\"histogram2dcontour\",\"colorbar\":{\"outlinewidth\":0,\"ticks\":\"\"},\"colorscale\":[[0.0,\"#0d0887\"],[0.1111111111111111,\"#46039f\"],[0.2222222222222222,\"#7201a8\"],[0.3333333333333333,\"#9c179e\"],[0.4444444444444444,\"#bd3786\"],[0.5555555555555556,\"#d8576b\"],[0.6666666666666666,\"#ed7953\"],[0.7777777777777778,\"#fb9f3a\"],[0.8888888888888888,\"#fdca26\"],[1.0,\"#f0f921\"]]}],\"choropleth\":[{\"type\":\"choropleth\",\"colorbar\":{\"outlinewidth\":0,\"ticks\":\"\"}}],\"histogram2d\":[{\"type\":\"histogram2d\",\"colorbar\":{\"outlinewidth\":0,\"ticks\":\"\"},\"colorscale\":[[0.0,\"#0d0887\"],[0.1111111111111111,\"#46039f\"],[0.2222222222222222,\"#7201a8\"],[0.3333333333333333,\"#9c179e\"],[0.4444444444444444,\"#bd3786\"],[0.5555555555555556,\"#d8576b\"],[0.6666666666666666,\"#ed7953\"],[0.7777777777777778,\"#fb9f3a\"],[0.8888888888888888,\"#fdca26\"],[1.0,\"#f0f921\"]]}],\"heatmap\":[{\"type\":\"heatmap\",\"colorbar\":{\"outlinewidth\":0,\"ticks\":\"\"},\"colorscale\":[[0.0,\"#0d0887\"],[0.1111111111111111,\"#46039f\"],[0.2222222222222222,\"#7201a8\"],[0.3333333333333333,\"#9c179e\"],[0.4444444444444444,\"#bd3786\"],[0.5555555555555556,\"#d8576b\"],[0.6666666666666666,\"#ed7953\"],[0.7777777777777778,\"#fb9f3a\"],[0.8888888888888888,\"#fdca26\"],[1.0,\"#f0f921\"]]}],\"heatmapgl\":[{\"type\":\"heatmapgl\",\"colorbar\":{\"outlinewidth\":0,\"ticks\":\"\"},\"colorscale\":[[0.0,\"#0d0887\"],[0.1111111111111111,\"#46039f\"],[0.2222222222222222,\"#7201a8\"],[0.3333333333333333,\"#9c179e\"],[0.4444444444444444,\"#bd3786\"],[0.5555555555555556,\"#d8576b\"],[0.6666666666666666,\"#ed7953\"],[0.7777777777777778,\"#fb9f3a\"],[0.8888888888888888,\"#fdca26\"],[1.0,\"#f0f921\"]]}],\"contourcarpet\":[{\"type\":\"contourcarpet\",\"colorbar\":{\"outlinewidth\":0,\"ticks\":\"\"}}],\"contour\":[{\"type\":\"contour\",\"colorbar\":{\"outlinewidth\":0,\"ticks\":\"\"},\"colorscale\":[[0.0,\"#0d0887\"],[0.1111111111111111,\"#46039f\"],[0.2222222222222222,\"#7201a8\"],[0.3333333333333333,\"#9c179e\"],[0.4444444444444444,\"#bd3786\"],[0.5555555555555556,\"#d8576b\"],[0.6666666666666666,\"#ed7953\"],[0.7777777777777778,\"#fb9f3a\"],[0.8888888888888888,\"#fdca26\"],[1.0,\"#f0f921\"]]}],\"surface\":[{\"type\":\"surface\",\"colorbar\":{\"outlinewidth\":0,\"ticks\":\"\"},\"colorscale\":[[0.0,\"#0d0887\"],[0.1111111111111111,\"#46039f\"],[0.2222222222222222,\"#7201a8\"],[0.3333333333333333,\"#9c179e\"],[0.4444444444444444,\"#bd3786\"],[0.5555555555555556,\"#d8576b\"],[0.6666666666666666,\"#ed7953\"],[0.7777777777777778,\"#fb9f3a\"],[0.8888888888888888,\"#fdca26\"],[1.0,\"#f0f921\"]]}],\"mesh3d\":[{\"type\":\"mesh3d\",\"colorbar\":{\"outlinewidth\":0,\"ticks\":\"\"}}],\"scatter\":[{\"fillpattern\":{\"fillmode\":\"overlay\",\"size\":10,\"solidity\":0.2},\"type\":\"scatter\"}],\"parcoords\":[{\"type\":\"parcoords\",\"line\":{\"colorbar\":{\"outlinewidth\":0,\"ticks\":\"\"}}}],\"scatterpolargl\":[{\"type\":\"scatterpolargl\",\"marker\":{\"colorbar\":{\"outlinewidth\":0,\"ticks\":\"\"}}}],\"bar\":[{\"error_x\":{\"color\":\"#2a3f5f\"},\"error_y\":{\"color\":\"#2a3f5f\"},\"marker\":{\"line\":{\"color\":\"#E5ECF6\",\"width\":0.5},\"pattern\":{\"fillmode\":\"overlay\",\"size\":10,\"solidity\":0.2}},\"type\":\"bar\"}],\"scattergeo\":[{\"type\":\"scattergeo\",\"marker\":{\"colorbar\":{\"outlinewidth\":0,\"ticks\":\"\"}}}],\"scatterpolar\":[{\"type\":\"scatterpolar\",\"marker\":{\"colorbar\":{\"outlinewidth\":0,\"ticks\":\"\"}}}],\"histogram\":[{\"marker\":{\"pattern\":{\"fillmode\":\"overlay\",\"size\":10,\"solidity\":0.2}},\"type\":\"histogram\"}],\"scattergl\":[{\"type\":\"scattergl\",\"marker\":{\"colorbar\":{\"outlinewidth\":0,\"ticks\":\"\"}}}],\"scatter3d\":[{\"type\":\"scatter3d\",\"line\":{\"colorbar\":{\"outlinewidth\":0,\"ticks\":\"\"}},\"marker\":{\"colorbar\":{\"outlinewidth\":0,\"ticks\":\"\"}}}],\"scattermapbox\":[{\"type\":\"scattermapbox\",\"marker\":{\"colorbar\":{\"outlinewidth\":0,\"ticks\":\"\"}}}],\"scatterternary\":[{\"type\":\"scatterternary\",\"marker\":{\"colorbar\":{\"outlinewidth\":0,\"ticks\":\"\"}}}],\"scattercarpet\":[{\"type\":\"scattercarpet\",\"marker\":{\"colorbar\":{\"outlinewidth\":0,\"ticks\":\"\"}}}],\"carpet\":[{\"aaxis\":{\"endlinecolor\":\"#2a3f5f\",\"gridcolor\":\"white\",\"linecolor\":\"white\",\"minorgridcolor\":\"white\",\"startlinecolor\":\"#2a3f5f\"},\"baxis\":{\"endlinecolor\":\"#2a3f5f\",\"gridcolor\":\"white\",\"linecolor\":\"white\",\"minorgridcolor\":\"white\",\"startlinecolor\":\"#2a3f5f\"},\"type\":\"carpet\"}],\"table\":[{\"cells\":{\"fill\":{\"color\":\"#EBF0F8\"},\"line\":{\"color\":\"white\"}},\"header\":{\"fill\":{\"color\":\"#C8D4E3\"},\"line\":{\"color\":\"white\"}},\"type\":\"table\"}],\"barpolar\":[{\"marker\":{\"line\":{\"color\":\"#E5ECF6\",\"width\":0.5},\"pattern\":{\"fillmode\":\"overlay\",\"size\":10,\"solidity\":0.2}},\"type\":\"barpolar\"}],\"pie\":[{\"automargin\":true,\"type\":\"pie\"}]},\"layout\":{\"autotypenumbers\":\"strict\",\"colorway\":[\"#636efa\",\"#EF553B\",\"#00cc96\",\"#ab63fa\",\"#FFA15A\",\"#19d3f3\",\"#FF6692\",\"#B6E880\",\"#FF97FF\",\"#FECB52\"],\"font\":{\"color\":\"#2a3f5f\"},\"hovermode\":\"closest\",\"hoverlabel\":{\"align\":\"left\"},\"paper_bgcolor\":\"white\",\"plot_bgcolor\":\"#E5ECF6\",\"polar\":{\"bgcolor\":\"#E5ECF6\",\"angularaxis\":{\"gridcolor\":\"white\",\"linecolor\":\"white\",\"ticks\":\"\"},\"radialaxis\":{\"gridcolor\":\"white\",\"linecolor\":\"white\",\"ticks\":\"\"}},\"ternary\":{\"bgcolor\":\"#E5ECF6\",\"aaxis\":{\"gridcolor\":\"white\",\"linecolor\":\"white\",\"ticks\":\"\"},\"baxis\":{\"gridcolor\":\"white\",\"linecolor\":\"white\",\"ticks\":\"\"},\"caxis\":{\"gridcolor\":\"white\",\"linecolor\":\"white\",\"ticks\":\"\"}},\"coloraxis\":{\"colorbar\":{\"outlinewidth\":0,\"ticks\":\"\"}},\"colorscale\":{\"sequential\":[[0.0,\"#0d0887\"],[0.1111111111111111,\"#46039f\"],[0.2222222222222222,\"#7201a8\"],[0.3333333333333333,\"#9c179e\"],[0.4444444444444444,\"#bd3786\"],[0.5555555555555556,\"#d8576b\"],[0.6666666666666666,\"#ed7953\"],[0.7777777777777778,\"#fb9f3a\"],[0.8888888888888888,\"#fdca26\"],[1.0,\"#f0f921\"]],\"sequentialminus\":[[0.0,\"#0d0887\"],[0.1111111111111111,\"#46039f\"],[0.2222222222222222,\"#7201a8\"],[0.3333333333333333,\"#9c179e\"],[0.4444444444444444,\"#bd3786\"],[0.5555555555555556,\"#d8576b\"],[0.6666666666666666,\"#ed7953\"],[0.7777777777777778,\"#fb9f3a\"],[0.8888888888888888,\"#fdca26\"],[1.0,\"#f0f921\"]],\"diverging\":[[0,\"#8e0152\"],[0.1,\"#c51b7d\"],[0.2,\"#de77ae\"],[0.3,\"#f1b6da\"],[0.4,\"#fde0ef\"],[0.5,\"#f7f7f7\"],[0.6,\"#e6f5d0\"],[0.7,\"#b8e186\"],[0.8,\"#7fbc41\"],[0.9,\"#4d9221\"],[1,\"#276419\"]]},\"xaxis\":{\"gridcolor\":\"white\",\"linecolor\":\"white\",\"ticks\":\"\",\"title\":{\"standoff\":15},\"zerolinecolor\":\"white\",\"automargin\":true,\"zerolinewidth\":2},\"yaxis\":{\"gridcolor\":\"white\",\"linecolor\":\"white\",\"ticks\":\"\",\"title\":{\"standoff\":15},\"zerolinecolor\":\"white\",\"automargin\":true,\"zerolinewidth\":2},\"scene\":{\"xaxis\":{\"backgroundcolor\":\"#E5ECF6\",\"gridcolor\":\"white\",\"linecolor\":\"white\",\"showbackground\":true,\"ticks\":\"\",\"zerolinecolor\":\"white\",\"gridwidth\":2},\"yaxis\":{\"backgroundcolor\":\"#E5ECF6\",\"gridcolor\":\"white\",\"linecolor\":\"white\",\"showbackground\":true,\"ticks\":\"\",\"zerolinecolor\":\"white\",\"gridwidth\":2},\"zaxis\":{\"backgroundcolor\":\"#E5ECF6\",\"gridcolor\":\"white\",\"linecolor\":\"white\",\"showbackground\":true,\"ticks\":\"\",\"zerolinecolor\":\"white\",\"gridwidth\":2}},\"shapedefaults\":{\"line\":{\"color\":\"#2a3f5f\"}},\"annotationdefaults\":{\"arrowcolor\":\"#2a3f5f\",\"arrowhead\":0,\"arrowwidth\":1},\"geo\":{\"bgcolor\":\"white\",\"landcolor\":\"#E5ECF6\",\"subunitcolor\":\"white\",\"showland\":true,\"showlakes\":true,\"lakecolor\":\"white\"},\"title\":{\"x\":0.05},\"mapbox\":{\"style\":\"light\"}}},\"geo\":{\"domain\":{\"x\":[0.0,1.0],\"y\":[0.0,1.0]},\"center\":{},\"scope\":\"usa\"},\"coloraxis\":{\"colorbar\":{\"title\":{\"text\":\"NCF\"}},\"colorscale\":[[0.0,\"rgb(253, 224, 197)\"],[0.16666666666666666,\"rgb(250, 203, 166)\"],[0.3333333333333333,\"rgb(248, 181, 139)\"],[0.5,\"rgb(245, 158, 114)\"],[0.6666666666666666,\"rgb(242, 133, 93)\"],[0.8333333333333334,\"rgb(239, 106, 76)\"],[1.0,\"rgb(235, 74, 64)\"]],\"cmin\":-20,\"cmax\":200},\"legend\":{\"tracegroupgap\":0},\"margin\":{\"t\":60},\"updatemenus\":[{\"buttons\":[{\"args\":[null,{\"frame\":{\"duration\":500,\"redraw\":true},\"mode\":\"immediate\",\"fromcurrent\":true,\"transition\":{\"duration\":500,\"easing\":\"linear\"}}],\"label\":\"&#9654;\",\"method\":\"animate\"},{\"args\":[[null],{\"frame\":{\"duration\":0,\"redraw\":true},\"mode\":\"immediate\",\"fromcurrent\":true,\"transition\":{\"duration\":0,\"easing\":\"linear\"}}],\"label\":\"&#9724;\",\"method\":\"animate\"}],\"direction\":\"left\",\"pad\":{\"r\":10,\"t\":70},\"showactive\":false,\"type\":\"buttons\",\"x\":0.1,\"xanchor\":\"right\",\"y\":0,\"yanchor\":\"top\"}],\"sliders\":[{\"active\":0,\"currentvalue\":{\"prefix\":\"total_NCF=\"},\"len\":0.9,\"pad\":{\"b\":10,\"t\":60},\"steps\":[{\"args\":[[\"1000\"],{\"frame\":{\"duration\":0,\"redraw\":true},\"mode\":\"immediate\",\"fromcurrent\":true,\"transition\":{\"duration\":0,\"easing\":\"linear\"}}],\"label\":\"1000\",\"method\":\"animate\"},{\"args\":[[\"2000\"],{\"frame\":{\"duration\":0,\"redraw\":true},\"mode\":\"immediate\",\"fromcurrent\":true,\"transition\":{\"duration\":0,\"easing\":\"linear\"}}],\"label\":\"2000\",\"method\":\"animate\"},{\"args\":[[\"3000\"],{\"frame\":{\"duration\":0,\"redraw\":true},\"mode\":\"immediate\",\"fromcurrent\":true,\"transition\":{\"duration\":0,\"easing\":\"linear\"}}],\"label\":\"3000\",\"method\":\"animate\"},{\"args\":[[\"4000\"],{\"frame\":{\"duration\":0,\"redraw\":true},\"mode\":\"immediate\",\"fromcurrent\":true,\"transition\":{\"duration\":0,\"easing\":\"linear\"}}],\"label\":\"4000\",\"method\":\"animate\"},{\"args\":[[\"5000\"],{\"frame\":{\"duration\":0,\"redraw\":true},\"mode\":\"immediate\",\"fromcurrent\":true,\"transition\":{\"duration\":0,\"easing\":\"linear\"}}],\"label\":\"5000\",\"method\":\"animate\"},{\"args\":[[\"6000\"],{\"frame\":{\"duration\":0,\"redraw\":true},\"mode\":\"immediate\",\"fromcurrent\":true,\"transition\":{\"duration\":0,\"easing\":\"linear\"}}],\"label\":\"6000\",\"method\":\"animate\"},{\"args\":[[\"7000\"],{\"frame\":{\"duration\":0,\"redraw\":true},\"mode\":\"immediate\",\"fromcurrent\":true,\"transition\":{\"duration\":0,\"easing\":\"linear\"}}],\"label\":\"7000\",\"method\":\"animate\"},{\"args\":[[\"8000\"],{\"frame\":{\"duration\":0,\"redraw\":true},\"mode\":\"immediate\",\"fromcurrent\":true,\"transition\":{\"duration\":0,\"easing\":\"linear\"}}],\"label\":\"8000\",\"method\":\"animate\"},{\"args\":[[\"9000\"],{\"frame\":{\"duration\":0,\"redraw\":true},\"mode\":\"immediate\",\"fromcurrent\":true,\"transition\":{\"duration\":0,\"easing\":\"linear\"}}],\"label\":\"9000\",\"method\":\"animate\"},{\"args\":[[\"10000\"],{\"frame\":{\"duration\":0,\"redraw\":true},\"mode\":\"immediate\",\"fromcurrent\":true,\"transition\":{\"duration\":0,\"easing\":\"linear\"}}],\"label\":\"10000\",\"method\":\"animate\"}],\"x\":0.1,\"xanchor\":\"left\",\"y\":0,\"yanchor\":\"top\"}],\"title\":{\"font\":{\"family\":\"Times New Roman\",\"size\":22,\"color\":\"black\"},\"text\":\"New Certified Facilities Allocation in U.S. (By Number)\",\"x\":0.45}},                        {\"responsive\": true}                    ).then(function(){\n",
       "                            Plotly.addFrames('8700dde1-ff61-49b8-be64-d023acbf2f26', [{\"data\":[{\"coloraxis\":\"coloraxis\",\"geo\":\"geo\",\"hovertemplate\":\"total_NCF=1000<br>state_code=%{location}<br>NCF=%{z}<extra></extra>\",\"locationmode\":\"USA-states\",\"locations\":[\"AL\",\"AK\",\"AZ\",\"AR\",\"CA\",\"CO\",\"CT\",\"DE\",\"DC\",\"FL\",\"GA\",\"HI\",\"ID\",\"IL\",\"IN\",\"IA\",\"KS\",\"KY\",\"LA\",\"ME\",\"MD\",\"MA\",\"MI\",\"MN\",\"MS\",\"MO\",\"MT\",\"NE\",\"NV\",\"NH\",\"NJ\",\"NM\",\"NY\",\"NC\",\"ND\",\"OH\",\"OK\",\"OR\",\"PA\",\"RI\",\"SC\",\"SD\",\"TN\",\"TX\",\"UT\",\"VT\",\"VA\",\"WA\",\"WV\",\"WI\",\"WY\"],\"name\":\"\",\"z\":[10.13348422,-15.58500105,43.45622526,7.847599604,321.7938198,17.4888793,-1.31096062,1.833424263,1.39746097,90.79991887,20.01253453,6.006247223,-0.018688661,35.98619412,15.097814,-52.70388062,-27.15753531,-10.27719001,-10.22509298,-1.334086347,49.62116592,56.37117268,35.45166787,-48.80322181,-10.86706718,25.71081564,-14.40724484,-39.54052099,17.86987453,0.106404819,26.28242781,16.75404751,42.78547444,46.70333703,-28.14059989,24.30546338,-4.613568359,19.78427076,63.86112207,-0.872679167,52.01339174,-23.13900594,12.91950946,164.0597388,5.683098079,5.583417659,44.46831154,65.61101827,-4.773282034,-40.36549385,-13.66421255],\"type\":\"choropleth\"}],\"name\":\"1000\"},{\"data\":[{\"coloraxis\":\"coloraxis\",\"geo\":\"geo\",\"hovertemplate\":\"total_NCF=2000<br>state_code=%{location}<br>NCF=%{z}<extra></extra>\",\"locationmode\":\"USA-states\",\"locations\":[\"AL\",\"AK\",\"AZ\",\"AR\",\"CA\",\"CO\",\"CT\",\"DE\",\"DC\",\"FL\",\"GA\",\"HI\",\"ID\",\"IL\",\"IN\",\"IA\",\"KS\",\"KY\",\"LA\",\"ME\",\"MD\",\"MA\",\"MI\",\"MN\",\"MS\",\"MO\",\"MT\",\"NE\",\"NV\",\"NH\",\"NJ\",\"NM\",\"NY\",\"NC\",\"ND\",\"OH\",\"OK\",\"OR\",\"PA\",\"RI\",\"SC\",\"SD\",\"TN\",\"TX\",\"UT\",\"VT\",\"VA\",\"WA\",\"WV\",\"WI\",\"WY\"],\"name\":\"\",\"z\":[25.85199532,-13.77376871,65.76056487,17.19212374,434.4088816,33.66036961,10.40916828,5.144232818,3.206869287,165.4540966,50.90307374,10.47907585,5.075571489,74.57030167,35.28479414,-43.10470024,-18.64557851,3.630538537,3.792058037,3.519362811,68.51052276,78.35465398,67.32391622,-32.03808627,-1.700875517,44.9215089,-11.01746271,-33.98051277,26.90470288,4.69365441,54.60093304,23.28072952,104.4376299,79.64180161,-26.07513966,61.46671802,6.971083917,33.07436652,106.1763714,2.572700015,68.86345849,-20.55335913,34.23199094,240.3010013,12.93043017,7.724178727,70.41405377,87.93145698,1.386543027,-22.2027787,-11.9652227],\"type\":\"choropleth\"}],\"name\":\"2000\"},{\"data\":[{\"coloraxis\":\"coloraxis\",\"geo\":\"geo\",\"hovertemplate\":\"total_NCF=3000<br>state_code=%{location}<br>NCF=%{z}<extra></extra>\",\"locationmode\":\"USA-states\",\"locations\":[\"AL\",\"AK\",\"AZ\",\"AR\",\"CA\",\"CO\",\"CT\",\"DE\",\"DC\",\"FL\",\"GA\",\"HI\",\"ID\",\"IL\",\"IN\",\"IA\",\"KS\",\"KY\",\"LA\",\"ME\",\"MD\",\"MA\",\"MI\",\"MN\",\"MS\",\"MO\",\"MT\",\"NE\",\"NV\",\"NH\",\"NJ\",\"NM\",\"NY\",\"NC\",\"ND\",\"OH\",\"OK\",\"OR\",\"PA\",\"RI\",\"SC\",\"SD\",\"TN\",\"TX\",\"UT\",\"VT\",\"VA\",\"WA\",\"WV\",\"WI\",\"WY\"],\"name\":\"\",\"z\":[41.57050641,-11.96253637,88.06490447,26.53664788,547.0239435,49.83185992,22.12929718,8.455041374,5.016277604,240.1082743,81.79361295,14.95190447,10.16983164,113.1544092,55.47177427,-33.50551986,-10.1336217,17.53826709,17.80920905,8.372811969,87.39987959,100.3381353,99.19616457,-15.27295073,7.465316144,64.13220215,-7.627680585,-28.42050455,35.93953122,9.280904001,82.91943828,29.80741153,166.0897853,112.5802662,-24.00967943,98.62797266,18.55573619,46.36446228,148.4916207,6.018079197,85.71352523,-17.96771232,55.54447242,316.5422638,20.17776227,9.864939794,96.359796,110.2518957,7.546368089,-4.04006355,-10.26623284],\"type\":\"choropleth\"}],\"name\":\"3000\"},{\"data\":[{\"coloraxis\":\"coloraxis\",\"geo\":\"geo\",\"hovertemplate\":\"total_NCF=4000<br>state_code=%{location}<br>NCF=%{z}<extra></extra>\",\"locationmode\":\"USA-states\",\"locations\":[\"AL\",\"AK\",\"AZ\",\"AR\",\"CA\",\"CO\",\"CT\",\"DE\",\"DC\",\"FL\",\"GA\",\"HI\",\"ID\",\"IL\",\"IN\",\"IA\",\"KS\",\"KY\",\"LA\",\"ME\",\"MD\",\"MA\",\"MI\",\"MN\",\"MS\",\"MO\",\"MT\",\"NE\",\"NV\",\"NH\",\"NJ\",\"NM\",\"NY\",\"NC\",\"ND\",\"OH\",\"OK\",\"OR\",\"PA\",\"RI\",\"SC\",\"SD\",\"TN\",\"TX\",\"UT\",\"VT\",\"VA\",\"WA\",\"WV\",\"WI\",\"WY\"],\"name\":\"\",\"z\":[57.28901751,-10.15130403,110.3692441,35.88117202,659.6390053,66.00335023,33.84942608,11.76584993,6.825685922,314.7624521,112.6841522,19.4247331,15.26409179,151.7385168,75.65875441,-23.90633947,-1.621664897,31.44599563,31.82636007,13.22626113,106.2892364,122.3216166,131.0684129,1.492184808,16.63150781,83.34289541,-4.237898457,-22.86049633,44.97435956,13.86815359,111.2379435,36.33409354,227.7419407,145.5187308,-21.9442192,135.7892273,30.14038847,59.65455805,190.80687,9.463458379,102.563592,-15.38206551,76.85695391,392.7835263,27.42509436,12.00570086,122.3055382,132.5723344,13.70619315,14.1226516,-8.567242987],\"type\":\"choropleth\"}],\"name\":\"4000\"},{\"data\":[{\"coloraxis\":\"coloraxis\",\"geo\":\"geo\",\"hovertemplate\":\"total_NCF=5000<br>state_code=%{location}<br>NCF=%{z}<extra></extra>\",\"locationmode\":\"USA-states\",\"locations\":[\"AL\",\"AK\",\"AZ\",\"AR\",\"CA\",\"CO\",\"CT\",\"DE\",\"DC\",\"FL\",\"GA\",\"HI\",\"ID\",\"IL\",\"IN\",\"IA\",\"KS\",\"KY\",\"LA\",\"ME\",\"MD\",\"MA\",\"MI\",\"MN\",\"MS\",\"MO\",\"MT\",\"NE\",\"NV\",\"NH\",\"NJ\",\"NM\",\"NY\",\"NC\",\"ND\",\"OH\",\"OK\",\"OR\",\"PA\",\"RI\",\"SC\",\"SD\",\"TN\",\"TX\",\"UT\",\"VT\",\"VA\",\"WA\",\"WV\",\"WI\",\"WY\"],\"name\":\"\",\"z\":[73.00752861,-8.340071686,132.6735837,45.22569616,772.2540672,82.17484053,45.56955498,15.07665849,8.635094239,389.4166298,143.5746914,23.89756172,20.35835194,190.3226243,95.84573454,-14.30715909,6.890291908,45.35372418,45.84351109,18.07971028,125.1785932,144.3050979,162.9406613,18.25732035,25.79769947,102.5535887,-0.848116329,-17.30048812,54.00918791,18.45540318,139.5564487,42.86077555,289.3940961,178.4571954,-19.87875896,172.9504819,41.72504075,72.94465381,233.1221193,12.90883756,119.4136587,-12.7964187,98.16943539,469.0247888,34.67242645,14.14646193,148.2512805,154.8927731,19.86601821,32.28536675,-6.868253133],\"type\":\"choropleth\"}],\"name\":\"5000\"},{\"data\":[{\"coloraxis\":\"coloraxis\",\"geo\":\"geo\",\"hovertemplate\":\"total_NCF=6000<br>state_code=%{location}<br>NCF=%{z}<extra></extra>\",\"locationmode\":\"USA-states\",\"locations\":[\"AL\",\"AK\",\"AZ\",\"AR\",\"CA\",\"CO\",\"CT\",\"DE\",\"DC\",\"FL\",\"GA\",\"HI\",\"ID\",\"IL\",\"IN\",\"IA\",\"KS\",\"KY\",\"LA\",\"ME\",\"MD\",\"MA\",\"MI\",\"MN\",\"MS\",\"MO\",\"MT\",\"NE\",\"NV\",\"NH\",\"NJ\",\"NM\",\"NY\",\"NC\",\"ND\",\"OH\",\"OK\",\"OR\",\"PA\",\"RI\",\"SC\",\"SD\",\"TN\",\"TX\",\"UT\",\"VT\",\"VA\",\"WA\",\"WV\",\"WI\",\"WY\"],\"name\":\"\",\"z\":[88.72603971,-6.528839346,154.9779233,54.5702203,884.8691291,98.34633084,57.28968388,18.38746704,10.44450256,464.0708075,174.4652306,28.37039034,25.45261209,228.9067319,116.0327147,-4.707978709,15.40224871,59.26145273,59.8606621,22.93315944,144.0679501,166.2885792,194.8129096,35.02245588,34.96389113,121.7642819,2.541665799,-11.7404799,63.04401625,23.04265277,167.874954,49.38745756,351.0462516,211.39566,-17.81329873,210.1117366,53.30969302,86.23474957,275.4373686,16.35421674,136.2637255,-10.21077189,119.4819169,545.2660513,41.91975855,16.28722299,174.1970227,177.2132119,26.02584327,50.4480819,-5.169263278],\"type\":\"choropleth\"}],\"name\":\"6000\"},{\"data\":[{\"coloraxis\":\"coloraxis\",\"geo\":\"geo\",\"hovertemplate\":\"total_NCF=7000<br>state_code=%{location}<br>NCF=%{z}<extra></extra>\",\"locationmode\":\"USA-states\",\"locations\":[\"AL\",\"AK\",\"AZ\",\"AR\",\"CA\",\"CO\",\"CT\",\"DE\",\"DC\",\"FL\",\"GA\",\"HI\",\"ID\",\"IL\",\"IN\",\"IA\",\"KS\",\"KY\",\"LA\",\"ME\",\"MD\",\"MA\",\"MI\",\"MN\",\"MS\",\"MO\",\"MT\",\"NE\",\"NV\",\"NH\",\"NJ\",\"NM\",\"NY\",\"NC\",\"ND\",\"OH\",\"OK\",\"OR\",\"PA\",\"RI\",\"SC\",\"SD\",\"TN\",\"TX\",\"UT\",\"VT\",\"VA\",\"WA\",\"WV\",\"WI\",\"WY\"],\"name\":\"\",\"z\":[104.4445508,-4.717607006,177.2822629,63.91474444,997.4841909,114.5178211,69.00981278,21.6982756,12.25391087,538.7249852,205.3557698,32.84321897,30.54687224,267.4908394,136.2196948,4.891201673,23.91420552,73.16918128,73.87781312,27.7866086,162.9573069,188.2720605,226.685158,51.78759142,44.13008279,140.9749752,5.931447927,-6.180471682,72.0788446,27.62990237,196.1934592,55.91413957,412.698407,244.3341246,-15.7478385,247.2729912,64.8943453,99.52484534,317.7526179,19.79959592,153.1137922,-7.625125084,140.7943984,621.5073138,49.16709064,18.42798406,200.1427649,199.5336506,32.18566833,68.61079704,-3.470273424],\"type\":\"choropleth\"}],\"name\":\"7000\"},{\"data\":[{\"coloraxis\":\"coloraxis\",\"geo\":\"geo\",\"hovertemplate\":\"total_NCF=8000<br>state_code=%{location}<br>NCF=%{z}<extra></extra>\",\"locationmode\":\"USA-states\",\"locations\":[\"AL\",\"AK\",\"AZ\",\"AR\",\"CA\",\"CO\",\"CT\",\"DE\",\"DC\",\"FL\",\"GA\",\"HI\",\"ID\",\"IL\",\"IN\",\"IA\",\"KS\",\"KY\",\"LA\",\"ME\",\"MD\",\"MA\",\"MI\",\"MN\",\"MS\",\"MO\",\"MT\",\"NE\",\"NV\",\"NH\",\"NJ\",\"NM\",\"NY\",\"NC\",\"ND\",\"OH\",\"OK\",\"OR\",\"PA\",\"RI\",\"SC\",\"SD\",\"TN\",\"TX\",\"UT\",\"VT\",\"VA\",\"WA\",\"WV\",\"WI\",\"WY\"],\"name\":\"\",\"z\":[120.1630619,-2.906374665,199.5866025,73.25926858,1110.099253,130.6893115,80.72994168,25.00908415,14.06331919,613.379163,236.246309,37.31604759,35.64113239,306.074947,156.406675,14.49038206,32.42616233,87.07690983,87.89496413,32.64005776,181.8466637,210.2555418,258.5574063,68.55272696,53.29627445,160.1856684,9.321230055,-0.620463464,81.11367294,32.21715196,224.5119644,62.44082157,474.3505624,277.2725891,-13.68237827,284.4342459,76.47899758,112.8149411,360.0678672,23.24497511,169.9638589,-5.039478276,162.1068798,697.7485763,56.41442273,20.56874513,226.0885072,221.8540893,38.3454934,86.77351219,-1.77128357],\"type\":\"choropleth\"}],\"name\":\"8000\"},{\"data\":[{\"coloraxis\":\"coloraxis\",\"geo\":\"geo\",\"hovertemplate\":\"total_NCF=9000<br>state_code=%{location}<br>NCF=%{z}<extra></extra>\",\"locationmode\":\"USA-states\",\"locations\":[\"AL\",\"AK\",\"AZ\",\"AR\",\"CA\",\"CO\",\"CT\",\"DE\",\"DC\",\"FL\",\"GA\",\"HI\",\"ID\",\"IL\",\"IN\",\"IA\",\"KS\",\"KY\",\"LA\",\"ME\",\"MD\",\"MA\",\"MI\",\"MN\",\"MS\",\"MO\",\"MT\",\"NE\",\"NV\",\"NH\",\"NJ\",\"NM\",\"NY\",\"NC\",\"ND\",\"OH\",\"OK\",\"OR\",\"PA\",\"RI\",\"SC\",\"SD\",\"TN\",\"TX\",\"UT\",\"VT\",\"VA\",\"WA\",\"WV\",\"WI\",\"WY\",\"AL\",\"AK\",\"AZ\",\"AR\",\"CA\",\"CO\",\"CT\",\"DE\",\"DC\",\"FL\",\"GA\",\"HI\",\"ID\",\"IL\",\"IN\",\"IA\",\"KS\",\"KY\",\"LA\",\"ME\",\"MD\",\"MA\",\"MI\",\"MN\",\"MS\",\"MO\",\"MT\",\"NE\",\"NV\",\"NH\",\"NJ\",\"NM\",\"NY\",\"NC\",\"ND\",\"OH\",\"OK\",\"OR\",\"PA\",\"RI\",\"SC\",\"SD\",\"TN\",\"TX\",\"UT\",\"VT\",\"VA\",\"WA\",\"WV\",\"WI\",\"WY\"],\"name\":\"\",\"z\":[135.881573,-1.095142325,221.8909421,82.60379272,1222.714315,146.8608018,92.45007058,28.31989271,15.87272751,688.0333407,267.1368482,41.78887622,40.73539254,344.6590545,176.5936551,24.08956244,40.93811913,100.9846384,101.9121152,37.49350692,200.7360206,232.2390231,290.4296547,85.3178625,62.46246611,179.3963617,12.71101218,4.939544753,90.14850129,36.80440155,252.8304697,68.96750358,536.0027179,310.2110537,-11.61691804,321.5955005,88.06364985,126.1050369,402.3831165,26.69035429,186.8139257,-2.453831467,183.4193613,773.9898388,63.66175483,22.7095062,252.0342494,244.174528,44.50531846,104.9362273,-0.072293715,135.881573,-1.095142325,221.8909421,82.60379272,1222.714315,146.8608018,92.45007058,28.31989271,15.87272751,688.0333407,267.1368482,41.78887622,40.73539254,344.6590545,176.5936551,24.08956244,40.93811913,100.9846384,101.9121152,37.49350692,200.7360206,232.2390231,290.4296547,85.3178625,62.46246611,179.3963617,12.71101218,4.939544753,90.14850129,36.80440155,252.8304697,68.96750358,536.0027179,310.2110537,-11.61691804,321.5955005,88.06364985,126.1050369,402.3831165,26.69035429,186.8139257,-2.453831467,183.4193613,773.9898388,63.66175483,22.7095062,252.0342494,244.174528,44.50531846,104.9362273,-0.072293715],\"type\":\"choropleth\"}],\"name\":\"9000\"},{\"data\":[{\"coloraxis\":\"coloraxis\",\"geo\":\"geo\",\"hovertemplate\":\"total_NCF=10000<br>state_code=%{location}<br>NCF=%{z}<extra></extra>\",\"locationmode\":\"USA-states\",\"locations\":[\"AL\",\"AK\",\"AZ\",\"AR\",\"CA\",\"CO\",\"CT\",\"DE\",\"DC\",\"FL\",\"GA\",\"HI\",\"ID\",\"IL\",\"IN\",\"IA\",\"KS\",\"KY\",\"LA\",\"ME\",\"MD\",\"MA\",\"MI\",\"MN\",\"MS\",\"MO\",\"MT\",\"NE\",\"NV\",\"NH\",\"NJ\",\"NM\",\"NY\",\"NC\",\"ND\",\"OH\",\"OK\",\"OR\",\"PA\",\"RI\",\"SC\",\"SD\",\"TN\",\"TX\",\"UT\",\"VT\",\"VA\",\"WA\",\"WV\",\"WI\",\"WY\"],\"name\":\"\",\"z\":[151.6000841,0.716090015,244.1952817,91.94831686,1335.329376,163.0322921,104.1701995,31.63070126,17.68213583,762.6875184,298.0273874,46.26170484,45.82965269,383.2431621,196.7806352,33.68874282,49.45007594,114.8923669,115.9292662,42.34695607,219.6253774,254.2225044,322.301903,102.082998,71.62865777,198.6070549,16.10079431,10.49955297,99.18332963,41.39165114,281.1489749,75.49418559,597.6548733,343.1495183,-9.551457814,358.7567552,99.64830213,139.3951326,444.6983658,30.13573347,203.6639924,0.131815341,204.7318428,850.2311012,70.90908692,24.85026726,277.9799916,266.4949667,50.66514352,123.0989425,1.626696139],\"type\":\"choropleth\"}],\"name\":\"10000\"}]);\n",
       "                        }).then(function(){\n",
       "                            \n",
       "var gd = document.getElementById('8700dde1-ff61-49b8-be64-d023acbf2f26');\n",
       "var x = new MutationObserver(function (mutations, observer) {{\n",
       "        var display = window.getComputedStyle(gd).display;\n",
       "        if (!display || display === 'none') {{\n",
       "            console.log([gd, 'removed!']);\n",
       "            Plotly.purge(gd);\n",
       "            observer.disconnect();\n",
       "        }}\n",
       "}});\n",
       "\n",
       "// Listen for the removal of the full notebook cells\n",
       "var notebookContainer = gd.closest('#notebook-container');\n",
       "if (notebookContainer) {{\n",
       "    x.observe(notebookContainer, {childList: true});\n",
       "}}\n",
       "\n",
       "// Listen for the clearing of the current output cell\n",
       "var outputEl = gd.closest('.output');\n",
       "if (outputEl) {{\n",
       "    x.observe(outputEl, {childList: true});\n",
       "}}\n",
       "\n",
       "                        })                };                });            </script>        </div>"
      ]
     },
     "metadata": {},
     "output_type": "display_data"
    }
   ],
   "source": [
    "fig = px.choropleth(df,\n",
    "                    locations='state_code', \n",
    "                    locationmode=\"USA-states\", \n",
    "                    color='NCF',\n",
    "                    color_continuous_scale=\"peach\", \n",
    "                    scope=\"usa\",\n",
    "                    range_color=(-20, 200),\n",
    "                    animation_frame='total_NCF') #make sure 'period_begin' is string type and sorted in ascending order\n",
    "fig.update_layout(\n",
    "      title_text = 'New Certified Facilities Allocation in U.S. (By Number)',\n",
    "      title_font_family=\"Times New Roman\",\n",
    "      title_font_size = 22,\n",
    "      title_font_color=\"black\", \n",
    "      title_x=0.45, \n",
    "         )"
   ]
  },
  {
   "cell_type": "code",
   "execution_count": 444,
   "id": "c0068071",
   "metadata": {},
   "outputs": [
    {
     "name": "stdout",
     "output_type": "stream",
     "text": [
      "The highest 5 states that receive new certified facilities(Total new certified facilities=1000)\n"
     ]
    },
    {
     "data": {
      "text/html": [
       "<div>\n",
       "<style scoped>\n",
       "    .dataframe tbody tr th:only-of-type {\n",
       "        vertical-align: middle;\n",
       "    }\n",
       "\n",
       "    .dataframe tbody tr th {\n",
       "        vertical-align: top;\n",
       "    }\n",
       "\n",
       "    .dataframe thead th {\n",
       "        text-align: right;\n",
       "    }\n",
       "</style>\n",
       "<table border=\"1\" class=\"dataframe\">\n",
       "  <thead>\n",
       "    <tr style=\"text-align: right;\">\n",
       "      <th></th>\n",
       "      <th>state_name</th>\n",
       "      <th>state_code</th>\n",
       "      <th>CF</th>\n",
       "      <th>expected_value</th>\n",
       "      <th>total_NCF</th>\n",
       "      <th>NCF</th>\n",
       "      <th>CF_percentage</th>\n",
       "    </tr>\n",
       "  </thead>\n",
       "  <tbody>\n",
       "    <tr>\n",
       "      <th>4</th>\n",
       "      <td>California</td>\n",
       "      <td>CA</td>\n",
       "      <td>761</td>\n",
       "      <td>30017.954460</td>\n",
       "      <td>1000</td>\n",
       "      <td>321.793820</td>\n",
       "      <td>32.18%</td>\n",
       "    </tr>\n",
       "    <tr>\n",
       "      <th>43</th>\n",
       "      <td>Texas</td>\n",
       "      <td>TX</td>\n",
       "      <td>569</td>\n",
       "      <td>20322.385900</td>\n",
       "      <td>1000</td>\n",
       "      <td>164.059739</td>\n",
       "      <td>16.41%</td>\n",
       "    </tr>\n",
       "    <tr>\n",
       "      <th>9</th>\n",
       "      <td>Florida</td>\n",
       "      <td>FL</td>\n",
       "      <td>627</td>\n",
       "      <td>19899.342680</td>\n",
       "      <td>1000</td>\n",
       "      <td>90.799919</td>\n",
       "      <td>9.08%</td>\n",
       "    </tr>\n",
       "    <tr>\n",
       "      <th>47</th>\n",
       "      <td>Washington</td>\n",
       "      <td>WA</td>\n",
       "      <td>149</td>\n",
       "      <td>5949.594147</td>\n",
       "      <td>1000</td>\n",
       "      <td>65.611018</td>\n",
       "      <td>6.56%</td>\n",
       "    </tr>\n",
       "    <tr>\n",
       "      <th>38</th>\n",
       "      <td>Pennsylvania</td>\n",
       "      <td>PA</td>\n",
       "      <td>343</td>\n",
       "      <td>11279.283660</td>\n",
       "      <td>1000</td>\n",
       "      <td>63.861122</td>\n",
       "      <td>6.39%</td>\n",
       "    </tr>\n",
       "  </tbody>\n",
       "</table>\n",
       "</div>"
      ],
      "text/plain": [
       "      state_name state_code   CF  expected_value  total_NCF         NCF  \\\n",
       "4     California         CA  761    30017.954460       1000  321.793820   \n",
       "43         Texas         TX  569    20322.385900       1000  164.059739   \n",
       "9        Florida         FL  627    19899.342680       1000   90.799919   \n",
       "47    Washington         WA  149     5949.594147       1000   65.611018   \n",
       "38  Pennsylvania         PA  343    11279.283660       1000   63.861122   \n",
       "\n",
       "   CF_percentage  \n",
       "4         32.18%  \n",
       "43        16.41%  \n",
       "9          9.08%  \n",
       "47         6.56%  \n",
       "38         6.39%  "
      ]
     },
     "execution_count": 444,
     "metadata": {},
     "output_type": "execute_result"
    }
   ],
   "source": [
    "df = pd.read_csv(r'/Users/benjaminmao/Desktop/Rice/Freshman Second Semester/Datathon/Final Data/1.csv')\n",
    "print(\"The highest 5 states that receive new certified facilities(Total new certified facilities=1000)\")\n",
    "df.sort_values('NCF',ascending=False).head()\n"
   ]
  },
  {
   "cell_type": "code",
   "execution_count": 421,
   "id": "fb6ad19e",
   "metadata": {},
   "outputs": [
    {
     "name": "stdout",
     "output_type": "stream",
     "text": [
      "The highest 5 states that receive new certified facilities(Total new certified facilities=2000)\n"
     ]
    },
    {
     "data": {
      "text/html": [
       "<div>\n",
       "<style scoped>\n",
       "    .dataframe tbody tr th:only-of-type {\n",
       "        vertical-align: middle;\n",
       "    }\n",
       "\n",
       "    .dataframe tbody tr th {\n",
       "        vertical-align: top;\n",
       "    }\n",
       "\n",
       "    .dataframe thead th {\n",
       "        text-align: right;\n",
       "    }\n",
       "</style>\n",
       "<table border=\"1\" class=\"dataframe\">\n",
       "  <thead>\n",
       "    <tr style=\"text-align: right;\">\n",
       "      <th></th>\n",
       "      <th>state_name</th>\n",
       "      <th>state_code</th>\n",
       "      <th>CF</th>\n",
       "      <th>expected_value</th>\n",
       "      <th>total_NCF</th>\n",
       "      <th>NCF</th>\n",
       "      <th>CF_percentage</th>\n",
       "    </tr>\n",
       "  </thead>\n",
       "  <tbody>\n",
       "    <tr>\n",
       "      <th>4</th>\n",
       "      <td>California</td>\n",
       "      <td>CA</td>\n",
       "      <td>761</td>\n",
       "      <td>30017.95446</td>\n",
       "      <td>2000</td>\n",
       "      <td>434.408882</td>\n",
       "      <td>21.72%</td>\n",
       "    </tr>\n",
       "    <tr>\n",
       "      <th>43</th>\n",
       "      <td>Texas</td>\n",
       "      <td>TX</td>\n",
       "      <td>569</td>\n",
       "      <td>20322.38590</td>\n",
       "      <td>2000</td>\n",
       "      <td>240.301001</td>\n",
       "      <td>12.02%</td>\n",
       "    </tr>\n",
       "    <tr>\n",
       "      <th>9</th>\n",
       "      <td>Florida</td>\n",
       "      <td>FL</td>\n",
       "      <td>627</td>\n",
       "      <td>19899.34268</td>\n",
       "      <td>2000</td>\n",
       "      <td>165.454097</td>\n",
       "      <td>8.27%</td>\n",
       "    </tr>\n",
       "    <tr>\n",
       "      <th>38</th>\n",
       "      <td>Pennsylvania</td>\n",
       "      <td>PA</td>\n",
       "      <td>343</td>\n",
       "      <td>11279.28366</td>\n",
       "      <td>2000</td>\n",
       "      <td>106.176371</td>\n",
       "      <td>5.31%</td>\n",
       "    </tr>\n",
       "    <tr>\n",
       "      <th>32</th>\n",
       "      <td>New York</td>\n",
       "      <td>NY</td>\n",
       "      <td>550</td>\n",
       "      <td>16433.60633</td>\n",
       "      <td>2000</td>\n",
       "      <td>104.437630</td>\n",
       "      <td>5.22%</td>\n",
       "    </tr>\n",
       "  </tbody>\n",
       "</table>\n",
       "</div>"
      ],
      "text/plain": [
       "      state_name state_code   CF  expected_value  total_NCF         NCF  \\\n",
       "4     California         CA  761     30017.95446       2000  434.408882   \n",
       "43         Texas         TX  569     20322.38590       2000  240.301001   \n",
       "9        Florida         FL  627     19899.34268       2000  165.454097   \n",
       "38  Pennsylvania         PA  343     11279.28366       2000  106.176371   \n",
       "32      New York         NY  550     16433.60633       2000  104.437630   \n",
       "\n",
       "   CF_percentage  \n",
       "4         21.72%  \n",
       "43        12.02%  \n",
       "9          8.27%  \n",
       "38         5.31%  \n",
       "32         5.22%  "
      ]
     },
     "execution_count": 421,
     "metadata": {},
     "output_type": "execute_result"
    }
   ],
   "source": [
    "df = pd.read_csv(r'/Users/benjaminmao/Desktop/Rice/Freshman Second Semester/Datathon/Final Data/2.csv')\n",
    "print(\"The highest 5 states that receive new certified facilities(Total new certified facilities=2000)\")\n",
    "df.sort_values('NCF',ascending=False).head()"
   ]
  },
  {
   "cell_type": "code",
   "execution_count": 422,
   "id": "2787ce40",
   "metadata": {},
   "outputs": [
    {
     "name": "stdout",
     "output_type": "stream",
     "text": [
      "The highest 5 states that receive new certified facilities(Total new certified facilities=3000)\n"
     ]
    },
    {
     "data": {
      "text/html": [
       "<div>\n",
       "<style scoped>\n",
       "    .dataframe tbody tr th:only-of-type {\n",
       "        vertical-align: middle;\n",
       "    }\n",
       "\n",
       "    .dataframe tbody tr th {\n",
       "        vertical-align: top;\n",
       "    }\n",
       "\n",
       "    .dataframe thead th {\n",
       "        text-align: right;\n",
       "    }\n",
       "</style>\n",
       "<table border=\"1\" class=\"dataframe\">\n",
       "  <thead>\n",
       "    <tr style=\"text-align: right;\">\n",
       "      <th></th>\n",
       "      <th>state_name</th>\n",
       "      <th>state_code</th>\n",
       "      <th>CF</th>\n",
       "      <th>expected_value</th>\n",
       "      <th>total_NCF</th>\n",
       "      <th>NCF</th>\n",
       "      <th>CF_percentage</th>\n",
       "    </tr>\n",
       "  </thead>\n",
       "  <tbody>\n",
       "    <tr>\n",
       "      <th>4</th>\n",
       "      <td>California</td>\n",
       "      <td>CA</td>\n",
       "      <td>761.0</td>\n",
       "      <td>30017.95446</td>\n",
       "      <td>3000.0</td>\n",
       "      <td>547.023943</td>\n",
       "      <td>18.23%</td>\n",
       "    </tr>\n",
       "    <tr>\n",
       "      <th>43</th>\n",
       "      <td>Texas</td>\n",
       "      <td>TX</td>\n",
       "      <td>569.0</td>\n",
       "      <td>20322.38590</td>\n",
       "      <td>3000.0</td>\n",
       "      <td>316.542264</td>\n",
       "      <td>10.55%</td>\n",
       "    </tr>\n",
       "    <tr>\n",
       "      <th>9</th>\n",
       "      <td>Florida</td>\n",
       "      <td>FL</td>\n",
       "      <td>627.0</td>\n",
       "      <td>19899.34268</td>\n",
       "      <td>3000.0</td>\n",
       "      <td>240.108274</td>\n",
       "      <td>8.00%</td>\n",
       "    </tr>\n",
       "    <tr>\n",
       "      <th>32</th>\n",
       "      <td>New York</td>\n",
       "      <td>NY</td>\n",
       "      <td>550.0</td>\n",
       "      <td>16433.60633</td>\n",
       "      <td>3000.0</td>\n",
       "      <td>166.089785</td>\n",
       "      <td>5.54%</td>\n",
       "    </tr>\n",
       "    <tr>\n",
       "      <th>38</th>\n",
       "      <td>Pennsylvania</td>\n",
       "      <td>PA</td>\n",
       "      <td>343.0</td>\n",
       "      <td>11279.28366</td>\n",
       "      <td>3000.0</td>\n",
       "      <td>148.491621</td>\n",
       "      <td>4.95%</td>\n",
       "    </tr>\n",
       "  </tbody>\n",
       "</table>\n",
       "</div>"
      ],
      "text/plain": [
       "      state_name state_code     CF  expected_value  total_NCF         NCF  \\\n",
       "4     California         CA  761.0     30017.95446     3000.0  547.023943   \n",
       "43         Texas         TX  569.0     20322.38590     3000.0  316.542264   \n",
       "9        Florida         FL  627.0     19899.34268     3000.0  240.108274   \n",
       "32      New York         NY  550.0     16433.60633     3000.0  166.089785   \n",
       "38  Pennsylvania         PA  343.0     11279.28366     3000.0  148.491621   \n",
       "\n",
       "   CF_percentage  \n",
       "4         18.23%  \n",
       "43        10.55%  \n",
       "9          8.00%  \n",
       "32         5.54%  \n",
       "38         4.95%  "
      ]
     },
     "execution_count": 422,
     "metadata": {},
     "output_type": "execute_result"
    }
   ],
   "source": [
    "df = pd.read_csv(r'/Users/benjaminmao/Desktop/Rice/Freshman Second Semester/Datathon/Final Data/3.csv')\n",
    "print(\"The highest 5 states that receive new certified facilities(Total new certified facilities=3000)\")\n",
    "df.sort_values('NCF',ascending=False).head()"
   ]
  },
  {
   "cell_type": "code",
   "execution_count": 423,
   "id": "b1421f14",
   "metadata": {},
   "outputs": [
    {
     "name": "stdout",
     "output_type": "stream",
     "text": [
      "The highest 5 states that receive new certified facilities(Total new certified facilities=4000)\n"
     ]
    },
    {
     "data": {
      "text/html": [
       "<div>\n",
       "<style scoped>\n",
       "    .dataframe tbody tr th:only-of-type {\n",
       "        vertical-align: middle;\n",
       "    }\n",
       "\n",
       "    .dataframe tbody tr th {\n",
       "        vertical-align: top;\n",
       "    }\n",
       "\n",
       "    .dataframe thead th {\n",
       "        text-align: right;\n",
       "    }\n",
       "</style>\n",
       "<table border=\"1\" class=\"dataframe\">\n",
       "  <thead>\n",
       "    <tr style=\"text-align: right;\">\n",
       "      <th></th>\n",
       "      <th>state_name</th>\n",
       "      <th>state_code</th>\n",
       "      <th>CF</th>\n",
       "      <th>expected_value</th>\n",
       "      <th>total_NCF</th>\n",
       "      <th>NCF</th>\n",
       "      <th>CF_percentage</th>\n",
       "    </tr>\n",
       "  </thead>\n",
       "  <tbody>\n",
       "    <tr>\n",
       "      <th>4</th>\n",
       "      <td>California</td>\n",
       "      <td>CA</td>\n",
       "      <td>761</td>\n",
       "      <td>30017.95446</td>\n",
       "      <td>4000</td>\n",
       "      <td>659.639005</td>\n",
       "      <td>16.49%</td>\n",
       "    </tr>\n",
       "    <tr>\n",
       "      <th>43</th>\n",
       "      <td>Texas</td>\n",
       "      <td>TX</td>\n",
       "      <td>569</td>\n",
       "      <td>20322.38590</td>\n",
       "      <td>4000</td>\n",
       "      <td>392.783526</td>\n",
       "      <td>9.82%</td>\n",
       "    </tr>\n",
       "    <tr>\n",
       "      <th>9</th>\n",
       "      <td>Florida</td>\n",
       "      <td>FL</td>\n",
       "      <td>627</td>\n",
       "      <td>19899.34268</td>\n",
       "      <td>4000</td>\n",
       "      <td>314.762452</td>\n",
       "      <td>7.87%</td>\n",
       "    </tr>\n",
       "    <tr>\n",
       "      <th>32</th>\n",
       "      <td>New York</td>\n",
       "      <td>NY</td>\n",
       "      <td>550</td>\n",
       "      <td>16433.60633</td>\n",
       "      <td>4000</td>\n",
       "      <td>227.741941</td>\n",
       "      <td>5.69%</td>\n",
       "    </tr>\n",
       "    <tr>\n",
       "      <th>38</th>\n",
       "      <td>Pennsylvania</td>\n",
       "      <td>PA</td>\n",
       "      <td>343</td>\n",
       "      <td>11279.28366</td>\n",
       "      <td>4000</td>\n",
       "      <td>190.806870</td>\n",
       "      <td>4.77%</td>\n",
       "    </tr>\n",
       "  </tbody>\n",
       "</table>\n",
       "</div>"
      ],
      "text/plain": [
       "      state_name state_code   CF  expected_value  total_NCF         NCF  \\\n",
       "4     California         CA  761     30017.95446       4000  659.639005   \n",
       "43         Texas         TX  569     20322.38590       4000  392.783526   \n",
       "9        Florida         FL  627     19899.34268       4000  314.762452   \n",
       "32      New York         NY  550     16433.60633       4000  227.741941   \n",
       "38  Pennsylvania         PA  343     11279.28366       4000  190.806870   \n",
       "\n",
       "   CF_percentage  \n",
       "4         16.49%  \n",
       "43         9.82%  \n",
       "9          7.87%  \n",
       "32         5.69%  \n",
       "38         4.77%  "
      ]
     },
     "execution_count": 423,
     "metadata": {},
     "output_type": "execute_result"
    }
   ],
   "source": [
    "df = pd.read_csv(r'/Users/benjaminmao/Desktop/Rice/Freshman Second Semester/Datathon/Final Data/4.csv')\n",
    "print(\"The highest 5 states that receive new certified facilities(Total new certified facilities=4000)\")\n",
    "df.sort_values('NCF',ascending=False).head()"
   ]
  },
  {
   "cell_type": "code",
   "execution_count": 424,
   "id": "5dd11302",
   "metadata": {},
   "outputs": [
    {
     "name": "stdout",
     "output_type": "stream",
     "text": [
      "The highest 5 states that receive new certified facilities(Total new certified facilities=5000)\n"
     ]
    },
    {
     "data": {
      "text/html": [
       "<div>\n",
       "<style scoped>\n",
       "    .dataframe tbody tr th:only-of-type {\n",
       "        vertical-align: middle;\n",
       "    }\n",
       "\n",
       "    .dataframe tbody tr th {\n",
       "        vertical-align: top;\n",
       "    }\n",
       "\n",
       "    .dataframe thead th {\n",
       "        text-align: right;\n",
       "    }\n",
       "</style>\n",
       "<table border=\"1\" class=\"dataframe\">\n",
       "  <thead>\n",
       "    <tr style=\"text-align: right;\">\n",
       "      <th></th>\n",
       "      <th>state_name</th>\n",
       "      <th>state_code</th>\n",
       "      <th>CF</th>\n",
       "      <th>expected_value</th>\n",
       "      <th>total_NCF</th>\n",
       "      <th>NCF</th>\n",
       "      <th>CF_percentage</th>\n",
       "    </tr>\n",
       "  </thead>\n",
       "  <tbody>\n",
       "    <tr>\n",
       "      <th>4</th>\n",
       "      <td>California</td>\n",
       "      <td>CA</td>\n",
       "      <td>761</td>\n",
       "      <td>30017.95446</td>\n",
       "      <td>5000</td>\n",
       "      <td>772.254067</td>\n",
       "      <td>15.45%</td>\n",
       "    </tr>\n",
       "    <tr>\n",
       "      <th>43</th>\n",
       "      <td>Texas</td>\n",
       "      <td>TX</td>\n",
       "      <td>569</td>\n",
       "      <td>20322.38590</td>\n",
       "      <td>5000</td>\n",
       "      <td>469.024789</td>\n",
       "      <td>9.38%</td>\n",
       "    </tr>\n",
       "    <tr>\n",
       "      <th>9</th>\n",
       "      <td>Florida</td>\n",
       "      <td>FL</td>\n",
       "      <td>627</td>\n",
       "      <td>19899.34268</td>\n",
       "      <td>5000</td>\n",
       "      <td>389.416630</td>\n",
       "      <td>7.79%</td>\n",
       "    </tr>\n",
       "    <tr>\n",
       "      <th>32</th>\n",
       "      <td>New York</td>\n",
       "      <td>NY</td>\n",
       "      <td>550</td>\n",
       "      <td>16433.60633</td>\n",
       "      <td>5000</td>\n",
       "      <td>289.394096</td>\n",
       "      <td>5.79%</td>\n",
       "    </tr>\n",
       "    <tr>\n",
       "      <th>38</th>\n",
       "      <td>Pennsylvania</td>\n",
       "      <td>PA</td>\n",
       "      <td>343</td>\n",
       "      <td>11279.28366</td>\n",
       "      <td>5000</td>\n",
       "      <td>233.122119</td>\n",
       "      <td>4.66%</td>\n",
       "    </tr>\n",
       "  </tbody>\n",
       "</table>\n",
       "</div>"
      ],
      "text/plain": [
       "      state_name state_code   CF  expected_value  total_NCF         NCF  \\\n",
       "4     California         CA  761     30017.95446       5000  772.254067   \n",
       "43         Texas         TX  569     20322.38590       5000  469.024789   \n",
       "9        Florida         FL  627     19899.34268       5000  389.416630   \n",
       "32      New York         NY  550     16433.60633       5000  289.394096   \n",
       "38  Pennsylvania         PA  343     11279.28366       5000  233.122119   \n",
       "\n",
       "   CF_percentage  \n",
       "4         15.45%  \n",
       "43         9.38%  \n",
       "9          7.79%  \n",
       "32         5.79%  \n",
       "38         4.66%  "
      ]
     },
     "execution_count": 424,
     "metadata": {},
     "output_type": "execute_result"
    }
   ],
   "source": [
    "df = pd.read_csv(r'/Users/benjaminmao/Desktop/Rice/Freshman Second Semester/Datathon/Final Data/5.csv')\n",
    "print(\"The highest 5 states that receive new certified facilities(Total new certified facilities=5000)\")\n",
    "df.sort_values('NCF',ascending=False).head()"
   ]
  },
  {
   "cell_type": "code",
   "execution_count": 425,
   "id": "e64c7e9d",
   "metadata": {},
   "outputs": [
    {
     "name": "stdout",
     "output_type": "stream",
     "text": [
      "The highest 5 states that receive new certified facilities(Total new certified facilities=6000)\n"
     ]
    },
    {
     "data": {
      "text/html": [
       "<div>\n",
       "<style scoped>\n",
       "    .dataframe tbody tr th:only-of-type {\n",
       "        vertical-align: middle;\n",
       "    }\n",
       "\n",
       "    .dataframe tbody tr th {\n",
       "        vertical-align: top;\n",
       "    }\n",
       "\n",
       "    .dataframe thead th {\n",
       "        text-align: right;\n",
       "    }\n",
       "</style>\n",
       "<table border=\"1\" class=\"dataframe\">\n",
       "  <thead>\n",
       "    <tr style=\"text-align: right;\">\n",
       "      <th></th>\n",
       "      <th>state_name</th>\n",
       "      <th>state_code</th>\n",
       "      <th>CF</th>\n",
       "      <th>expected_value</th>\n",
       "      <th>total_NCF</th>\n",
       "      <th>NCF</th>\n",
       "      <th>CF_percentage</th>\n",
       "    </tr>\n",
       "  </thead>\n",
       "  <tbody>\n",
       "    <tr>\n",
       "      <th>4</th>\n",
       "      <td>California</td>\n",
       "      <td>CA</td>\n",
       "      <td>761.0</td>\n",
       "      <td>30017.95446</td>\n",
       "      <td>6000.0</td>\n",
       "      <td>884.869129</td>\n",
       "      <td>14.75%</td>\n",
       "    </tr>\n",
       "    <tr>\n",
       "      <th>43</th>\n",
       "      <td>Texas</td>\n",
       "      <td>TX</td>\n",
       "      <td>569.0</td>\n",
       "      <td>20322.38590</td>\n",
       "      <td>6000.0</td>\n",
       "      <td>545.266051</td>\n",
       "      <td>9.09%</td>\n",
       "    </tr>\n",
       "    <tr>\n",
       "      <th>9</th>\n",
       "      <td>Florida</td>\n",
       "      <td>FL</td>\n",
       "      <td>627.0</td>\n",
       "      <td>19899.34268</td>\n",
       "      <td>6000.0</td>\n",
       "      <td>464.070808</td>\n",
       "      <td>7.73%</td>\n",
       "    </tr>\n",
       "    <tr>\n",
       "      <th>32</th>\n",
       "      <td>New York</td>\n",
       "      <td>NY</td>\n",
       "      <td>550.0</td>\n",
       "      <td>16433.60633</td>\n",
       "      <td>6000.0</td>\n",
       "      <td>351.046252</td>\n",
       "      <td>5.85%</td>\n",
       "    </tr>\n",
       "    <tr>\n",
       "      <th>38</th>\n",
       "      <td>Pennsylvania</td>\n",
       "      <td>PA</td>\n",
       "      <td>343.0</td>\n",
       "      <td>11279.28366</td>\n",
       "      <td>6000.0</td>\n",
       "      <td>275.437369</td>\n",
       "      <td>4.59%</td>\n",
       "    </tr>\n",
       "  </tbody>\n",
       "</table>\n",
       "</div>"
      ],
      "text/plain": [
       "      state_name state_code     CF  expected_value  total_NCF         NCF  \\\n",
       "4     California         CA  761.0     30017.95446     6000.0  884.869129   \n",
       "43         Texas         TX  569.0     20322.38590     6000.0  545.266051   \n",
       "9        Florida         FL  627.0     19899.34268     6000.0  464.070808   \n",
       "32      New York         NY  550.0     16433.60633     6000.0  351.046252   \n",
       "38  Pennsylvania         PA  343.0     11279.28366     6000.0  275.437369   \n",
       "\n",
       "   CF_percentage  \n",
       "4         14.75%  \n",
       "43         9.09%  \n",
       "9          7.73%  \n",
       "32         5.85%  \n",
       "38         4.59%  "
      ]
     },
     "execution_count": 425,
     "metadata": {},
     "output_type": "execute_result"
    }
   ],
   "source": [
    "df = pd.read_csv(r'/Users/benjaminmao/Desktop/Rice/Freshman Second Semester/Datathon/Final Data/6.csv')\n",
    "print(\"The highest 5 states that receive new certified facilities(Total new certified facilities=6000)\")\n",
    "df.sort_values('NCF',ascending=False).head()"
   ]
  },
  {
   "cell_type": "code",
   "execution_count": 426,
   "id": "23eb7088",
   "metadata": {},
   "outputs": [
    {
     "name": "stdout",
     "output_type": "stream",
     "text": [
      "The highest 5 states that receive new certified facilities(Total new certified facilities=7000)\n"
     ]
    },
    {
     "data": {
      "text/html": [
       "<div>\n",
       "<style scoped>\n",
       "    .dataframe tbody tr th:only-of-type {\n",
       "        vertical-align: middle;\n",
       "    }\n",
       "\n",
       "    .dataframe tbody tr th {\n",
       "        vertical-align: top;\n",
       "    }\n",
       "\n",
       "    .dataframe thead th {\n",
       "        text-align: right;\n",
       "    }\n",
       "</style>\n",
       "<table border=\"1\" class=\"dataframe\">\n",
       "  <thead>\n",
       "    <tr style=\"text-align: right;\">\n",
       "      <th></th>\n",
       "      <th>state_name</th>\n",
       "      <th>state_code</th>\n",
       "      <th>CF</th>\n",
       "      <th>expected_value</th>\n",
       "      <th>total_NCF</th>\n",
       "      <th>NCF</th>\n",
       "      <th>CF_percentage</th>\n",
       "    </tr>\n",
       "  </thead>\n",
       "  <tbody>\n",
       "    <tr>\n",
       "      <th>4</th>\n",
       "      <td>California</td>\n",
       "      <td>CA</td>\n",
       "      <td>761</td>\n",
       "      <td>30017.95446</td>\n",
       "      <td>7000</td>\n",
       "      <td>997.484191</td>\n",
       "      <td>14.25%</td>\n",
       "    </tr>\n",
       "    <tr>\n",
       "      <th>43</th>\n",
       "      <td>Texas</td>\n",
       "      <td>TX</td>\n",
       "      <td>569</td>\n",
       "      <td>20322.38590</td>\n",
       "      <td>7000</td>\n",
       "      <td>621.507314</td>\n",
       "      <td>8.88%</td>\n",
       "    </tr>\n",
       "    <tr>\n",
       "      <th>9</th>\n",
       "      <td>Florida</td>\n",
       "      <td>FL</td>\n",
       "      <td>627</td>\n",
       "      <td>19899.34268</td>\n",
       "      <td>7000</td>\n",
       "      <td>538.724985</td>\n",
       "      <td>7.70%</td>\n",
       "    </tr>\n",
       "    <tr>\n",
       "      <th>32</th>\n",
       "      <td>New York</td>\n",
       "      <td>NY</td>\n",
       "      <td>550</td>\n",
       "      <td>16433.60633</td>\n",
       "      <td>7000</td>\n",
       "      <td>412.698407</td>\n",
       "      <td>5.90%</td>\n",
       "    </tr>\n",
       "    <tr>\n",
       "      <th>38</th>\n",
       "      <td>Pennsylvania</td>\n",
       "      <td>PA</td>\n",
       "      <td>343</td>\n",
       "      <td>11279.28366</td>\n",
       "      <td>7000</td>\n",
       "      <td>317.752618</td>\n",
       "      <td>4.54%</td>\n",
       "    </tr>\n",
       "  </tbody>\n",
       "</table>\n",
       "</div>"
      ],
      "text/plain": [
       "      state_name state_code   CF  expected_value  total_NCF         NCF  \\\n",
       "4     California         CA  761     30017.95446       7000  997.484191   \n",
       "43         Texas         TX  569     20322.38590       7000  621.507314   \n",
       "9        Florida         FL  627     19899.34268       7000  538.724985   \n",
       "32      New York         NY  550     16433.60633       7000  412.698407   \n",
       "38  Pennsylvania         PA  343     11279.28366       7000  317.752618   \n",
       "\n",
       "   CF_percentage  \n",
       "4         14.25%  \n",
       "43         8.88%  \n",
       "9          7.70%  \n",
       "32         5.90%  \n",
       "38         4.54%  "
      ]
     },
     "execution_count": 426,
     "metadata": {},
     "output_type": "execute_result"
    }
   ],
   "source": [
    "df = pd.read_csv(r'/Users/benjaminmao/Desktop/Rice/Freshman Second Semester/Datathon/Final Data/7.csv')\n",
    "print(\"The highest 5 states that receive new certified facilities(Total new certified facilities=7000)\")\n",
    "df.sort_values('NCF',ascending=False).head()"
   ]
  },
  {
   "cell_type": "code",
   "execution_count": 427,
   "id": "b2de61a0",
   "metadata": {},
   "outputs": [
    {
     "name": "stdout",
     "output_type": "stream",
     "text": [
      "The highest 5 states that receive new certified facilities(Total new certified facilities=8000)\n"
     ]
    },
    {
     "data": {
      "text/html": [
       "<div>\n",
       "<style scoped>\n",
       "    .dataframe tbody tr th:only-of-type {\n",
       "        vertical-align: middle;\n",
       "    }\n",
       "\n",
       "    .dataframe tbody tr th {\n",
       "        vertical-align: top;\n",
       "    }\n",
       "\n",
       "    .dataframe thead th {\n",
       "        text-align: right;\n",
       "    }\n",
       "</style>\n",
       "<table border=\"1\" class=\"dataframe\">\n",
       "  <thead>\n",
       "    <tr style=\"text-align: right;\">\n",
       "      <th></th>\n",
       "      <th>state_name</th>\n",
       "      <th>state_code</th>\n",
       "      <th>CF</th>\n",
       "      <th>expected_value</th>\n",
       "      <th>total_NCF</th>\n",
       "      <th>NCF</th>\n",
       "      <th>CF_percentage</th>\n",
       "    </tr>\n",
       "  </thead>\n",
       "  <tbody>\n",
       "    <tr>\n",
       "      <th>4</th>\n",
       "      <td>California</td>\n",
       "      <td>CA</td>\n",
       "      <td>761</td>\n",
       "      <td>30017.95446</td>\n",
       "      <td>8000</td>\n",
       "      <td>1110.099253</td>\n",
       "      <td>13.88%</td>\n",
       "    </tr>\n",
       "    <tr>\n",
       "      <th>43</th>\n",
       "      <td>Texas</td>\n",
       "      <td>TX</td>\n",
       "      <td>569</td>\n",
       "      <td>20322.38590</td>\n",
       "      <td>8000</td>\n",
       "      <td>697.748576</td>\n",
       "      <td>8.72%</td>\n",
       "    </tr>\n",
       "    <tr>\n",
       "      <th>9</th>\n",
       "      <td>Florida</td>\n",
       "      <td>FL</td>\n",
       "      <td>627</td>\n",
       "      <td>19899.34268</td>\n",
       "      <td>8000</td>\n",
       "      <td>613.379163</td>\n",
       "      <td>7.67%</td>\n",
       "    </tr>\n",
       "    <tr>\n",
       "      <th>32</th>\n",
       "      <td>New York</td>\n",
       "      <td>NY</td>\n",
       "      <td>550</td>\n",
       "      <td>16433.60633</td>\n",
       "      <td>8000</td>\n",
       "      <td>474.350562</td>\n",
       "      <td>5.93%</td>\n",
       "    </tr>\n",
       "    <tr>\n",
       "      <th>38</th>\n",
       "      <td>Pennsylvania</td>\n",
       "      <td>PA</td>\n",
       "      <td>343</td>\n",
       "      <td>11279.28366</td>\n",
       "      <td>8000</td>\n",
       "      <td>360.067867</td>\n",
       "      <td>4.50%</td>\n",
       "    </tr>\n",
       "  </tbody>\n",
       "</table>\n",
       "</div>"
      ],
      "text/plain": [
       "      state_name state_code   CF  expected_value  total_NCF          NCF  \\\n",
       "4     California         CA  761     30017.95446       8000  1110.099253   \n",
       "43         Texas         TX  569     20322.38590       8000   697.748576   \n",
       "9        Florida         FL  627     19899.34268       8000   613.379163   \n",
       "32      New York         NY  550     16433.60633       8000   474.350562   \n",
       "38  Pennsylvania         PA  343     11279.28366       8000   360.067867   \n",
       "\n",
       "   CF_percentage  \n",
       "4         13.88%  \n",
       "43         8.72%  \n",
       "9          7.67%  \n",
       "32         5.93%  \n",
       "38         4.50%  "
      ]
     },
     "execution_count": 427,
     "metadata": {},
     "output_type": "execute_result"
    }
   ],
   "source": [
    "df = pd.read_csv(r'/Users/benjaminmao/Desktop/Rice/Freshman Second Semester/Datathon/Final Data/8.csv')\n",
    "print(\"The highest 5 states that receive new certified facilities(Total new certified facilities=8000)\")\n",
    "df.sort_values('NCF',ascending=False).head()"
   ]
  },
  {
   "cell_type": "code",
   "execution_count": 428,
   "id": "9d56ed98",
   "metadata": {},
   "outputs": [
    {
     "name": "stdout",
     "output_type": "stream",
     "text": [
      "The highest 5 states that receive new certified facilities(Total new certified facilities=9000)\n"
     ]
    },
    {
     "data": {
      "text/html": [
       "<div>\n",
       "<style scoped>\n",
       "    .dataframe tbody tr th:only-of-type {\n",
       "        vertical-align: middle;\n",
       "    }\n",
       "\n",
       "    .dataframe tbody tr th {\n",
       "        vertical-align: top;\n",
       "    }\n",
       "\n",
       "    .dataframe thead th {\n",
       "        text-align: right;\n",
       "    }\n",
       "</style>\n",
       "<table border=\"1\" class=\"dataframe\">\n",
       "  <thead>\n",
       "    <tr style=\"text-align: right;\">\n",
       "      <th></th>\n",
       "      <th>state_name</th>\n",
       "      <th>state_code</th>\n",
       "      <th>CF</th>\n",
       "      <th>expected_value</th>\n",
       "      <th>total_NCF</th>\n",
       "      <th>NCF</th>\n",
       "      <th>CF_percentage</th>\n",
       "    </tr>\n",
       "  </thead>\n",
       "  <tbody>\n",
       "    <tr>\n",
       "      <th>4</th>\n",
       "      <td>California</td>\n",
       "      <td>CA</td>\n",
       "      <td>761</td>\n",
       "      <td>30017.95446</td>\n",
       "      <td>9000</td>\n",
       "      <td>1222.714315</td>\n",
       "      <td>13.59%</td>\n",
       "    </tr>\n",
       "    <tr>\n",
       "      <th>55</th>\n",
       "      <td>California</td>\n",
       "      <td>CA</td>\n",
       "      <td>761</td>\n",
       "      <td>30017.95446</td>\n",
       "      <td>9000</td>\n",
       "      <td>1222.714315</td>\n",
       "      <td>13.59%</td>\n",
       "    </tr>\n",
       "    <tr>\n",
       "      <th>94</th>\n",
       "      <td>Texas</td>\n",
       "      <td>TX</td>\n",
       "      <td>569</td>\n",
       "      <td>20322.38590</td>\n",
       "      <td>9000</td>\n",
       "      <td>773.989839</td>\n",
       "      <td>8.60%</td>\n",
       "    </tr>\n",
       "    <tr>\n",
       "      <th>43</th>\n",
       "      <td>Texas</td>\n",
       "      <td>TX</td>\n",
       "      <td>569</td>\n",
       "      <td>20322.38590</td>\n",
       "      <td>9000</td>\n",
       "      <td>773.989839</td>\n",
       "      <td>8.60%</td>\n",
       "    </tr>\n",
       "    <tr>\n",
       "      <th>60</th>\n",
       "      <td>Florida</td>\n",
       "      <td>FL</td>\n",
       "      <td>627</td>\n",
       "      <td>19899.34268</td>\n",
       "      <td>9000</td>\n",
       "      <td>688.033341</td>\n",
       "      <td>7.64%</td>\n",
       "    </tr>\n",
       "  </tbody>\n",
       "</table>\n",
       "</div>"
      ],
      "text/plain": [
       "    state_name state_code   CF  expected_value  total_NCF          NCF  \\\n",
       "4   California         CA  761     30017.95446       9000  1222.714315   \n",
       "55  California         CA  761     30017.95446       9000  1222.714315   \n",
       "94       Texas         TX  569     20322.38590       9000   773.989839   \n",
       "43       Texas         TX  569     20322.38590       9000   773.989839   \n",
       "60     Florida         FL  627     19899.34268       9000   688.033341   \n",
       "\n",
       "   CF_percentage  \n",
       "4         13.59%  \n",
       "55        13.59%  \n",
       "94         8.60%  \n",
       "43         8.60%  \n",
       "60         7.64%  "
      ]
     },
     "execution_count": 428,
     "metadata": {},
     "output_type": "execute_result"
    }
   ],
   "source": [
    "df = pd.read_csv(r'/Users/benjaminmao/Desktop/Rice/Freshman Second Semester/Datathon/Final Data/9.csv')\n",
    "print(\"The highest 5 states that receive new certified facilities(Total new certified facilities=9000)\")\n",
    "df.sort_values('NCF',ascending=False).head()"
   ]
  },
  {
   "cell_type": "code",
   "execution_count": 429,
   "id": "e4c51047",
   "metadata": {},
   "outputs": [
    {
     "name": "stdout",
     "output_type": "stream",
     "text": [
      "The highest 5 states that receive new certified facilities(Total new certified facilities=10000)\n"
     ]
    },
    {
     "data": {
      "text/html": [
       "<div>\n",
       "<style scoped>\n",
       "    .dataframe tbody tr th:only-of-type {\n",
       "        vertical-align: middle;\n",
       "    }\n",
       "\n",
       "    .dataframe tbody tr th {\n",
       "        vertical-align: top;\n",
       "    }\n",
       "\n",
       "    .dataframe thead th {\n",
       "        text-align: right;\n",
       "    }\n",
       "</style>\n",
       "<table border=\"1\" class=\"dataframe\">\n",
       "  <thead>\n",
       "    <tr style=\"text-align: right;\">\n",
       "      <th></th>\n",
       "      <th>state_name</th>\n",
       "      <th>state_code</th>\n",
       "      <th>CF</th>\n",
       "      <th>expected_value</th>\n",
       "      <th>total_NCF</th>\n",
       "      <th>NCF</th>\n",
       "      <th>CF_percentage</th>\n",
       "    </tr>\n",
       "  </thead>\n",
       "  <tbody>\n",
       "    <tr>\n",
       "      <th>4</th>\n",
       "      <td>California</td>\n",
       "      <td>CA</td>\n",
       "      <td>761.0</td>\n",
       "      <td>30017.95446</td>\n",
       "      <td>10000.0</td>\n",
       "      <td>1335.329376</td>\n",
       "      <td>13.35%</td>\n",
       "    </tr>\n",
       "    <tr>\n",
       "      <th>43</th>\n",
       "      <td>Texas</td>\n",
       "      <td>TX</td>\n",
       "      <td>569.0</td>\n",
       "      <td>20322.38590</td>\n",
       "      <td>10000.0</td>\n",
       "      <td>850.231101</td>\n",
       "      <td>8.50%</td>\n",
       "    </tr>\n",
       "    <tr>\n",
       "      <th>9</th>\n",
       "      <td>Florida</td>\n",
       "      <td>FL</td>\n",
       "      <td>627.0</td>\n",
       "      <td>19899.34268</td>\n",
       "      <td>10000.0</td>\n",
       "      <td>762.687518</td>\n",
       "      <td>7.63%</td>\n",
       "    </tr>\n",
       "    <tr>\n",
       "      <th>32</th>\n",
       "      <td>New York</td>\n",
       "      <td>NY</td>\n",
       "      <td>550.0</td>\n",
       "      <td>16433.60633</td>\n",
       "      <td>10000.0</td>\n",
       "      <td>597.654873</td>\n",
       "      <td>5.98%</td>\n",
       "    </tr>\n",
       "    <tr>\n",
       "      <th>38</th>\n",
       "      <td>Pennsylvania</td>\n",
       "      <td>PA</td>\n",
       "      <td>343.0</td>\n",
       "      <td>11279.28366</td>\n",
       "      <td>10000.0</td>\n",
       "      <td>444.698366</td>\n",
       "      <td>4.45%</td>\n",
       "    </tr>\n",
       "  </tbody>\n",
       "</table>\n",
       "</div>"
      ],
      "text/plain": [
       "      state_name state_code     CF  expected_value  total_NCF          NCF  \\\n",
       "4     California         CA  761.0     30017.95446    10000.0  1335.329376   \n",
       "43         Texas         TX  569.0     20322.38590    10000.0   850.231101   \n",
       "9        Florida         FL  627.0     19899.34268    10000.0   762.687518   \n",
       "32      New York         NY  550.0     16433.60633    10000.0   597.654873   \n",
       "38  Pennsylvania         PA  343.0     11279.28366    10000.0   444.698366   \n",
       "\n",
       "   CF_percentage  \n",
       "4         13.35%  \n",
       "43         8.50%  \n",
       "9          7.63%  \n",
       "32         5.98%  \n",
       "38         4.45%  "
      ]
     },
     "execution_count": 429,
     "metadata": {},
     "output_type": "execute_result"
    }
   ],
   "source": [
    "df = pd.read_csv(r'/Users/benjaminmao/Desktop/Rice/Freshman Second Semester/Datathon/Final Data/10.csv')\n",
    "print(\"The highest 5 states that receive new certified facilities(Total new certified facilities=10000)\")\n",
    "df.sort_values('NCF',ascending=False).head()"
   ]
  }
 ],
 "metadata": {
  "kernelspec": {
   "display_name": "Python 3 (ipykernel)",
   "language": "python",
   "name": "python3"
  },
  "language_info": {
   "codemirror_mode": {
    "name": "ipython",
    "version": 3
   },
   "file_extension": ".py",
   "mimetype": "text/x-python",
   "name": "python",
   "nbconvert_exporter": "python",
   "pygments_lexer": "ipython3",
   "version": "3.9.16"
  }
 },
 "nbformat": 4,
 "nbformat_minor": 5
}
